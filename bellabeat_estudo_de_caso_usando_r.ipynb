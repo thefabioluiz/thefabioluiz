{
  "cells": [
    {
      "cell_type": "markdown",
      "metadata": {
        "id": "view-in-github",
        "colab_type": "text"
      },
      "source": [
        "<a href=\"https://colab.research.google.com/github/thefabioluiz/thefabioluiz/blob/main/bellabeat_estudo_de_caso_usando_r.ipynb\" target=\"_parent\"><img src=\"https://colab.research.google.com/assets/colab-badge.svg\" alt=\"Open In Colab\"/></a>"
      ]
    },
    {
      "cell_type": "markdown",
      "id": "c2aa39c6",
      "metadata": {
        "papermill": {
          "duration": 0.016817,
          "end_time": "2023-08-20T02:19:40.477619",
          "exception": false,
          "start_time": "2023-08-20T02:19:40.460802",
          "status": "completed"
        },
        "tags": [],
        "id": "c2aa39c6"
      },
      "source": [
        "# Google Data Analytics: Estudo de caso de análise de dados Bellabeat usando linguagem R"
      ]
    },
    {
      "cell_type": "markdown",
      "id": "e0604697",
      "metadata": {
        "papermill": {
          "duration": 0.015291,
          "end_time": "2023-08-20T02:19:40.508587",
          "exception": false,
          "start_time": "2023-08-20T02:19:40.493296",
          "status": "completed"
        },
        "tags": [],
        "id": "e0604697"
      },
      "source": [
        "##### Fabio Luiz - 14/08/2023"
      ]
    },
    {
      "cell_type": "markdown",
      "id": "6cfcb15c",
      "metadata": {
        "papermill": {
          "duration": 0.016315,
          "end_time": "2023-08-20T02:19:40.540174",
          "exception": false,
          "start_time": "2023-08-20T02:19:40.523859",
          "status": "completed"
        },
        "tags": [],
        "id": "6cfcb15c"
      },
      "source": [
        "## Estudo de caso: Bellabeat Company"
      ]
    },
    {
      "cell_type": "markdown",
      "id": "f7264d55",
      "metadata": {
        "papermill": {
          "duration": 0.015321,
          "end_time": "2023-08-20T02:19:40.571003",
          "exception": false,
          "start_time": "2023-08-20T02:19:40.555682",
          "status": "completed"
        },
        "tags": [],
        "id": "f7264d55"
      },
      "source": [
        "### Introdução"
      ]
    },
    {
      "cell_type": "markdown",
      "id": "cadde4a0",
      "metadata": {
        "papermill": {
          "duration": 0.015667,
          "end_time": "2023-08-20T02:19:40.602043",
          "exception": false,
          "start_time": "2023-08-20T02:19:40.586376",
          "status": "completed"
        },
        "tags": [],
        "id": "cadde4a0"
      },
      "source": [
        "O projeto foi feito usando a linguagem de programação R por meio do Posit Cloud (anteriormente conhecido como RStudio Cloud). Para responder às principais perguntas de negócios, a análise segue as 6 etapas da Análise de Dados: Perguntar, Preparar, Processar, Analisar, Compartilhar e Agir, ensinadas no curso Google.\n"
      ]
    },
    {
      "cell_type": "markdown",
      "id": "600b835e",
      "metadata": {
        "papermill": {
          "duration": 0.015814,
          "end_time": "2023-08-20T02:19:40.633328",
          "exception": false,
          "start_time": "2023-08-20T02:19:40.617514",
          "status": "completed"
        },
        "tags": [],
        "id": "600b835e"
      },
      "source": [
        "### Sobre a empresa"
      ]
    },
    {
      "cell_type": "markdown",
      "id": "81bdcb9b",
      "metadata": {
        "papermill": {
          "duration": 0.015268,
          "end_time": "2023-08-20T02:19:40.664269",
          "exception": false,
          "start_time": "2023-08-20T02:19:40.649001",
          "status": "completed"
        },
        "tags": [],
        "id": "81bdcb9b"
      },
      "source": [
        "Bellabeat, uma fabricante de produtos de alta tecnologia voltados à saúde para mulheres. Desde que foi fundada em 2013, a Bellabeat cresceu rapidamente e não levou muito tempo para se posicionar como uma empresa de bem-estar voltada à tecnologia para mulheres.\n",
        "\n",
        "A Bellabeat possui em sua linha de produtos:\n",
        "\n",
        "O **aplicativo Bellabeat** que fornece as mulheres dados de saúde relacionados à sua atividade, sono, estresse, ciclo menstrual e hábitos de atenção plena;\n",
        "\n",
        "**Tecnologia Leaf**, um rastreador de bem-estar clássico da Bellabeat que pode ser usado como pulseira, colar ou clipe com conexão ao aplicativo Bellabeat para rastrear a atividade, o sono e o estresse;\n",
        "\n",
        "**Relógio de bem-estar Time**, tecnologia que combina a aparência atemporal de um relógio clássico com tecnologia inteligente para rastrear a atividade, o sono e o estresse da mulher. O relógio Time se conecta ao aplicativo Bellabeat para fornecer informações sobre seu bem-estar diário;\n",
        "\n",
        "**Spring**, uma garrafa de água que rastreia a ingestão diária de água por meio de tecnologia inteligente para garantir que você esteja adequadamente hidratado ao longo do dia. A garrafa Spring se conecta ao aplicativo Bellabeat para rastrear seus níveis de hidratação.\n"
      ]
    },
    {
      "cell_type": "markdown",
      "id": "fb04de5c",
      "metadata": {
        "papermill": {
          "duration": 0.015337,
          "end_time": "2023-08-20T02:19:40.694829",
          "exception": false,
          "start_time": "2023-08-20T02:19:40.679492",
          "status": "completed"
        },
        "tags": [],
        "id": "fb04de5c"
      },
      "source": [
        "### Cenário"
      ]
    },
    {
      "cell_type": "markdown",
      "id": "4e03fd0b",
      "metadata": {
        "papermill": {
          "duration": 0.015342,
          "end_time": "2023-08-20T02:19:40.725853",
          "exception": false,
          "start_time": "2023-08-20T02:19:40.710511",
          "status": "completed"
        },
        "tags": [],
        "id": "4e03fd0b"
      },
      "source": [
        "A proposta deste estudo de caso, foi de desempenhar atividades de um analista de dados júnior que trabalha na equipe de analistas de marketing da Bellabeat.\n",
        "\n",
        "Urška Sršen, cofundadora e CEO da Bellabeat, acredita que a análise de dados de condicionamento físico a partir de dispositivos inteligentes pode ajudar a abrir novas oportunidades de crescimento para a empresa.\n",
        "\n",
        "Recebi a demanda para focar em um dos produtos da Bellabeat e analisar os dados de dispositivos inteligentes para obter informações sobre como os consumidores estão usando esses dispositivos.  Os insights descobertos ajudarão a orientar a estratégia de marketing da empresa.\n",
        "\n",
        "A apresentação da minha análise será para à equipe executiva da Bellabeat juntamente com minhas recomendações para a estratégia de marketing da empresa.\n"
      ]
    },
    {
      "cell_type": "markdown",
      "id": "93cb749e",
      "metadata": {
        "papermill": {
          "duration": 0.01589,
          "end_time": "2023-08-20T02:19:40.757443",
          "exception": false,
          "start_time": "2023-08-20T02:19:40.741553",
          "status": "completed"
        },
        "tags": [],
        "id": "93cb749e"
      },
      "source": [
        "### Produtos\n"
      ]
    },
    {
      "cell_type": "markdown",
      "id": "0af08396",
      "metadata": {
        "papermill": {
          "duration": 0.015764,
          "end_time": "2023-08-20T02:19:40.789137",
          "exception": false,
          "start_time": "2023-08-20T02:19:40.773373",
          "status": "completed"
        },
        "tags": [],
        "id": "0af08396"
      },
      "source": [
        "**Bellabeat app:** Aplicativo que fornece aos usuários dados de saúde relacionados à sua atividade, sono, estresse, ciclo menstrual e hábitos de atenção plena. Esses dados podem ajudar os usuários a entender melhor seus hábitos atuais e tomar decisões saudáveis. O aplicativo Bellabeat se conecta à sua linha de produtos de bem-estar inteligentes.\n",
        "\n",
        "**Leaf:** o rastreador de bem-estar clássico da Bellabeat pode ser usado como pulseira, colar ou clipe. O rastreador Leaf se conecta ao aplicativo Bellabeat para rastrear atividade, sono e estresse.\n",
        "\n",
        "**Time:** Este relógio de bem-estar combina a aparência atemporal de um relógio clássico com tecnologia inteligente para rastrear a atividade, o sono e o estresse do usuário. O relógio Time se conecta ao aplicativo Bellabeat para fornecer informações sobre seu bem-estar diário.\n",
        "\n",
        "**Spring:** Esta é uma garrafa de água que rastreia a ingestão diária de água por meio de tecnologia inteligente para garantir que você esteja adequadamente hidratado ao longo do dia. A garrafa Spring se conecta ao aplicativo Bellabeat para rastrear seus níveis de hidratação.\n",
        "\n",
        "**Planos da Bellabeat:** A Bellabeat também oferece aos usuários diferentes planos de assinatura. As assinaturas oferecem aos usuários acesso 24 horas por dia, 7 dias por semana, orientação totalmente personalizada sobre nutrição, atividade, sono, saúde e beleza, além de atenção plena com base em seu estilo de vida e objetivos.\n",
        "\n"
      ]
    },
    {
      "cell_type": "markdown",
      "id": "04b2109b",
      "metadata": {
        "papermill": {
          "duration": 0.047229,
          "end_time": "2023-08-20T02:19:40.851884",
          "exception": false,
          "start_time": "2023-08-20T02:19:40.804655",
          "status": "completed"
        },
        "tags": [],
        "id": "04b2109b"
      },
      "source": [
        "### 1. Perguntar"
      ]
    },
    {
      "cell_type": "markdown",
      "id": "288559c3",
      "metadata": {
        "papermill": {
          "duration": 0.015597,
          "end_time": "2023-08-20T02:19:40.883094",
          "exception": false,
          "start_time": "2023-08-20T02:19:40.867497",
          "status": "completed"
        },
        "tags": [],
        "id": "288559c3"
      },
      "source": [
        "#### 1.2 Tarefa de negócios:\n",
        "\n",
        "Identificar oportunidades de crescimento e recomendações para a estratégia de marketing da Bellabeat, ao analisar como os consumidores fazem uso de dispositivos inteligentes que não são da Bellabeat."
      ]
    },
    {
      "cell_type": "markdown",
      "id": "405da7d3",
      "metadata": {
        "papermill": {
          "duration": 0.015255,
          "end_time": "2023-08-20T02:19:40.913963",
          "exception": false,
          "start_time": "2023-08-20T02:19:40.898708",
          "status": "completed"
        },
        "tags": [],
        "id": "405da7d3"
      },
      "source": [
        "#### 1.3 Perguntas para análise:\n",
        "\n",
        "1. Quais são algumas das tendências no uso de dispositivos inteligentes?\n",
        "2. Como essas tendências podem se aplicar aos clientes da Bellabeat?\n",
        "3. Como essas tendências podem ajudar a influenciar a estratégia de marketing da Bellabeat?"
      ]
    },
    {
      "cell_type": "markdown",
      "id": "1806f95d",
      "metadata": {
        "papermill": {
          "duration": 0.015669,
          "end_time": "2023-08-20T02:19:40.945100",
          "exception": false,
          "start_time": "2023-08-20T02:19:40.929431",
          "status": "completed"
        },
        "tags": [],
        "id": "1806f95d"
      },
      "source": [
        "#### 1.4 Principais partes interessadas\n",
        "\n",
        "**Urška Sršen:** Cofundadora e CEO da Bellabeat\n",
        "\n",
        "**Sando Mur:** Matemático e cofundador da Bellabeat, membro-chave da equipe executiva da Bellabeat\n",
        "\n",
        "**Equipe de análise de marketing da Bellabeat:** Uma equipe de analistas de dados responsável por coletar, analisar e relatar dados que ajudam a orientar a estratégia de marketing da Bellabeat\n"
      ]
    },
    {
      "cell_type": "markdown",
      "id": "e7b6912d",
      "metadata": {
        "papermill": {
          "duration": 0.015496,
          "end_time": "2023-08-20T02:19:40.976241",
          "exception": false,
          "start_time": "2023-08-20T02:19:40.960745",
          "status": "completed"
        },
        "tags": [],
        "id": "e7b6912d"
      },
      "source": [
        "### 2. Preparar"
      ]
    },
    {
      "cell_type": "markdown",
      "id": "ae2dbc5f",
      "metadata": {
        "papermill": {
          "duration": 0.015476,
          "end_time": "2023-08-20T02:19:41.007777",
          "exception": false,
          "start_time": "2023-08-20T02:19:40.992301",
          "status": "completed"
        },
        "tags": [],
        "id": "ae2dbc5f"
      },
      "source": [
        "#### 2.1 Conjunto de dados usado\n",
        "\n",
        "Vamos utilizar um conjunto de dados públicos disponível na plataforma [Kaggle FitBit Fitness Tracker Data](https://www.kaggle.com/datasets/arashnic/fitbit) de pesquisa distribuída via Amazon Mechanical Turk que exploram os hábitos diários dos usuários de dispositivos inteligentes.\n",
        "\n",
        "Os dados são de domínio público do FitBit Fitness Tracker Data, trata-se de um conjunto de dados de trinta usuários elegíveis do Fitbit que consentiram com o envio de dados pessoais do rastreador, incluindo saída em nível de minuto para atividade física, frequência cardíaca e monitoramento do sono. A variação entre a saída representa o uso de diferentes tipos de rastreadores Fitbit e preferências de rastreamento individuais."
      ]
    },
    {
      "cell_type": "markdown",
      "id": "ffb6a19f",
      "metadata": {
        "papermill": {
          "duration": 0.015164,
          "end_time": "2023-08-20T02:19:41.039320",
          "exception": false,
          "start_time": "2023-08-20T02:19:41.024156",
          "status": "completed"
        },
        "tags": [],
        "id": "ffb6a19f"
      },
      "source": [
        "#### 2.2 Informações sobre o conjunto de dados\n",
        "\n",
        "Este conjunto de dados público é composto por 18 arquivos CSV,  cada arquivo contém dados como, tempo de sono diário, passos diários, segundos de frequência cardíaca, etc. Os dados são organizados no formato longo, onde a coluna de Id (coluna A) identifica cada usuário e as demais colunas contêm atributos sobre o usuário."
      ]
    },
    {
      "cell_type": "markdown",
      "id": "90bbe7b2",
      "metadata": {
        "papermill": {
          "duration": 0.016436,
          "end_time": "2023-08-20T02:19:41.071162",
          "exception": false,
          "start_time": "2023-08-20T02:19:41.054726",
          "status": "completed"
        },
        "tags": [],
        "id": "90bbe7b2"
      },
      "source": [
        "#### 2.3 Determinar a credibilidade dos dados\n",
        "\n",
        "\n",
        "Para verificar a integridade e a credibilidade dos dados, usei o método apresentado no curso, **ROCCC (reliability, originality, comprehensiveness, current and cited)**.\n",
        "\n",
        "**Confiável**: Conjunto de dados não confiável. Considerando que o conjunto de dados reúne apenas informações de 33 usuários do FitBit ao longo de dois meses, existe a possibilidade de que os dados não sejam uma representação perfeita de todos os usuários do FitBit gerando um viés de amostragem.\n",
        "\n",
        "Entretanto, ainda é possível analisar o conjunto de dados e obter insights interessantes sobre os padrões dos usuários do FitBit durante o período.  \n",
        "\n",
        "**Original:** Este conjunto de dados não é original, foi inicialmente gerado pelos entrevistados para uma pesquisa distribuída via Amazon Mechanical Turk entre 03.12.2016-05.12.2016.\n",
        "\n",
        "**Abrangente:** Este conjunto de dados não é abrangente. Não há informações sobre os participantes, como: sexo, idade, profissão, cidade, etc.\n",
        "\n",
        "**Atual:** Esses dados foram coletados no ano de 2016, o que significa que estão atualmente desatualizados, a utilidade dos dados diminui com o passar dos anos.\n",
        "\n",
        "**Citado:** Dados coletados por terceiros, não é possível saber se esta é uma fonte confiável."
      ]
    },
    {
      "cell_type": "markdown",
      "id": "24541d89",
      "metadata": {
        "papermill": {
          "duration": 0.015611,
          "end_time": "2023-08-20T02:19:41.102423",
          "exception": false,
          "start_time": "2023-08-20T02:19:41.086812",
          "status": "completed"
        },
        "tags": [],
        "id": "24541d89"
      },
      "source": [
        "### 3. Processar\n"
      ]
    },
    {
      "cell_type": "markdown",
      "id": "d079afb9",
      "metadata": {
        "papermill": {
          "duration": 0.015443,
          "end_time": "2023-08-20T02:19:41.133532",
          "exception": false,
          "start_time": "2023-08-20T02:19:41.118089",
          "status": "completed"
        },
        "tags": [],
        "id": "d079afb9"
      },
      "source": [
        "Para este estudo de caso, escolhi usar apenas a linguagem de programação R por meio do Posit Cloud (anteriormente conhecido como RStudio Cloud). Minha escolha deve-se à acessibilidade na manipulação dos dados, com a capacidade de criar boas visualizações de dados e posteriormente compartilhar minhas descobertas e recomendações com as partes interessadas.\n"
      ]
    },
    {
      "cell_type": "markdown",
      "id": "02cf3e98",
      "metadata": {
        "papermill": {
          "duration": 0.015496,
          "end_time": "2023-08-20T02:19:41.164421",
          "exception": false,
          "start_time": "2023-08-20T02:19:41.148925",
          "status": "completed"
        },
        "tags": [],
        "id": "02cf3e98"
      },
      "source": [
        "#### 3.1 Preparando o ambiente\n",
        "\n",
        "Antes de começar a trabalhar com a exploração dos dados, vou instalar e baixar os pacotes que vão ajudar neste trabalho."
      ]
    },
    {
      "cell_type": "code",
      "execution_count": 5,
      "id": "11704586",
      "metadata": {
        "execution": {
          "iopub.execute_input": "2023-08-20T02:19:41.200858Z",
          "iopub.status.busy": "2023-08-20T02:19:41.198752Z",
          "iopub.status.idle": "2023-08-20T02:21:41.600322Z",
          "shell.execute_reply": "2023-08-20T02:21:41.598867Z"
        },
        "papermill": {
          "duration": 120.426568,
          "end_time": "2023-08-20T02:21:41.607119",
          "exception": false,
          "start_time": "2023-08-20T02:19:41.180551",
          "status": "completed"
        },
        "tags": [],
        "colab": {
          "base_uri": "https://localhost:8080/"
        },
        "id": "11704586",
        "outputId": "68e438d6-8076-4502-e263-5e4365415d54"
      },
      "outputs": [
        {
          "output_type": "stream",
          "name": "stderr",
          "text": [
            "Installing package into ‘/usr/local/lib/R/site-library’\n",
            "(as ‘lib’ is unspecified)\n",
            "\n",
            "Installing package into ‘/usr/local/lib/R/site-library’\n",
            "(as ‘lib’ is unspecified)\n",
            "\n"
          ]
        }
      ],
      "source": [
        "install.packages(\"tidyverse\")\n",
        "install.packages(\"lubridate\")\n"
      ]
    },
    {
      "cell_type": "code",
      "execution_count": 6,
      "id": "3f94edc4",
      "metadata": {
        "execution": {
          "iopub.execute_input": "2023-08-20T02:21:41.667345Z",
          "iopub.status.busy": "2023-08-20T02:21:41.641548Z",
          "iopub.status.idle": "2023-08-20T02:21:42.500217Z",
          "shell.execute_reply": "2023-08-20T02:21:42.498845Z"
        },
        "papermill": {
          "duration": 0.878772,
          "end_time": "2023-08-20T02:21:42.501952",
          "exception": false,
          "start_time": "2023-08-20T02:21:41.623180",
          "status": "completed"
        },
        "tags": [],
        "id": "3f94edc4"
      },
      "outputs": [],
      "source": [
        "library(tidyverse)\n",
        "library(lubridate)\n",
        "library(dplyr)"
      ]
    },
    {
      "cell_type": "markdown",
      "id": "c30292bd",
      "metadata": {
        "papermill": {
          "duration": 0.016225,
          "end_time": "2023-08-20T02:21:42.534139",
          "exception": false,
          "start_time": "2023-08-20T02:21:42.517914",
          "status": "completed"
        },
        "tags": [],
        "id": "c30292bd"
      },
      "source": [
        "#### 3.2 Importando conjuntos de dados\n",
        "Os dados que pretendo explorar estão distribuídos nas tabelas: dailyActivity_merge e hourlyIntensities_merged. Carreguei cada tabela em um objeto Data frame."
      ]
    },
    {
      "cell_type": "code",
      "execution_count": 7,
      "id": "143126a5",
      "metadata": {
        "execution": {
          "iopub.execute_input": "2023-08-20T02:21:42.569816Z",
          "iopub.status.busy": "2023-08-20T02:21:42.568109Z",
          "iopub.status.idle": "2023-08-20T02:21:42.918802Z",
          "shell.execute_reply": "2023-08-20T02:21:42.917392Z"
        },
        "papermill": {
          "duration": 0.370552,
          "end_time": "2023-08-20T02:21:42.920998",
          "exception": false,
          "start_time": "2023-08-20T02:21:42.550446",
          "status": "completed"
        },
        "tags": [],
        "colab": {
          "base_uri": "https://localhost:8080/"
        },
        "id": "143126a5",
        "outputId": "0b373768-8001-4f5d-8ba6-3608deebd573"
      },
      "outputs": [
        {
          "output_type": "stream",
          "name": "stderr",
          "text": [
            "\u001b[1mRows: \u001b[22m\u001b[34m940\u001b[39m \u001b[1mColumns: \u001b[22m\u001b[34m15\u001b[39m\n",
            "\u001b[36m──\u001b[39m \u001b[1mColumn specification\u001b[22m \u001b[36m────────────────────────────────────────────────────────\u001b[39m\n",
            "\u001b[1mDelimiter:\u001b[22m \",\"\n",
            "\u001b[31mchr\u001b[39m  (1): ActivityDate\n",
            "\u001b[32mdbl\u001b[39m (14): Id, TotalSteps, TotalDistance, TrackerDistance, LoggedActivitiesDi...\n",
            "\n",
            "\u001b[36mℹ\u001b[39m Use `spec()` to retrieve the full column specification for this data.\n",
            "\u001b[36mℹ\u001b[39m Specify the column types or set `show_col_types = FALSE` to quiet this message.\n",
            "\u001b[1mRows: \u001b[22m\u001b[34m22099\u001b[39m \u001b[1mColumns: \u001b[22m\u001b[34m4\u001b[39m\n",
            "\u001b[36m──\u001b[39m \u001b[1mColumn specification\u001b[22m \u001b[36m────────────────────────────────────────────────────────\u001b[39m\n",
            "\u001b[1mDelimiter:\u001b[22m \",\"\n",
            "\u001b[31mchr\u001b[39m (1): ActivityHour\n",
            "\u001b[32mdbl\u001b[39m (3): Id, TotalIntensity, AverageIntensity\n",
            "\n",
            "\u001b[36mℹ\u001b[39m Use `spec()` to retrieve the full column specification for this data.\n",
            "\u001b[36mℹ\u001b[39m Specify the column types or set `show_col_types = FALSE` to quiet this message.\n"
          ]
        }
      ],
      "source": [
        "#Banco de Dados kaggle\n",
        "#daily_activity <- read_csv(\"/kaggle/input/fitbit/Fitabase Data 4.12.16-5.12.16/dailyActivity_merged.csv\")\n",
        "#hourly_intensities <- read_csv(\"/kaggle/input/fitbit/Fitabase Data 4.12.16-5.12.16/hourlyIntensities_merged.csv\")\n",
        "\n",
        "## conjuntos de dados\n",
        "daily_activity <- read_csv(\"dailyActivity_merged.csv\")\n",
        "hourly_intensities <- read_csv(\"hourlyIntensities_merged.csv\")"
      ]
    },
    {
      "cell_type": "markdown",
      "id": "6f6feb55",
      "metadata": {
        "papermill": {
          "duration": 0.015983,
          "end_time": "2023-08-20T02:21:42.953735",
          "exception": false,
          "start_time": "2023-08-20T02:21:42.937752",
          "status": "completed"
        },
        "tags": [],
        "id": "6f6feb55"
      },
      "source": [
        "#### 3.3 Visualizar conjuntos de dados\n",
        "Vou usar o método head() para visualizar as primeiras linhas das tabelas de dados à serem exploradas."
      ]
    },
    {
      "cell_type": "code",
      "execution_count": 8,
      "id": "c2e03ea1",
      "metadata": {
        "execution": {
          "iopub.execute_input": "2023-08-20T02:21:42.988926Z",
          "iopub.status.busy": "2023-08-20T02:21:42.987775Z",
          "iopub.status.idle": "2023-08-20T02:21:43.041799Z",
          "shell.execute_reply": "2023-08-20T02:21:43.040560Z"
        },
        "papermill": {
          "duration": 0.073974,
          "end_time": "2023-08-20T02:21:43.043850",
          "exception": false,
          "start_time": "2023-08-20T02:21:42.969876",
          "status": "completed"
        },
        "tags": [],
        "id": "c2e03ea1",
        "colab": {
          "base_uri": "https://localhost:8080/",
          "height": 575
        },
        "outputId": "45e22d4a-6a5a-41b4-f661-9d0dc128618b"
      },
      "outputs": [
        {
          "output_type": "display_data",
          "data": {
            "text/html": [
              "<table class=\"dataframe\">\n",
              "<caption>A tibble: 6 × 15</caption>\n",
              "<thead>\n",
              "\t<tr><th scope=col>Id</th><th scope=col>ActivityDate</th><th scope=col>TotalSteps</th><th scope=col>TotalDistance</th><th scope=col>TrackerDistance</th><th scope=col>LoggedActivitiesDistance</th><th scope=col>VeryActiveDistance</th><th scope=col>ModeratelyActiveDistance</th><th scope=col>LightActiveDistance</th><th scope=col>SedentaryActiveDistance</th><th scope=col>VeryActiveMinutes</th><th scope=col>FairlyActiveMinutes</th><th scope=col>LightlyActiveMinutes</th><th scope=col>SedentaryMinutes</th><th scope=col>Calories</th></tr>\n",
              "\t<tr><th scope=col>&lt;dbl&gt;</th><th scope=col>&lt;chr&gt;</th><th scope=col>&lt;dbl&gt;</th><th scope=col>&lt;dbl&gt;</th><th scope=col>&lt;dbl&gt;</th><th scope=col>&lt;dbl&gt;</th><th scope=col>&lt;dbl&gt;</th><th scope=col>&lt;dbl&gt;</th><th scope=col>&lt;dbl&gt;</th><th scope=col>&lt;dbl&gt;</th><th scope=col>&lt;dbl&gt;</th><th scope=col>&lt;dbl&gt;</th><th scope=col>&lt;dbl&gt;</th><th scope=col>&lt;dbl&gt;</th><th scope=col>&lt;dbl&gt;</th></tr>\n",
              "</thead>\n",
              "<tbody>\n",
              "\t<tr><td>1503960366</td><td>4/12/2016</td><td>13162</td><td>8.50</td><td>8.50</td><td>0</td><td>1.88</td><td>0.55</td><td>6.06</td><td>0</td><td>25</td><td>13</td><td>328</td><td> 728</td><td>1985</td></tr>\n",
              "\t<tr><td>1503960366</td><td>4/13/2016</td><td>10735</td><td>6.97</td><td>6.97</td><td>0</td><td>1.57</td><td>0.69</td><td>4.71</td><td>0</td><td>21</td><td>19</td><td>217</td><td> 776</td><td>1797</td></tr>\n",
              "\t<tr><td>1503960366</td><td>4/14/2016</td><td>10460</td><td>6.74</td><td>6.74</td><td>0</td><td>2.44</td><td>0.40</td><td>3.91</td><td>0</td><td>30</td><td>11</td><td>181</td><td>1218</td><td>1776</td></tr>\n",
              "\t<tr><td>1503960366</td><td>4/15/2016</td><td> 9762</td><td>6.28</td><td>6.28</td><td>0</td><td>2.14</td><td>1.26</td><td>2.83</td><td>0</td><td>29</td><td>34</td><td>209</td><td> 726</td><td>1745</td></tr>\n",
              "\t<tr><td>1503960366</td><td>4/16/2016</td><td>12669</td><td>8.16</td><td>8.16</td><td>0</td><td>2.71</td><td>0.41</td><td>5.04</td><td>0</td><td>36</td><td>10</td><td>221</td><td> 773</td><td>1863</td></tr>\n",
              "\t<tr><td>1503960366</td><td>4/17/2016</td><td> 9705</td><td>6.48</td><td>6.48</td><td>0</td><td>3.19</td><td>0.78</td><td>2.51</td><td>0</td><td>38</td><td>20</td><td>164</td><td> 539</td><td>1728</td></tr>\n",
              "</tbody>\n",
              "</table>\n"
            ],
            "text/markdown": "\nA tibble: 6 × 15\n\n| Id &lt;dbl&gt; | ActivityDate &lt;chr&gt; | TotalSteps &lt;dbl&gt; | TotalDistance &lt;dbl&gt; | TrackerDistance &lt;dbl&gt; | LoggedActivitiesDistance &lt;dbl&gt; | VeryActiveDistance &lt;dbl&gt; | ModeratelyActiveDistance &lt;dbl&gt; | LightActiveDistance &lt;dbl&gt; | SedentaryActiveDistance &lt;dbl&gt; | VeryActiveMinutes &lt;dbl&gt; | FairlyActiveMinutes &lt;dbl&gt; | LightlyActiveMinutes &lt;dbl&gt; | SedentaryMinutes &lt;dbl&gt; | Calories &lt;dbl&gt; |\n|---|---|---|---|---|---|---|---|---|---|---|---|---|---|---|\n| 1503960366 | 4/12/2016 | 13162 | 8.50 | 8.50 | 0 | 1.88 | 0.55 | 6.06 | 0 | 25 | 13 | 328 |  728 | 1985 |\n| 1503960366 | 4/13/2016 | 10735 | 6.97 | 6.97 | 0 | 1.57 | 0.69 | 4.71 | 0 | 21 | 19 | 217 |  776 | 1797 |\n| 1503960366 | 4/14/2016 | 10460 | 6.74 | 6.74 | 0 | 2.44 | 0.40 | 3.91 | 0 | 30 | 11 | 181 | 1218 | 1776 |\n| 1503960366 | 4/15/2016 |  9762 | 6.28 | 6.28 | 0 | 2.14 | 1.26 | 2.83 | 0 | 29 | 34 | 209 |  726 | 1745 |\n| 1503960366 | 4/16/2016 | 12669 | 8.16 | 8.16 | 0 | 2.71 | 0.41 | 5.04 | 0 | 36 | 10 | 221 |  773 | 1863 |\n| 1503960366 | 4/17/2016 |  9705 | 6.48 | 6.48 | 0 | 3.19 | 0.78 | 2.51 | 0 | 38 | 20 | 164 |  539 | 1728 |\n\n",
            "text/latex": "A tibble: 6 × 15\n\\begin{tabular}{lllllllllllllll}\n Id & ActivityDate & TotalSteps & TotalDistance & TrackerDistance & LoggedActivitiesDistance & VeryActiveDistance & ModeratelyActiveDistance & LightActiveDistance & SedentaryActiveDistance & VeryActiveMinutes & FairlyActiveMinutes & LightlyActiveMinutes & SedentaryMinutes & Calories\\\\\n <dbl> & <chr> & <dbl> & <dbl> & <dbl> & <dbl> & <dbl> & <dbl> & <dbl> & <dbl> & <dbl> & <dbl> & <dbl> & <dbl> & <dbl>\\\\\n\\hline\n\t 1503960366 & 4/12/2016 & 13162 & 8.50 & 8.50 & 0 & 1.88 & 0.55 & 6.06 & 0 & 25 & 13 & 328 &  728 & 1985\\\\\n\t 1503960366 & 4/13/2016 & 10735 & 6.97 & 6.97 & 0 & 1.57 & 0.69 & 4.71 & 0 & 21 & 19 & 217 &  776 & 1797\\\\\n\t 1503960366 & 4/14/2016 & 10460 & 6.74 & 6.74 & 0 & 2.44 & 0.40 & 3.91 & 0 & 30 & 11 & 181 & 1218 & 1776\\\\\n\t 1503960366 & 4/15/2016 &  9762 & 6.28 & 6.28 & 0 & 2.14 & 1.26 & 2.83 & 0 & 29 & 34 & 209 &  726 & 1745\\\\\n\t 1503960366 & 4/16/2016 & 12669 & 8.16 & 8.16 & 0 & 2.71 & 0.41 & 5.04 & 0 & 36 & 10 & 221 &  773 & 1863\\\\\n\t 1503960366 & 4/17/2016 &  9705 & 6.48 & 6.48 & 0 & 3.19 & 0.78 & 2.51 & 0 & 38 & 20 & 164 &  539 & 1728\\\\\n\\end{tabular}\n",
            "text/plain": [
              "  Id         ActivityDate TotalSteps TotalDistance TrackerDistance\n",
              "1 1503960366 4/12/2016    13162      8.50          8.50           \n",
              "2 1503960366 4/13/2016    10735      6.97          6.97           \n",
              "3 1503960366 4/14/2016    10460      6.74          6.74           \n",
              "4 1503960366 4/15/2016     9762      6.28          6.28           \n",
              "5 1503960366 4/16/2016    12669      8.16          8.16           \n",
              "6 1503960366 4/17/2016     9705      6.48          6.48           \n",
              "  LoggedActivitiesDistance VeryActiveDistance ModeratelyActiveDistance\n",
              "1 0                        1.88               0.55                    \n",
              "2 0                        1.57               0.69                    \n",
              "3 0                        2.44               0.40                    \n",
              "4 0                        2.14               1.26                    \n",
              "5 0                        2.71               0.41                    \n",
              "6 0                        3.19               0.78                    \n",
              "  LightActiveDistance SedentaryActiveDistance VeryActiveMinutes\n",
              "1 6.06                0                       25               \n",
              "2 4.71                0                       21               \n",
              "3 3.91                0                       30               \n",
              "4 2.83                0                       29               \n",
              "5 5.04                0                       36               \n",
              "6 2.51                0                       38               \n",
              "  FairlyActiveMinutes LightlyActiveMinutes SedentaryMinutes Calories\n",
              "1 13                  328                   728             1985    \n",
              "2 19                  217                   776             1797    \n",
              "3 11                  181                  1218             1776    \n",
              "4 34                  209                   726             1745    \n",
              "5 10                  221                   773             1863    \n",
              "6 20                  164                   539             1728    "
            ]
          },
          "metadata": {}
        },
        {
          "output_type": "display_data",
          "data": {
            "text/html": [
              "<table class=\"dataframe\">\n",
              "<caption>A tibble: 6 × 4</caption>\n",
              "<thead>\n",
              "\t<tr><th scope=col>Id</th><th scope=col>ActivityHour</th><th scope=col>TotalIntensity</th><th scope=col>AverageIntensity</th></tr>\n",
              "\t<tr><th scope=col>&lt;dbl&gt;</th><th scope=col>&lt;chr&gt;</th><th scope=col>&lt;dbl&gt;</th><th scope=col>&lt;dbl&gt;</th></tr>\n",
              "</thead>\n",
              "<tbody>\n",
              "\t<tr><td>1503960366</td><td>4/12/2016 12:00:00 AM</td><td>20</td><td>0.333333</td></tr>\n",
              "\t<tr><td>1503960366</td><td>4/12/2016 1:00:00 AM </td><td> 8</td><td>0.133333</td></tr>\n",
              "\t<tr><td>1503960366</td><td>4/12/2016 2:00:00 AM </td><td> 7</td><td>0.116667</td></tr>\n",
              "\t<tr><td>1503960366</td><td>4/12/2016 3:00:00 AM </td><td> 0</td><td>0.000000</td></tr>\n",
              "\t<tr><td>1503960366</td><td>4/12/2016 4:00:00 AM </td><td> 0</td><td>0.000000</td></tr>\n",
              "\t<tr><td>1503960366</td><td>4/12/2016 5:00:00 AM </td><td> 0</td><td>0.000000</td></tr>\n",
              "</tbody>\n",
              "</table>\n"
            ],
            "text/markdown": "\nA tibble: 6 × 4\n\n| Id &lt;dbl&gt; | ActivityHour &lt;chr&gt; | TotalIntensity &lt;dbl&gt; | AverageIntensity &lt;dbl&gt; |\n|---|---|---|---|\n| 1503960366 | 4/12/2016 12:00:00 AM | 20 | 0.333333 |\n| 1503960366 | 4/12/2016 1:00:00 AM  |  8 | 0.133333 |\n| 1503960366 | 4/12/2016 2:00:00 AM  |  7 | 0.116667 |\n| 1503960366 | 4/12/2016 3:00:00 AM  |  0 | 0.000000 |\n| 1503960366 | 4/12/2016 4:00:00 AM  |  0 | 0.000000 |\n| 1503960366 | 4/12/2016 5:00:00 AM  |  0 | 0.000000 |\n\n",
            "text/latex": "A tibble: 6 × 4\n\\begin{tabular}{llll}\n Id & ActivityHour & TotalIntensity & AverageIntensity\\\\\n <dbl> & <chr> & <dbl> & <dbl>\\\\\n\\hline\n\t 1503960366 & 4/12/2016 12:00:00 AM & 20 & 0.333333\\\\\n\t 1503960366 & 4/12/2016 1:00:00 AM  &  8 & 0.133333\\\\\n\t 1503960366 & 4/12/2016 2:00:00 AM  &  7 & 0.116667\\\\\n\t 1503960366 & 4/12/2016 3:00:00 AM  &  0 & 0.000000\\\\\n\t 1503960366 & 4/12/2016 4:00:00 AM  &  0 & 0.000000\\\\\n\t 1503960366 & 4/12/2016 5:00:00 AM  &  0 & 0.000000\\\\\n\\end{tabular}\n",
            "text/plain": [
              "  Id         ActivityHour          TotalIntensity AverageIntensity\n",
              "1 1503960366 4/12/2016 12:00:00 AM 20             0.333333        \n",
              "2 1503960366 4/12/2016 1:00:00 AM   8             0.133333        \n",
              "3 1503960366 4/12/2016 2:00:00 AM   7             0.116667        \n",
              "4 1503960366 4/12/2016 3:00:00 AM   0             0.000000        \n",
              "5 1503960366 4/12/2016 4:00:00 AM   0             0.000000        \n",
              "6 1503960366 4/12/2016 5:00:00 AM   0             0.000000        "
            ]
          },
          "metadata": {}
        }
      ],
      "source": [
        "## preview datas\n",
        "head(daily_activity)\n",
        "head(hourly_intensities)"
      ]
    },
    {
      "cell_type": "code",
      "execution_count": 9,
      "id": "bf387469",
      "metadata": {
        "execution": {
          "iopub.execute_input": "2023-08-20T02:21:43.080325Z",
          "iopub.status.busy": "2023-08-20T02:21:43.079025Z",
          "iopub.status.idle": "2023-08-20T02:21:43.125107Z",
          "shell.execute_reply": "2023-08-20T02:21:43.123787Z"
        },
        "papermill": {
          "duration": 0.066418,
          "end_time": "2023-08-20T02:21:43.126861",
          "exception": false,
          "start_time": "2023-08-20T02:21:43.060443",
          "status": "completed"
        },
        "tags": [],
        "id": "bf387469",
        "colab": {
          "base_uri": "https://localhost:8080/",
          "height": 575
        },
        "outputId": "67b4f806-f5ec-453e-e04d-e87298e916be"
      },
      "outputs": [
        {
          "output_type": "display_data",
          "data": {
            "text/html": [
              "<table class=\"dataframe\">\n",
              "<caption>A tibble: 6 × 15</caption>\n",
              "<thead>\n",
              "\t<tr><th scope=col>Id</th><th scope=col>ActivityDate</th><th scope=col>TotalSteps</th><th scope=col>TotalDistance</th><th scope=col>TrackerDistance</th><th scope=col>LoggedActivitiesDistance</th><th scope=col>VeryActiveDistance</th><th scope=col>ModeratelyActiveDistance</th><th scope=col>LightActiveDistance</th><th scope=col>SedentaryActiveDistance</th><th scope=col>VeryActiveMinutes</th><th scope=col>FairlyActiveMinutes</th><th scope=col>LightlyActiveMinutes</th><th scope=col>SedentaryMinutes</th><th scope=col>Calories</th></tr>\n",
              "\t<tr><th scope=col>&lt;dbl&gt;</th><th scope=col>&lt;chr&gt;</th><th scope=col>&lt;dbl&gt;</th><th scope=col>&lt;dbl&gt;</th><th scope=col>&lt;dbl&gt;</th><th scope=col>&lt;dbl&gt;</th><th scope=col>&lt;dbl&gt;</th><th scope=col>&lt;dbl&gt;</th><th scope=col>&lt;dbl&gt;</th><th scope=col>&lt;dbl&gt;</th><th scope=col>&lt;dbl&gt;</th><th scope=col>&lt;dbl&gt;</th><th scope=col>&lt;dbl&gt;</th><th scope=col>&lt;dbl&gt;</th><th scope=col>&lt;dbl&gt;</th></tr>\n",
              "</thead>\n",
              "<tbody>\n",
              "\t<tr><td>8877689391</td><td>5/7/2016 </td><td>12332</td><td> 8.13</td><td> 8.13</td><td>0</td><td> 0.08</td><td>0.96</td><td>6.99</td><td>0.00</td><td>105</td><td>28</td><td>271</td><td>1036</td><td>4142</td></tr>\n",
              "\t<tr><td>8877689391</td><td>5/8/2016 </td><td>10686</td><td> 8.11</td><td> 8.11</td><td>0</td><td> 1.08</td><td>0.20</td><td>6.80</td><td>0.00</td><td> 17</td><td> 4</td><td>245</td><td>1174</td><td>2847</td></tr>\n",
              "\t<tr><td>8877689391</td><td>5/9/2016 </td><td>20226</td><td>18.25</td><td>18.25</td><td>0</td><td>11.10</td><td>0.80</td><td>6.24</td><td>0.05</td><td> 73</td><td>19</td><td>217</td><td>1131</td><td>3710</td></tr>\n",
              "\t<tr><td>8877689391</td><td>5/10/2016</td><td>10733</td><td> 8.15</td><td> 8.15</td><td>0</td><td> 1.35</td><td>0.46</td><td>6.28</td><td>0.00</td><td> 18</td><td>11</td><td>224</td><td>1187</td><td>2832</td></tr>\n",
              "\t<tr><td>8877689391</td><td>5/11/2016</td><td>21420</td><td>19.56</td><td>19.56</td><td>0</td><td>13.22</td><td>0.41</td><td>5.89</td><td>0.00</td><td> 88</td><td>12</td><td>213</td><td>1127</td><td>3832</td></tr>\n",
              "\t<tr><td>8877689391</td><td>5/12/2016</td><td> 8064</td><td> 6.12</td><td> 6.12</td><td>0</td><td> 1.82</td><td>0.04</td><td>4.25</td><td>0.00</td><td> 23</td><td> 1</td><td>137</td><td> 770</td><td>1849</td></tr>\n",
              "</tbody>\n",
              "</table>\n"
            ],
            "text/markdown": "\nA tibble: 6 × 15\n\n| Id &lt;dbl&gt; | ActivityDate &lt;chr&gt; | TotalSteps &lt;dbl&gt; | TotalDistance &lt;dbl&gt; | TrackerDistance &lt;dbl&gt; | LoggedActivitiesDistance &lt;dbl&gt; | VeryActiveDistance &lt;dbl&gt; | ModeratelyActiveDistance &lt;dbl&gt; | LightActiveDistance &lt;dbl&gt; | SedentaryActiveDistance &lt;dbl&gt; | VeryActiveMinutes &lt;dbl&gt; | FairlyActiveMinutes &lt;dbl&gt; | LightlyActiveMinutes &lt;dbl&gt; | SedentaryMinutes &lt;dbl&gt; | Calories &lt;dbl&gt; |\n|---|---|---|---|---|---|---|---|---|---|---|---|---|---|---|\n| 8877689391 | 5/7/2016  | 12332 |  8.13 |  8.13 | 0 |  0.08 | 0.96 | 6.99 | 0.00 | 105 | 28 | 271 | 1036 | 4142 |\n| 8877689391 | 5/8/2016  | 10686 |  8.11 |  8.11 | 0 |  1.08 | 0.20 | 6.80 | 0.00 |  17 |  4 | 245 | 1174 | 2847 |\n| 8877689391 | 5/9/2016  | 20226 | 18.25 | 18.25 | 0 | 11.10 | 0.80 | 6.24 | 0.05 |  73 | 19 | 217 | 1131 | 3710 |\n| 8877689391 | 5/10/2016 | 10733 |  8.15 |  8.15 | 0 |  1.35 | 0.46 | 6.28 | 0.00 |  18 | 11 | 224 | 1187 | 2832 |\n| 8877689391 | 5/11/2016 | 21420 | 19.56 | 19.56 | 0 | 13.22 | 0.41 | 5.89 | 0.00 |  88 | 12 | 213 | 1127 | 3832 |\n| 8877689391 | 5/12/2016 |  8064 |  6.12 |  6.12 | 0 |  1.82 | 0.04 | 4.25 | 0.00 |  23 |  1 | 137 |  770 | 1849 |\n\n",
            "text/latex": "A tibble: 6 × 15\n\\begin{tabular}{lllllllllllllll}\n Id & ActivityDate & TotalSteps & TotalDistance & TrackerDistance & LoggedActivitiesDistance & VeryActiveDistance & ModeratelyActiveDistance & LightActiveDistance & SedentaryActiveDistance & VeryActiveMinutes & FairlyActiveMinutes & LightlyActiveMinutes & SedentaryMinutes & Calories\\\\\n <dbl> & <chr> & <dbl> & <dbl> & <dbl> & <dbl> & <dbl> & <dbl> & <dbl> & <dbl> & <dbl> & <dbl> & <dbl> & <dbl> & <dbl>\\\\\n\\hline\n\t 8877689391 & 5/7/2016  & 12332 &  8.13 &  8.13 & 0 &  0.08 & 0.96 & 6.99 & 0.00 & 105 & 28 & 271 & 1036 & 4142\\\\\n\t 8877689391 & 5/8/2016  & 10686 &  8.11 &  8.11 & 0 &  1.08 & 0.20 & 6.80 & 0.00 &  17 &  4 & 245 & 1174 & 2847\\\\\n\t 8877689391 & 5/9/2016  & 20226 & 18.25 & 18.25 & 0 & 11.10 & 0.80 & 6.24 & 0.05 &  73 & 19 & 217 & 1131 & 3710\\\\\n\t 8877689391 & 5/10/2016 & 10733 &  8.15 &  8.15 & 0 &  1.35 & 0.46 & 6.28 & 0.00 &  18 & 11 & 224 & 1187 & 2832\\\\\n\t 8877689391 & 5/11/2016 & 21420 & 19.56 & 19.56 & 0 & 13.22 & 0.41 & 5.89 & 0.00 &  88 & 12 & 213 & 1127 & 3832\\\\\n\t 8877689391 & 5/12/2016 &  8064 &  6.12 &  6.12 & 0 &  1.82 & 0.04 & 4.25 & 0.00 &  23 &  1 & 137 &  770 & 1849\\\\\n\\end{tabular}\n",
            "text/plain": [
              "  Id         ActivityDate TotalSteps TotalDistance TrackerDistance\n",
              "1 8877689391 5/7/2016     12332       8.13          8.13          \n",
              "2 8877689391 5/8/2016     10686       8.11          8.11          \n",
              "3 8877689391 5/9/2016     20226      18.25         18.25          \n",
              "4 8877689391 5/10/2016    10733       8.15          8.15          \n",
              "5 8877689391 5/11/2016    21420      19.56         19.56          \n",
              "6 8877689391 5/12/2016     8064       6.12          6.12          \n",
              "  LoggedActivitiesDistance VeryActiveDistance ModeratelyActiveDistance\n",
              "1 0                         0.08              0.96                    \n",
              "2 0                         1.08              0.20                    \n",
              "3 0                        11.10              0.80                    \n",
              "4 0                         1.35              0.46                    \n",
              "5 0                        13.22              0.41                    \n",
              "6 0                         1.82              0.04                    \n",
              "  LightActiveDistance SedentaryActiveDistance VeryActiveMinutes\n",
              "1 6.99                0.00                    105              \n",
              "2 6.80                0.00                     17              \n",
              "3 6.24                0.05                     73              \n",
              "4 6.28                0.00                     18              \n",
              "5 5.89                0.00                     88              \n",
              "6 4.25                0.00                     23              \n",
              "  FairlyActiveMinutes LightlyActiveMinutes SedentaryMinutes Calories\n",
              "1 28                  271                  1036             4142    \n",
              "2  4                  245                  1174             2847    \n",
              "3 19                  217                  1131             3710    \n",
              "4 11                  224                  1187             2832    \n",
              "5 12                  213                  1127             3832    \n",
              "6  1                  137                   770             1849    "
            ]
          },
          "metadata": {}
        },
        {
          "output_type": "display_data",
          "data": {
            "text/html": [
              "<table class=\"dataframe\">\n",
              "<caption>A tibble: 6 × 4</caption>\n",
              "<thead>\n",
              "\t<tr><th scope=col>Id</th><th scope=col>ActivityHour</th><th scope=col>TotalIntensity</th><th scope=col>AverageIntensity</th></tr>\n",
              "\t<tr><th scope=col>&lt;dbl&gt;</th><th scope=col>&lt;chr&gt;</th><th scope=col>&lt;dbl&gt;</th><th scope=col>&lt;dbl&gt;</th></tr>\n",
              "</thead>\n",
              "<tbody>\n",
              "\t<tr><td>8877689391</td><td>5/12/2016 9:00:00 AM </td><td> 4</td><td>0.066667</td></tr>\n",
              "\t<tr><td>8877689391</td><td>5/12/2016 10:00:00 AM</td><td>12</td><td>0.200000</td></tr>\n",
              "\t<tr><td>8877689391</td><td>5/12/2016 11:00:00 AM</td><td>29</td><td>0.483333</td></tr>\n",
              "\t<tr><td>8877689391</td><td>5/12/2016 12:00:00 PM</td><td>93</td><td>1.550000</td></tr>\n",
              "\t<tr><td>8877689391</td><td>5/12/2016 1:00:00 PM </td><td> 6</td><td>0.100000</td></tr>\n",
              "\t<tr><td>8877689391</td><td>5/12/2016 2:00:00 PM </td><td> 9</td><td>0.150000</td></tr>\n",
              "</tbody>\n",
              "</table>\n"
            ],
            "text/markdown": "\nA tibble: 6 × 4\n\n| Id &lt;dbl&gt; | ActivityHour &lt;chr&gt; | TotalIntensity &lt;dbl&gt; | AverageIntensity &lt;dbl&gt; |\n|---|---|---|---|\n| 8877689391 | 5/12/2016 9:00:00 AM  |  4 | 0.066667 |\n| 8877689391 | 5/12/2016 10:00:00 AM | 12 | 0.200000 |\n| 8877689391 | 5/12/2016 11:00:00 AM | 29 | 0.483333 |\n| 8877689391 | 5/12/2016 12:00:00 PM | 93 | 1.550000 |\n| 8877689391 | 5/12/2016 1:00:00 PM  |  6 | 0.100000 |\n| 8877689391 | 5/12/2016 2:00:00 PM  |  9 | 0.150000 |\n\n",
            "text/latex": "A tibble: 6 × 4\n\\begin{tabular}{llll}\n Id & ActivityHour & TotalIntensity & AverageIntensity\\\\\n <dbl> & <chr> & <dbl> & <dbl>\\\\\n\\hline\n\t 8877689391 & 5/12/2016 9:00:00 AM  &  4 & 0.066667\\\\\n\t 8877689391 & 5/12/2016 10:00:00 AM & 12 & 0.200000\\\\\n\t 8877689391 & 5/12/2016 11:00:00 AM & 29 & 0.483333\\\\\n\t 8877689391 & 5/12/2016 12:00:00 PM & 93 & 1.550000\\\\\n\t 8877689391 & 5/12/2016 1:00:00 PM  &  6 & 0.100000\\\\\n\t 8877689391 & 5/12/2016 2:00:00 PM  &  9 & 0.150000\\\\\n\\end{tabular}\n",
            "text/plain": [
              "  Id         ActivityHour          TotalIntensity AverageIntensity\n",
              "1 8877689391 5/12/2016 9:00:00 AM   4             0.066667        \n",
              "2 8877689391 5/12/2016 10:00:00 AM 12             0.200000        \n",
              "3 8877689391 5/12/2016 11:00:00 AM 29             0.483333        \n",
              "4 8877689391 5/12/2016 12:00:00 PM 93             1.550000        \n",
              "5 8877689391 5/12/2016 1:00:00 PM   6             0.100000        \n",
              "6 8877689391 5/12/2016 2:00:00 PM   9             0.150000        "
            ]
          },
          "metadata": {}
        }
      ],
      "source": [
        "tail(daily_activity)\n",
        "tail(hourly_intensities)"
      ]
    },
    {
      "cell_type": "markdown",
      "id": "aeb95be9",
      "metadata": {
        "papermill": {
          "duration": 0.018108,
          "end_time": "2023-08-20T02:21:43.162223",
          "exception": false,
          "start_time": "2023-08-20T02:21:43.144115",
          "status": "completed"
        },
        "tags": [],
        "id": "aeb95be9"
      },
      "source": [
        "O período inicial dos nossos dados começam em 12/04/2016 e terminam em 12/05/2016.\n",
        "Diante da visão geral das tabelas, checarei agora a estrutura dos conjuntos de dados buscando informações sobre possíveis variáveis a serem analisadas."
      ]
    },
    {
      "cell_type": "markdown",
      "id": "15476a66",
      "metadata": {
        "papermill": {
          "duration": 0.017784,
          "end_time": "2023-08-20T02:21:43.198235",
          "exception": false,
          "start_time": "2023-08-20T02:21:43.180451",
          "status": "completed"
        },
        "tags": [],
        "id": "15476a66"
      },
      "source": [
        "#### 3.4 Estrutura dos conjuntos de dados"
      ]
    },
    {
      "cell_type": "code",
      "execution_count": 10,
      "id": "780ff89f",
      "metadata": {
        "execution": {
          "iopub.execute_input": "2023-08-20T02:21:43.236623Z",
          "iopub.status.busy": "2023-08-20T02:21:43.235292Z",
          "iopub.status.idle": "2023-08-20T02:21:43.271755Z",
          "shell.execute_reply": "2023-08-20T02:21:43.270503Z"
        },
        "papermill": {
          "duration": 0.057824,
          "end_time": "2023-08-20T02:21:43.273577",
          "exception": false,
          "start_time": "2023-08-20T02:21:43.215753",
          "status": "completed"
        },
        "tags": [],
        "id": "780ff89f",
        "colab": {
          "base_uri": "https://localhost:8080/"
        },
        "outputId": "6af2604d-90eb-4d5d-eee1-8f5c58cc2a32"
      },
      "outputs": [
        {
          "output_type": "stream",
          "name": "stdout",
          "text": [
            "spc_tbl_ [940 × 15] (S3: spec_tbl_df/tbl_df/tbl/data.frame)\n",
            " $ Id                      : num [1:940] 1.5e+09 1.5e+09 1.5e+09 1.5e+09 1.5e+09 ...\n",
            " $ ActivityDate            : chr [1:940] \"4/12/2016\" \"4/13/2016\" \"4/14/2016\" \"4/15/2016\" ...\n",
            " $ TotalSteps              : num [1:940] 13162 10735 10460 9762 12669 ...\n",
            " $ TotalDistance           : num [1:940] 8.5 6.97 6.74 6.28 8.16 ...\n",
            " $ TrackerDistance         : num [1:940] 8.5 6.97 6.74 6.28 8.16 ...\n",
            " $ LoggedActivitiesDistance: num [1:940] 0 0 0 0 0 0 0 0 0 0 ...\n",
            " $ VeryActiveDistance      : num [1:940] 1.88 1.57 2.44 2.14 2.71 ...\n",
            " $ ModeratelyActiveDistance: num [1:940] 0.55 0.69 0.4 1.26 0.41 ...\n",
            " $ LightActiveDistance     : num [1:940] 6.06 4.71 3.91 2.83 5.04 ...\n",
            " $ SedentaryActiveDistance : num [1:940] 0 0 0 0 0 0 0 0 0 0 ...\n",
            " $ VeryActiveMinutes       : num [1:940] 25 21 30 29 36 38 42 50 28 19 ...\n",
            " $ FairlyActiveMinutes     : num [1:940] 13 19 11 34 10 20 16 31 12 8 ...\n",
            " $ LightlyActiveMinutes    : num [1:940] 328 217 181 209 221 164 233 264 205 211 ...\n",
            " $ SedentaryMinutes        : num [1:940] 728 776 1218 726 773 ...\n",
            " $ Calories                : num [1:940] 1985 1797 1776 1745 1863 ...\n",
            " - attr(*, \"spec\")=\n",
            "  .. cols(\n",
            "  ..   Id = \u001b[32mcol_double()\u001b[39m,\n",
            "  ..   ActivityDate = \u001b[31mcol_character()\u001b[39m,\n",
            "  ..   TotalSteps = \u001b[32mcol_double()\u001b[39m,\n",
            "  ..   TotalDistance = \u001b[32mcol_double()\u001b[39m,\n",
            "  ..   TrackerDistance = \u001b[32mcol_double()\u001b[39m,\n",
            "  ..   LoggedActivitiesDistance = \u001b[32mcol_double()\u001b[39m,\n",
            "  ..   VeryActiveDistance = \u001b[32mcol_double()\u001b[39m,\n",
            "  ..   ModeratelyActiveDistance = \u001b[32mcol_double()\u001b[39m,\n",
            "  ..   LightActiveDistance = \u001b[32mcol_double()\u001b[39m,\n",
            "  ..   SedentaryActiveDistance = \u001b[32mcol_double()\u001b[39m,\n",
            "  ..   VeryActiveMinutes = \u001b[32mcol_double()\u001b[39m,\n",
            "  ..   FairlyActiveMinutes = \u001b[32mcol_double()\u001b[39m,\n",
            "  ..   LightlyActiveMinutes = \u001b[32mcol_double()\u001b[39m,\n",
            "  ..   SedentaryMinutes = \u001b[32mcol_double()\u001b[39m,\n",
            "  ..   Calories = \u001b[32mcol_double()\u001b[39m\n",
            "  .. )\n",
            " - attr(*, \"problems\")=<externalptr> \n",
            "spc_tbl_ [22,099 × 4] (S3: spec_tbl_df/tbl_df/tbl/data.frame)\n",
            " $ Id              : num [1:22099] 1.5e+09 1.5e+09 1.5e+09 1.5e+09 1.5e+09 ...\n",
            " $ ActivityHour    : chr [1:22099] \"4/12/2016 12:00:00 AM\" \"4/12/2016 1:00:00 AM\" \"4/12/2016 2:00:00 AM\" \"4/12/2016 3:00:00 AM\" ...\n",
            " $ TotalIntensity  : num [1:22099] 20 8 7 0 0 0 0 0 13 30 ...\n",
            " $ AverageIntensity: num [1:22099] 0.333 0.133 0.117 0 0 ...\n",
            " - attr(*, \"spec\")=\n",
            "  .. cols(\n",
            "  ..   Id = \u001b[32mcol_double()\u001b[39m,\n",
            "  ..   ActivityHour = \u001b[31mcol_character()\u001b[39m,\n",
            "  ..   TotalIntensity = \u001b[32mcol_double()\u001b[39m,\n",
            "  ..   AverageIntensity = \u001b[32mcol_double()\u001b[39m\n",
            "  .. )\n",
            " - attr(*, \"problems\")=<externalptr> \n"
          ]
        }
      ],
      "source": [
        "## Checando a estrutura dos data sets\n",
        "str(daily_activity)\n",
        "str(hourly_intensities)"
      ]
    },
    {
      "cell_type": "markdown",
      "id": "6ade6641",
      "metadata": {
        "papermill": {
          "duration": 0.017092,
          "end_time": "2023-08-20T02:21:43.308214",
          "exception": false,
          "start_time": "2023-08-20T02:21:43.291122",
          "status": "completed"
        },
        "tags": [],
        "id": "6ade6641"
      },
      "source": [
        "Vou aproveitar e usar também o método glimpse() que traz um resumo bastante completo dos conjuntos de dados."
      ]
    },
    {
      "cell_type": "code",
      "execution_count": 11,
      "id": "b63c2af0",
      "metadata": {
        "execution": {
          "iopub.execute_input": "2023-08-20T02:21:43.346005Z",
          "iopub.status.busy": "2023-08-20T02:21:43.344677Z",
          "iopub.status.idle": "2023-08-20T02:21:43.376673Z",
          "shell.execute_reply": "2023-08-20T02:21:43.375234Z"
        },
        "papermill": {
          "duration": 0.053116,
          "end_time": "2023-08-20T02:21:43.378456",
          "exception": false,
          "start_time": "2023-08-20T02:21:43.325340",
          "status": "completed"
        },
        "tags": [],
        "id": "b63c2af0",
        "colab": {
          "base_uri": "https://localhost:8080/"
        },
        "outputId": "2333f1e6-3219-41b9-c0ce-99bbff08aa79"
      },
      "outputs": [
        {
          "output_type": "stream",
          "name": "stdout",
          "text": [
            "Rows: 940\n",
            "Columns: 15\n",
            "$ Id                       \u001b[3m\u001b[90m<dbl>\u001b[39m\u001b[23m 1503960366, 1503960366, 1503960366, 150396036…\n",
            "$ ActivityDate             \u001b[3m\u001b[90m<chr>\u001b[39m\u001b[23m \"4/12/2016\", \"4/13/2016\", \"4/14/2016\", \"4/15/…\n",
            "$ TotalSteps               \u001b[3m\u001b[90m<dbl>\u001b[39m\u001b[23m 13162, 10735, 10460, 9762, 12669, 9705, 13019…\n",
            "$ TotalDistance            \u001b[3m\u001b[90m<dbl>\u001b[39m\u001b[23m 8.50, 6.97, 6.74, 6.28, 8.16, 6.48, 8.59, 9.8…\n",
            "$ TrackerDistance          \u001b[3m\u001b[90m<dbl>\u001b[39m\u001b[23m 8.50, 6.97, 6.74, 6.28, 8.16, 6.48, 8.59, 9.8…\n",
            "$ LoggedActivitiesDistance \u001b[3m\u001b[90m<dbl>\u001b[39m\u001b[23m 0, 0, 0, 0, 0, 0, 0, 0, 0, 0, 0, 0, 0, 0, 0, …\n",
            "$ VeryActiveDistance       \u001b[3m\u001b[90m<dbl>\u001b[39m\u001b[23m 1.88, 1.57, 2.44, 2.14, 2.71, 3.19, 3.25, 3.5…\n",
            "$ ModeratelyActiveDistance \u001b[3m\u001b[90m<dbl>\u001b[39m\u001b[23m 0.55, 0.69, 0.40, 1.26, 0.41, 0.78, 0.64, 1.3…\n",
            "$ LightActiveDistance      \u001b[3m\u001b[90m<dbl>\u001b[39m\u001b[23m 6.06, 4.71, 3.91, 2.83, 5.04, 2.51, 4.71, 5.0…\n",
            "$ SedentaryActiveDistance  \u001b[3m\u001b[90m<dbl>\u001b[39m\u001b[23m 0, 0, 0, 0, 0, 0, 0, 0, 0, 0, 0, 0, 0, 0, 0, …\n",
            "$ VeryActiveMinutes        \u001b[3m\u001b[90m<dbl>\u001b[39m\u001b[23m 25, 21, 30, 29, 36, 38, 42, 50, 28, 19, 66, 4…\n",
            "$ FairlyActiveMinutes      \u001b[3m\u001b[90m<dbl>\u001b[39m\u001b[23m 13, 19, 11, 34, 10, 20, 16, 31, 12, 8, 27, 21…\n",
            "$ LightlyActiveMinutes     \u001b[3m\u001b[90m<dbl>\u001b[39m\u001b[23m 328, 217, 181, 209, 221, 164, 233, 264, 205, …\n",
            "$ SedentaryMinutes         \u001b[3m\u001b[90m<dbl>\u001b[39m\u001b[23m 728, 776, 1218, 726, 773, 539, 1149, 775, 818…\n",
            "$ Calories                 \u001b[3m\u001b[90m<dbl>\u001b[39m\u001b[23m 1985, 1797, 1776, 1745, 1863, 1728, 1921, 203…\n",
            "Rows: 22,099\n",
            "Columns: 4\n",
            "$ Id               \u001b[3m\u001b[90m<dbl>\u001b[39m\u001b[23m 1503960366, 1503960366, 1503960366, 1503960366, 15039…\n",
            "$ ActivityHour     \u001b[3m\u001b[90m<chr>\u001b[39m\u001b[23m \"4/12/2016 12:00:00 AM\", \"4/12/2016 1:00:00 AM\", \"4/1…\n",
            "$ TotalIntensity   \u001b[3m\u001b[90m<dbl>\u001b[39m\u001b[23m 20, 8, 7, 0, 0, 0, 0, 0, 13, 30, 29, 12, 11, 6, 36, 5…\n",
            "$ AverageIntensity \u001b[3m\u001b[90m<dbl>\u001b[39m\u001b[23m 0.333333, 0.133333, 0.116667, 0.000000, 0.000000, 0.0…\n"
          ]
        }
      ],
      "source": [
        "glimpse(daily_activity)\n",
        "glimpse(hourly_intensities)"
      ]
    },
    {
      "cell_type": "code",
      "execution_count": 12,
      "id": "c1d28173",
      "metadata": {
        "execution": {
          "iopub.execute_input": "2023-08-20T02:21:43.420966Z",
          "iopub.status.busy": "2023-08-20T02:21:43.419757Z",
          "iopub.status.idle": "2023-08-20T02:21:43.437295Z",
          "shell.execute_reply": "2023-08-20T02:21:43.436122Z"
        },
        "papermill": {
          "duration": 0.043143,
          "end_time": "2023-08-20T02:21:43.438994",
          "exception": false,
          "start_time": "2023-08-20T02:21:43.395851",
          "status": "completed"
        },
        "tags": [],
        "id": "c1d28173",
        "colab": {
          "base_uri": "https://localhost:8080/",
          "height": 52
        },
        "outputId": "af9dbcf6-1c61-4c82-ae53-14436244db7b"
      },
      "outputs": [
        {
          "output_type": "display_data",
          "data": {
            "text/html": [
              "33"
            ],
            "text/markdown": "33",
            "text/latex": "33",
            "text/plain": [
              "[1] 33"
            ]
          },
          "metadata": {}
        },
        {
          "output_type": "display_data",
          "data": {
            "text/html": [
              "33"
            ],
            "text/markdown": "33",
            "text/latex": "33",
            "text/plain": [
              "[1] 33"
            ]
          },
          "metadata": {}
        }
      ],
      "source": [
        "## Checando a quantidade de rotulos não repetidos na coluna Id\n",
        "sum(!is.na(\n",
        "    unique(daily_activity$Id)))\n",
        "\n",
        "sum(!is.na(\n",
        "    unique(hourly_intensities$Id)))"
      ]
    },
    {
      "cell_type": "markdown",
      "id": "f022a02f",
      "metadata": {
        "papermill": {
          "duration": 0.017656,
          "end_time": "2023-08-20T02:21:43.474443",
          "exception": false,
          "start_time": "2023-08-20T02:21:43.456787",
          "status": "completed"
        },
        "tags": [],
        "id": "f022a02f"
      },
      "source": [
        "#### 3.5 Verificar valores ausentes"
      ]
    },
    {
      "cell_type": "code",
      "execution_count": 13,
      "id": "73d2b899",
      "metadata": {
        "execution": {
          "iopub.execute_input": "2023-08-20T02:21:43.513256Z",
          "iopub.status.busy": "2023-08-20T02:21:43.511958Z",
          "iopub.status.idle": "2023-08-20T02:21:43.614469Z",
          "shell.execute_reply": "2023-08-20T02:21:43.613197Z"
        },
        "papermill": {
          "duration": 0.12432,
          "end_time": "2023-08-20T02:21:43.616714",
          "exception": false,
          "start_time": "2023-08-20T02:21:43.492394",
          "status": "completed"
        },
        "tags": [],
        "id": "73d2b899",
        "colab": {
          "base_uri": "https://localhost:8080/",
          "height": 1000
        },
        "outputId": "e43d8c2c-df40-4e5d-dc85-1f975affa64b"
      },
      "outputs": [
        {
          "output_type": "display_data",
          "data": {
            "text/html": [
              "<table class=\"dataframe\">\n",
              "<caption>A matrix: 940 × 15 of type lgl</caption>\n",
              "<thead>\n",
              "\t<tr><th scope=col>Id</th><th scope=col>ActivityDate</th><th scope=col>TotalSteps</th><th scope=col>TotalDistance</th><th scope=col>TrackerDistance</th><th scope=col>LoggedActivitiesDistance</th><th scope=col>VeryActiveDistance</th><th scope=col>ModeratelyActiveDistance</th><th scope=col>LightActiveDistance</th><th scope=col>SedentaryActiveDistance</th><th scope=col>VeryActiveMinutes</th><th scope=col>FairlyActiveMinutes</th><th scope=col>LightlyActiveMinutes</th><th scope=col>SedentaryMinutes</th><th scope=col>Calories</th></tr>\n",
              "</thead>\n",
              "<tbody>\n",
              "\t<tr><td>FALSE</td><td>FALSE</td><td>FALSE</td><td>FALSE</td><td>FALSE</td><td>FALSE</td><td>FALSE</td><td>FALSE</td><td>FALSE</td><td>FALSE</td><td>FALSE</td><td>FALSE</td><td>FALSE</td><td>FALSE</td><td>FALSE</td></tr>\n",
              "\t<tr><td>FALSE</td><td>FALSE</td><td>FALSE</td><td>FALSE</td><td>FALSE</td><td>FALSE</td><td>FALSE</td><td>FALSE</td><td>FALSE</td><td>FALSE</td><td>FALSE</td><td>FALSE</td><td>FALSE</td><td>FALSE</td><td>FALSE</td></tr>\n",
              "\t<tr><td>FALSE</td><td>FALSE</td><td>FALSE</td><td>FALSE</td><td>FALSE</td><td>FALSE</td><td>FALSE</td><td>FALSE</td><td>FALSE</td><td>FALSE</td><td>FALSE</td><td>FALSE</td><td>FALSE</td><td>FALSE</td><td>FALSE</td></tr>\n",
              "\t<tr><td>FALSE</td><td>FALSE</td><td>FALSE</td><td>FALSE</td><td>FALSE</td><td>FALSE</td><td>FALSE</td><td>FALSE</td><td>FALSE</td><td>FALSE</td><td>FALSE</td><td>FALSE</td><td>FALSE</td><td>FALSE</td><td>FALSE</td></tr>\n",
              "\t<tr><td>FALSE</td><td>FALSE</td><td>FALSE</td><td>FALSE</td><td>FALSE</td><td>FALSE</td><td>FALSE</td><td>FALSE</td><td>FALSE</td><td>FALSE</td><td>FALSE</td><td>FALSE</td><td>FALSE</td><td>FALSE</td><td>FALSE</td></tr>\n",
              "\t<tr><td>FALSE</td><td>FALSE</td><td>FALSE</td><td>FALSE</td><td>FALSE</td><td>FALSE</td><td>FALSE</td><td>FALSE</td><td>FALSE</td><td>FALSE</td><td>FALSE</td><td>FALSE</td><td>FALSE</td><td>FALSE</td><td>FALSE</td></tr>\n",
              "\t<tr><td>FALSE</td><td>FALSE</td><td>FALSE</td><td>FALSE</td><td>FALSE</td><td>FALSE</td><td>FALSE</td><td>FALSE</td><td>FALSE</td><td>FALSE</td><td>FALSE</td><td>FALSE</td><td>FALSE</td><td>FALSE</td><td>FALSE</td></tr>\n",
              "\t<tr><td>FALSE</td><td>FALSE</td><td>FALSE</td><td>FALSE</td><td>FALSE</td><td>FALSE</td><td>FALSE</td><td>FALSE</td><td>FALSE</td><td>FALSE</td><td>FALSE</td><td>FALSE</td><td>FALSE</td><td>FALSE</td><td>FALSE</td></tr>\n",
              "\t<tr><td>FALSE</td><td>FALSE</td><td>FALSE</td><td>FALSE</td><td>FALSE</td><td>FALSE</td><td>FALSE</td><td>FALSE</td><td>FALSE</td><td>FALSE</td><td>FALSE</td><td>FALSE</td><td>FALSE</td><td>FALSE</td><td>FALSE</td></tr>\n",
              "\t<tr><td>FALSE</td><td>FALSE</td><td>FALSE</td><td>FALSE</td><td>FALSE</td><td>FALSE</td><td>FALSE</td><td>FALSE</td><td>FALSE</td><td>FALSE</td><td>FALSE</td><td>FALSE</td><td>FALSE</td><td>FALSE</td><td>FALSE</td></tr>\n",
              "\t<tr><td>FALSE</td><td>FALSE</td><td>FALSE</td><td>FALSE</td><td>FALSE</td><td>FALSE</td><td>FALSE</td><td>FALSE</td><td>FALSE</td><td>FALSE</td><td>FALSE</td><td>FALSE</td><td>FALSE</td><td>FALSE</td><td>FALSE</td></tr>\n",
              "\t<tr><td>FALSE</td><td>FALSE</td><td>FALSE</td><td>FALSE</td><td>FALSE</td><td>FALSE</td><td>FALSE</td><td>FALSE</td><td>FALSE</td><td>FALSE</td><td>FALSE</td><td>FALSE</td><td>FALSE</td><td>FALSE</td><td>FALSE</td></tr>\n",
              "\t<tr><td>FALSE</td><td>FALSE</td><td>FALSE</td><td>FALSE</td><td>FALSE</td><td>FALSE</td><td>FALSE</td><td>FALSE</td><td>FALSE</td><td>FALSE</td><td>FALSE</td><td>FALSE</td><td>FALSE</td><td>FALSE</td><td>FALSE</td></tr>\n",
              "\t<tr><td>FALSE</td><td>FALSE</td><td>FALSE</td><td>FALSE</td><td>FALSE</td><td>FALSE</td><td>FALSE</td><td>FALSE</td><td>FALSE</td><td>FALSE</td><td>FALSE</td><td>FALSE</td><td>FALSE</td><td>FALSE</td><td>FALSE</td></tr>\n",
              "\t<tr><td>FALSE</td><td>FALSE</td><td>FALSE</td><td>FALSE</td><td>FALSE</td><td>FALSE</td><td>FALSE</td><td>FALSE</td><td>FALSE</td><td>FALSE</td><td>FALSE</td><td>FALSE</td><td>FALSE</td><td>FALSE</td><td>FALSE</td></tr>\n",
              "\t<tr><td>FALSE</td><td>FALSE</td><td>FALSE</td><td>FALSE</td><td>FALSE</td><td>FALSE</td><td>FALSE</td><td>FALSE</td><td>FALSE</td><td>FALSE</td><td>FALSE</td><td>FALSE</td><td>FALSE</td><td>FALSE</td><td>FALSE</td></tr>\n",
              "\t<tr><td>FALSE</td><td>FALSE</td><td>FALSE</td><td>FALSE</td><td>FALSE</td><td>FALSE</td><td>FALSE</td><td>FALSE</td><td>FALSE</td><td>FALSE</td><td>FALSE</td><td>FALSE</td><td>FALSE</td><td>FALSE</td><td>FALSE</td></tr>\n",
              "\t<tr><td>FALSE</td><td>FALSE</td><td>FALSE</td><td>FALSE</td><td>FALSE</td><td>FALSE</td><td>FALSE</td><td>FALSE</td><td>FALSE</td><td>FALSE</td><td>FALSE</td><td>FALSE</td><td>FALSE</td><td>FALSE</td><td>FALSE</td></tr>\n",
              "\t<tr><td>FALSE</td><td>FALSE</td><td>FALSE</td><td>FALSE</td><td>FALSE</td><td>FALSE</td><td>FALSE</td><td>FALSE</td><td>FALSE</td><td>FALSE</td><td>FALSE</td><td>FALSE</td><td>FALSE</td><td>FALSE</td><td>FALSE</td></tr>\n",
              "\t<tr><td>FALSE</td><td>FALSE</td><td>FALSE</td><td>FALSE</td><td>FALSE</td><td>FALSE</td><td>FALSE</td><td>FALSE</td><td>FALSE</td><td>FALSE</td><td>FALSE</td><td>FALSE</td><td>FALSE</td><td>FALSE</td><td>FALSE</td></tr>\n",
              "\t<tr><td>FALSE</td><td>FALSE</td><td>FALSE</td><td>FALSE</td><td>FALSE</td><td>FALSE</td><td>FALSE</td><td>FALSE</td><td>FALSE</td><td>FALSE</td><td>FALSE</td><td>FALSE</td><td>FALSE</td><td>FALSE</td><td>FALSE</td></tr>\n",
              "\t<tr><td>FALSE</td><td>FALSE</td><td>FALSE</td><td>FALSE</td><td>FALSE</td><td>FALSE</td><td>FALSE</td><td>FALSE</td><td>FALSE</td><td>FALSE</td><td>FALSE</td><td>FALSE</td><td>FALSE</td><td>FALSE</td><td>FALSE</td></tr>\n",
              "\t<tr><td>FALSE</td><td>FALSE</td><td>FALSE</td><td>FALSE</td><td>FALSE</td><td>FALSE</td><td>FALSE</td><td>FALSE</td><td>FALSE</td><td>FALSE</td><td>FALSE</td><td>FALSE</td><td>FALSE</td><td>FALSE</td><td>FALSE</td></tr>\n",
              "\t<tr><td>FALSE</td><td>FALSE</td><td>FALSE</td><td>FALSE</td><td>FALSE</td><td>FALSE</td><td>FALSE</td><td>FALSE</td><td>FALSE</td><td>FALSE</td><td>FALSE</td><td>FALSE</td><td>FALSE</td><td>FALSE</td><td>FALSE</td></tr>\n",
              "\t<tr><td>FALSE</td><td>FALSE</td><td>FALSE</td><td>FALSE</td><td>FALSE</td><td>FALSE</td><td>FALSE</td><td>FALSE</td><td>FALSE</td><td>FALSE</td><td>FALSE</td><td>FALSE</td><td>FALSE</td><td>FALSE</td><td>FALSE</td></tr>\n",
              "\t<tr><td>FALSE</td><td>FALSE</td><td>FALSE</td><td>FALSE</td><td>FALSE</td><td>FALSE</td><td>FALSE</td><td>FALSE</td><td>FALSE</td><td>FALSE</td><td>FALSE</td><td>FALSE</td><td>FALSE</td><td>FALSE</td><td>FALSE</td></tr>\n",
              "\t<tr><td>FALSE</td><td>FALSE</td><td>FALSE</td><td>FALSE</td><td>FALSE</td><td>FALSE</td><td>FALSE</td><td>FALSE</td><td>FALSE</td><td>FALSE</td><td>FALSE</td><td>FALSE</td><td>FALSE</td><td>FALSE</td><td>FALSE</td></tr>\n",
              "\t<tr><td>FALSE</td><td>FALSE</td><td>FALSE</td><td>FALSE</td><td>FALSE</td><td>FALSE</td><td>FALSE</td><td>FALSE</td><td>FALSE</td><td>FALSE</td><td>FALSE</td><td>FALSE</td><td>FALSE</td><td>FALSE</td><td>FALSE</td></tr>\n",
              "\t<tr><td>FALSE</td><td>FALSE</td><td>FALSE</td><td>FALSE</td><td>FALSE</td><td>FALSE</td><td>FALSE</td><td>FALSE</td><td>FALSE</td><td>FALSE</td><td>FALSE</td><td>FALSE</td><td>FALSE</td><td>FALSE</td><td>FALSE</td></tr>\n",
              "\t<tr><td>FALSE</td><td>FALSE</td><td>FALSE</td><td>FALSE</td><td>FALSE</td><td>FALSE</td><td>FALSE</td><td>FALSE</td><td>FALSE</td><td>FALSE</td><td>FALSE</td><td>FALSE</td><td>FALSE</td><td>FALSE</td><td>FALSE</td></tr>\n",
              "\t<tr><td>⋮</td><td>⋮</td><td>⋮</td><td>⋮</td><td>⋮</td><td>⋮</td><td>⋮</td><td>⋮</td><td>⋮</td><td>⋮</td><td>⋮</td><td>⋮</td><td>⋮</td><td>⋮</td><td>⋮</td></tr>\n",
              "\t<tr><td>FALSE</td><td>FALSE</td><td>FALSE</td><td>FALSE</td><td>FALSE</td><td>FALSE</td><td>FALSE</td><td>FALSE</td><td>FALSE</td><td>FALSE</td><td>FALSE</td><td>FALSE</td><td>FALSE</td><td>FALSE</td><td>FALSE</td></tr>\n",
              "\t<tr><td>FALSE</td><td>FALSE</td><td>FALSE</td><td>FALSE</td><td>FALSE</td><td>FALSE</td><td>FALSE</td><td>FALSE</td><td>FALSE</td><td>FALSE</td><td>FALSE</td><td>FALSE</td><td>FALSE</td><td>FALSE</td><td>FALSE</td></tr>\n",
              "\t<tr><td>FALSE</td><td>FALSE</td><td>FALSE</td><td>FALSE</td><td>FALSE</td><td>FALSE</td><td>FALSE</td><td>FALSE</td><td>FALSE</td><td>FALSE</td><td>FALSE</td><td>FALSE</td><td>FALSE</td><td>FALSE</td><td>FALSE</td></tr>\n",
              "\t<tr><td>FALSE</td><td>FALSE</td><td>FALSE</td><td>FALSE</td><td>FALSE</td><td>FALSE</td><td>FALSE</td><td>FALSE</td><td>FALSE</td><td>FALSE</td><td>FALSE</td><td>FALSE</td><td>FALSE</td><td>FALSE</td><td>FALSE</td></tr>\n",
              "\t<tr><td>FALSE</td><td>FALSE</td><td>FALSE</td><td>FALSE</td><td>FALSE</td><td>FALSE</td><td>FALSE</td><td>FALSE</td><td>FALSE</td><td>FALSE</td><td>FALSE</td><td>FALSE</td><td>FALSE</td><td>FALSE</td><td>FALSE</td></tr>\n",
              "\t<tr><td>FALSE</td><td>FALSE</td><td>FALSE</td><td>FALSE</td><td>FALSE</td><td>FALSE</td><td>FALSE</td><td>FALSE</td><td>FALSE</td><td>FALSE</td><td>FALSE</td><td>FALSE</td><td>FALSE</td><td>FALSE</td><td>FALSE</td></tr>\n",
              "\t<tr><td>FALSE</td><td>FALSE</td><td>FALSE</td><td>FALSE</td><td>FALSE</td><td>FALSE</td><td>FALSE</td><td>FALSE</td><td>FALSE</td><td>FALSE</td><td>FALSE</td><td>FALSE</td><td>FALSE</td><td>FALSE</td><td>FALSE</td></tr>\n",
              "\t<tr><td>FALSE</td><td>FALSE</td><td>FALSE</td><td>FALSE</td><td>FALSE</td><td>FALSE</td><td>FALSE</td><td>FALSE</td><td>FALSE</td><td>FALSE</td><td>FALSE</td><td>FALSE</td><td>FALSE</td><td>FALSE</td><td>FALSE</td></tr>\n",
              "\t<tr><td>FALSE</td><td>FALSE</td><td>FALSE</td><td>FALSE</td><td>FALSE</td><td>FALSE</td><td>FALSE</td><td>FALSE</td><td>FALSE</td><td>FALSE</td><td>FALSE</td><td>FALSE</td><td>FALSE</td><td>FALSE</td><td>FALSE</td></tr>\n",
              "\t<tr><td>FALSE</td><td>FALSE</td><td>FALSE</td><td>FALSE</td><td>FALSE</td><td>FALSE</td><td>FALSE</td><td>FALSE</td><td>FALSE</td><td>FALSE</td><td>FALSE</td><td>FALSE</td><td>FALSE</td><td>FALSE</td><td>FALSE</td></tr>\n",
              "\t<tr><td>FALSE</td><td>FALSE</td><td>FALSE</td><td>FALSE</td><td>FALSE</td><td>FALSE</td><td>FALSE</td><td>FALSE</td><td>FALSE</td><td>FALSE</td><td>FALSE</td><td>FALSE</td><td>FALSE</td><td>FALSE</td><td>FALSE</td></tr>\n",
              "\t<tr><td>FALSE</td><td>FALSE</td><td>FALSE</td><td>FALSE</td><td>FALSE</td><td>FALSE</td><td>FALSE</td><td>FALSE</td><td>FALSE</td><td>FALSE</td><td>FALSE</td><td>FALSE</td><td>FALSE</td><td>FALSE</td><td>FALSE</td></tr>\n",
              "\t<tr><td>FALSE</td><td>FALSE</td><td>FALSE</td><td>FALSE</td><td>FALSE</td><td>FALSE</td><td>FALSE</td><td>FALSE</td><td>FALSE</td><td>FALSE</td><td>FALSE</td><td>FALSE</td><td>FALSE</td><td>FALSE</td><td>FALSE</td></tr>\n",
              "\t<tr><td>FALSE</td><td>FALSE</td><td>FALSE</td><td>FALSE</td><td>FALSE</td><td>FALSE</td><td>FALSE</td><td>FALSE</td><td>FALSE</td><td>FALSE</td><td>FALSE</td><td>FALSE</td><td>FALSE</td><td>FALSE</td><td>FALSE</td></tr>\n",
              "\t<tr><td>FALSE</td><td>FALSE</td><td>FALSE</td><td>FALSE</td><td>FALSE</td><td>FALSE</td><td>FALSE</td><td>FALSE</td><td>FALSE</td><td>FALSE</td><td>FALSE</td><td>FALSE</td><td>FALSE</td><td>FALSE</td><td>FALSE</td></tr>\n",
              "\t<tr><td>FALSE</td><td>FALSE</td><td>FALSE</td><td>FALSE</td><td>FALSE</td><td>FALSE</td><td>FALSE</td><td>FALSE</td><td>FALSE</td><td>FALSE</td><td>FALSE</td><td>FALSE</td><td>FALSE</td><td>FALSE</td><td>FALSE</td></tr>\n",
              "\t<tr><td>FALSE</td><td>FALSE</td><td>FALSE</td><td>FALSE</td><td>FALSE</td><td>FALSE</td><td>FALSE</td><td>FALSE</td><td>FALSE</td><td>FALSE</td><td>FALSE</td><td>FALSE</td><td>FALSE</td><td>FALSE</td><td>FALSE</td></tr>\n",
              "\t<tr><td>FALSE</td><td>FALSE</td><td>FALSE</td><td>FALSE</td><td>FALSE</td><td>FALSE</td><td>FALSE</td><td>FALSE</td><td>FALSE</td><td>FALSE</td><td>FALSE</td><td>FALSE</td><td>FALSE</td><td>FALSE</td><td>FALSE</td></tr>\n",
              "\t<tr><td>FALSE</td><td>FALSE</td><td>FALSE</td><td>FALSE</td><td>FALSE</td><td>FALSE</td><td>FALSE</td><td>FALSE</td><td>FALSE</td><td>FALSE</td><td>FALSE</td><td>FALSE</td><td>FALSE</td><td>FALSE</td><td>FALSE</td></tr>\n",
              "\t<tr><td>FALSE</td><td>FALSE</td><td>FALSE</td><td>FALSE</td><td>FALSE</td><td>FALSE</td><td>FALSE</td><td>FALSE</td><td>FALSE</td><td>FALSE</td><td>FALSE</td><td>FALSE</td><td>FALSE</td><td>FALSE</td><td>FALSE</td></tr>\n",
              "\t<tr><td>FALSE</td><td>FALSE</td><td>FALSE</td><td>FALSE</td><td>FALSE</td><td>FALSE</td><td>FALSE</td><td>FALSE</td><td>FALSE</td><td>FALSE</td><td>FALSE</td><td>FALSE</td><td>FALSE</td><td>FALSE</td><td>FALSE</td></tr>\n",
              "\t<tr><td>FALSE</td><td>FALSE</td><td>FALSE</td><td>FALSE</td><td>FALSE</td><td>FALSE</td><td>FALSE</td><td>FALSE</td><td>FALSE</td><td>FALSE</td><td>FALSE</td><td>FALSE</td><td>FALSE</td><td>FALSE</td><td>FALSE</td></tr>\n",
              "\t<tr><td>FALSE</td><td>FALSE</td><td>FALSE</td><td>FALSE</td><td>FALSE</td><td>FALSE</td><td>FALSE</td><td>FALSE</td><td>FALSE</td><td>FALSE</td><td>FALSE</td><td>FALSE</td><td>FALSE</td><td>FALSE</td><td>FALSE</td></tr>\n",
              "\t<tr><td>FALSE</td><td>FALSE</td><td>FALSE</td><td>FALSE</td><td>FALSE</td><td>FALSE</td><td>FALSE</td><td>FALSE</td><td>FALSE</td><td>FALSE</td><td>FALSE</td><td>FALSE</td><td>FALSE</td><td>FALSE</td><td>FALSE</td></tr>\n",
              "\t<tr><td>FALSE</td><td>FALSE</td><td>FALSE</td><td>FALSE</td><td>FALSE</td><td>FALSE</td><td>FALSE</td><td>FALSE</td><td>FALSE</td><td>FALSE</td><td>FALSE</td><td>FALSE</td><td>FALSE</td><td>FALSE</td><td>FALSE</td></tr>\n",
              "\t<tr><td>FALSE</td><td>FALSE</td><td>FALSE</td><td>FALSE</td><td>FALSE</td><td>FALSE</td><td>FALSE</td><td>FALSE</td><td>FALSE</td><td>FALSE</td><td>FALSE</td><td>FALSE</td><td>FALSE</td><td>FALSE</td><td>FALSE</td></tr>\n",
              "\t<tr><td>FALSE</td><td>FALSE</td><td>FALSE</td><td>FALSE</td><td>FALSE</td><td>FALSE</td><td>FALSE</td><td>FALSE</td><td>FALSE</td><td>FALSE</td><td>FALSE</td><td>FALSE</td><td>FALSE</td><td>FALSE</td><td>FALSE</td></tr>\n",
              "\t<tr><td>FALSE</td><td>FALSE</td><td>FALSE</td><td>FALSE</td><td>FALSE</td><td>FALSE</td><td>FALSE</td><td>FALSE</td><td>FALSE</td><td>FALSE</td><td>FALSE</td><td>FALSE</td><td>FALSE</td><td>FALSE</td><td>FALSE</td></tr>\n",
              "\t<tr><td>FALSE</td><td>FALSE</td><td>FALSE</td><td>FALSE</td><td>FALSE</td><td>FALSE</td><td>FALSE</td><td>FALSE</td><td>FALSE</td><td>FALSE</td><td>FALSE</td><td>FALSE</td><td>FALSE</td><td>FALSE</td><td>FALSE</td></tr>\n",
              "\t<tr><td>FALSE</td><td>FALSE</td><td>FALSE</td><td>FALSE</td><td>FALSE</td><td>FALSE</td><td>FALSE</td><td>FALSE</td><td>FALSE</td><td>FALSE</td><td>FALSE</td><td>FALSE</td><td>FALSE</td><td>FALSE</td><td>FALSE</td></tr>\n",
              "</tbody>\n",
              "</table>\n"
            ],
            "text/markdown": "\nA matrix: 940 × 15 of type lgl\n\n| Id | ActivityDate | TotalSteps | TotalDistance | TrackerDistance | LoggedActivitiesDistance | VeryActiveDistance | ModeratelyActiveDistance | LightActiveDistance | SedentaryActiveDistance | VeryActiveMinutes | FairlyActiveMinutes | LightlyActiveMinutes | SedentaryMinutes | Calories |\n|---|---|---|---|---|---|---|---|---|---|---|---|---|---|---|\n| FALSE | FALSE | FALSE | FALSE | FALSE | FALSE | FALSE | FALSE | FALSE | FALSE | FALSE | FALSE | FALSE | FALSE | FALSE |\n| FALSE | FALSE | FALSE | FALSE | FALSE | FALSE | FALSE | FALSE | FALSE | FALSE | FALSE | FALSE | FALSE | FALSE | FALSE |\n| FALSE | FALSE | FALSE | FALSE | FALSE | FALSE | FALSE | FALSE | FALSE | FALSE | FALSE | FALSE | FALSE | FALSE | FALSE |\n| FALSE | FALSE | FALSE | FALSE | FALSE | FALSE | FALSE | FALSE | FALSE | FALSE | FALSE | FALSE | FALSE | FALSE | FALSE |\n| FALSE | FALSE | FALSE | FALSE | FALSE | FALSE | FALSE | FALSE | FALSE | FALSE | FALSE | FALSE | FALSE | FALSE | FALSE |\n| FALSE | FALSE | FALSE | FALSE | FALSE | FALSE | FALSE | FALSE | FALSE | FALSE | FALSE | FALSE | FALSE | FALSE | FALSE |\n| FALSE | FALSE | FALSE | FALSE | FALSE | FALSE | FALSE | FALSE | FALSE | FALSE | FALSE | FALSE | FALSE | FALSE | FALSE |\n| FALSE | FALSE | FALSE | FALSE | FALSE | FALSE | FALSE | FALSE | FALSE | FALSE | FALSE | FALSE | FALSE | FALSE | FALSE |\n| FALSE | FALSE | FALSE | FALSE | FALSE | FALSE | FALSE | FALSE | FALSE | FALSE | FALSE | FALSE | FALSE | FALSE | FALSE |\n| FALSE | FALSE | FALSE | FALSE | FALSE | FALSE | FALSE | FALSE | FALSE | FALSE | FALSE | FALSE | FALSE | FALSE | FALSE |\n| FALSE | FALSE | FALSE | FALSE | FALSE | FALSE | FALSE | FALSE | FALSE | FALSE | FALSE | FALSE | FALSE | FALSE | FALSE |\n| FALSE | FALSE | FALSE | FALSE | FALSE | FALSE | FALSE | FALSE | FALSE | FALSE | FALSE | FALSE | FALSE | FALSE | FALSE |\n| FALSE | FALSE | FALSE | FALSE | FALSE | FALSE | FALSE | FALSE | FALSE | FALSE | FALSE | FALSE | FALSE | FALSE | FALSE |\n| FALSE | FALSE | FALSE | FALSE | FALSE | FALSE | FALSE | FALSE | FALSE | FALSE | FALSE | FALSE | FALSE | FALSE | FALSE |\n| FALSE | FALSE | FALSE | FALSE | FALSE | FALSE | FALSE | FALSE | FALSE | FALSE | FALSE | FALSE | FALSE | FALSE | FALSE |\n| FALSE | FALSE | FALSE | FALSE | FALSE | FALSE | FALSE | FALSE | FALSE | FALSE | FALSE | FALSE | FALSE | FALSE | FALSE |\n| FALSE | FALSE | FALSE | FALSE | FALSE | FALSE | FALSE | FALSE | FALSE | FALSE | FALSE | FALSE | FALSE | FALSE | FALSE |\n| FALSE | FALSE | FALSE | FALSE | FALSE | FALSE | FALSE | FALSE | FALSE | FALSE | FALSE | FALSE | FALSE | FALSE | FALSE |\n| FALSE | FALSE | FALSE | FALSE | FALSE | FALSE | FALSE | FALSE | FALSE | FALSE | FALSE | FALSE | FALSE | FALSE | FALSE |\n| FALSE | FALSE | FALSE | FALSE | FALSE | FALSE | FALSE | FALSE | FALSE | FALSE | FALSE | FALSE | FALSE | FALSE | FALSE |\n| FALSE | FALSE | FALSE | FALSE | FALSE | FALSE | FALSE | FALSE | FALSE | FALSE | FALSE | FALSE | FALSE | FALSE | FALSE |\n| FALSE | FALSE | FALSE | FALSE | FALSE | FALSE | FALSE | FALSE | FALSE | FALSE | FALSE | FALSE | FALSE | FALSE | FALSE |\n| FALSE | FALSE | FALSE | FALSE | FALSE | FALSE | FALSE | FALSE | FALSE | FALSE | FALSE | FALSE | FALSE | FALSE | FALSE |\n| FALSE | FALSE | FALSE | FALSE | FALSE | FALSE | FALSE | FALSE | FALSE | FALSE | FALSE | FALSE | FALSE | FALSE | FALSE |\n| FALSE | FALSE | FALSE | FALSE | FALSE | FALSE | FALSE | FALSE | FALSE | FALSE | FALSE | FALSE | FALSE | FALSE | FALSE |\n| FALSE | FALSE | FALSE | FALSE | FALSE | FALSE | FALSE | FALSE | FALSE | FALSE | FALSE | FALSE | FALSE | FALSE | FALSE |\n| FALSE | FALSE | FALSE | FALSE | FALSE | FALSE | FALSE | FALSE | FALSE | FALSE | FALSE | FALSE | FALSE | FALSE | FALSE |\n| FALSE | FALSE | FALSE | FALSE | FALSE | FALSE | FALSE | FALSE | FALSE | FALSE | FALSE | FALSE | FALSE | FALSE | FALSE |\n| FALSE | FALSE | FALSE | FALSE | FALSE | FALSE | FALSE | FALSE | FALSE | FALSE | FALSE | FALSE | FALSE | FALSE | FALSE |\n| FALSE | FALSE | FALSE | FALSE | FALSE | FALSE | FALSE | FALSE | FALSE | FALSE | FALSE | FALSE | FALSE | FALSE | FALSE |\n| ⋮ | ⋮ | ⋮ | ⋮ | ⋮ | ⋮ | ⋮ | ⋮ | ⋮ | ⋮ | ⋮ | ⋮ | ⋮ | ⋮ | ⋮ |\n| FALSE | FALSE | FALSE | FALSE | FALSE | FALSE | FALSE | FALSE | FALSE | FALSE | FALSE | FALSE | FALSE | FALSE | FALSE |\n| FALSE | FALSE | FALSE | FALSE | FALSE | FALSE | FALSE | FALSE | FALSE | FALSE | FALSE | FALSE | FALSE | FALSE | FALSE |\n| FALSE | FALSE | FALSE | FALSE | FALSE | FALSE | FALSE | FALSE | FALSE | FALSE | FALSE | FALSE | FALSE | FALSE | FALSE |\n| FALSE | FALSE | FALSE | FALSE | FALSE | FALSE | FALSE | FALSE | FALSE | FALSE | FALSE | FALSE | FALSE | FALSE | FALSE |\n| FALSE | FALSE | FALSE | FALSE | FALSE | FALSE | FALSE | FALSE | FALSE | FALSE | FALSE | FALSE | FALSE | FALSE | FALSE |\n| FALSE | FALSE | FALSE | FALSE | FALSE | FALSE | FALSE | FALSE | FALSE | FALSE | FALSE | FALSE | FALSE | FALSE | FALSE |\n| FALSE | FALSE | FALSE | FALSE | FALSE | FALSE | FALSE | FALSE | FALSE | FALSE | FALSE | FALSE | FALSE | FALSE | FALSE |\n| FALSE | FALSE | FALSE | FALSE | FALSE | FALSE | FALSE | FALSE | FALSE | FALSE | FALSE | FALSE | FALSE | FALSE | FALSE |\n| FALSE | FALSE | FALSE | FALSE | FALSE | FALSE | FALSE | FALSE | FALSE | FALSE | FALSE | FALSE | FALSE | FALSE | FALSE |\n| FALSE | FALSE | FALSE | FALSE | FALSE | FALSE | FALSE | FALSE | FALSE | FALSE | FALSE | FALSE | FALSE | FALSE | FALSE |\n| FALSE | FALSE | FALSE | FALSE | FALSE | FALSE | FALSE | FALSE | FALSE | FALSE | FALSE | FALSE | FALSE | FALSE | FALSE |\n| FALSE | FALSE | FALSE | FALSE | FALSE | FALSE | FALSE | FALSE | FALSE | FALSE | FALSE | FALSE | FALSE | FALSE | FALSE |\n| FALSE | FALSE | FALSE | FALSE | FALSE | FALSE | FALSE | FALSE | FALSE | FALSE | FALSE | FALSE | FALSE | FALSE | FALSE |\n| FALSE | FALSE | FALSE | FALSE | FALSE | FALSE | FALSE | FALSE | FALSE | FALSE | FALSE | FALSE | FALSE | FALSE | FALSE |\n| FALSE | FALSE | FALSE | FALSE | FALSE | FALSE | FALSE | FALSE | FALSE | FALSE | FALSE | FALSE | FALSE | FALSE | FALSE |\n| FALSE | FALSE | FALSE | FALSE | FALSE | FALSE | FALSE | FALSE | FALSE | FALSE | FALSE | FALSE | FALSE | FALSE | FALSE |\n| FALSE | FALSE | FALSE | FALSE | FALSE | FALSE | FALSE | FALSE | FALSE | FALSE | FALSE | FALSE | FALSE | FALSE | FALSE |\n| FALSE | FALSE | FALSE | FALSE | FALSE | FALSE | FALSE | FALSE | FALSE | FALSE | FALSE | FALSE | FALSE | FALSE | FALSE |\n| FALSE | FALSE | FALSE | FALSE | FALSE | FALSE | FALSE | FALSE | FALSE | FALSE | FALSE | FALSE | FALSE | FALSE | FALSE |\n| FALSE | FALSE | FALSE | FALSE | FALSE | FALSE | FALSE | FALSE | FALSE | FALSE | FALSE | FALSE | FALSE | FALSE | FALSE |\n| FALSE | FALSE | FALSE | FALSE | FALSE | FALSE | FALSE | FALSE | FALSE | FALSE | FALSE | FALSE | FALSE | FALSE | FALSE |\n| FALSE | FALSE | FALSE | FALSE | FALSE | FALSE | FALSE | FALSE | FALSE | FALSE | FALSE | FALSE | FALSE | FALSE | FALSE |\n| FALSE | FALSE | FALSE | FALSE | FALSE | FALSE | FALSE | FALSE | FALSE | FALSE | FALSE | FALSE | FALSE | FALSE | FALSE |\n| FALSE | FALSE | FALSE | FALSE | FALSE | FALSE | FALSE | FALSE | FALSE | FALSE | FALSE | FALSE | FALSE | FALSE | FALSE |\n| FALSE | FALSE | FALSE | FALSE | FALSE | FALSE | FALSE | FALSE | FALSE | FALSE | FALSE | FALSE | FALSE | FALSE | FALSE |\n| FALSE | FALSE | FALSE | FALSE | FALSE | FALSE | FALSE | FALSE | FALSE | FALSE | FALSE | FALSE | FALSE | FALSE | FALSE |\n| FALSE | FALSE | FALSE | FALSE | FALSE | FALSE | FALSE | FALSE | FALSE | FALSE | FALSE | FALSE | FALSE | FALSE | FALSE |\n| FALSE | FALSE | FALSE | FALSE | FALSE | FALSE | FALSE | FALSE | FALSE | FALSE | FALSE | FALSE | FALSE | FALSE | FALSE |\n| FALSE | FALSE | FALSE | FALSE | FALSE | FALSE | FALSE | FALSE | FALSE | FALSE | FALSE | FALSE | FALSE | FALSE | FALSE |\n| FALSE | FALSE | FALSE | FALSE | FALSE | FALSE | FALSE | FALSE | FALSE | FALSE | FALSE | FALSE | FALSE | FALSE | FALSE |\n\n",
            "text/latex": "A matrix: 940 × 15 of type lgl\n\\begin{tabular}{lllllllllllllll}\n Id & ActivityDate & TotalSteps & TotalDistance & TrackerDistance & LoggedActivitiesDistance & VeryActiveDistance & ModeratelyActiveDistance & LightActiveDistance & SedentaryActiveDistance & VeryActiveMinutes & FairlyActiveMinutes & LightlyActiveMinutes & SedentaryMinutes & Calories\\\\\n\\hline\n\t FALSE & FALSE & FALSE & FALSE & FALSE & FALSE & FALSE & FALSE & FALSE & FALSE & FALSE & FALSE & FALSE & FALSE & FALSE\\\\\n\t FALSE & FALSE & FALSE & FALSE & FALSE & FALSE & FALSE & FALSE & FALSE & FALSE & FALSE & FALSE & FALSE & FALSE & FALSE\\\\\n\t FALSE & FALSE & FALSE & FALSE & FALSE & FALSE & FALSE & FALSE & FALSE & FALSE & FALSE & FALSE & FALSE & FALSE & FALSE\\\\\n\t FALSE & FALSE & FALSE & FALSE & FALSE & FALSE & FALSE & FALSE & FALSE & FALSE & FALSE & FALSE & FALSE & FALSE & FALSE\\\\\n\t FALSE & FALSE & FALSE & FALSE & FALSE & FALSE & FALSE & FALSE & FALSE & FALSE & FALSE & FALSE & FALSE & FALSE & FALSE\\\\\n\t FALSE & FALSE & FALSE & FALSE & FALSE & FALSE & FALSE & FALSE & FALSE & FALSE & FALSE & FALSE & FALSE & FALSE & FALSE\\\\\n\t FALSE & FALSE & FALSE & FALSE & FALSE & FALSE & FALSE & FALSE & FALSE & FALSE & FALSE & FALSE & FALSE & FALSE & FALSE\\\\\n\t FALSE & FALSE & FALSE & FALSE & FALSE & FALSE & FALSE & FALSE & FALSE & FALSE & FALSE & FALSE & FALSE & FALSE & FALSE\\\\\n\t FALSE & FALSE & FALSE & FALSE & FALSE & FALSE & FALSE & FALSE & FALSE & FALSE & FALSE & FALSE & FALSE & FALSE & FALSE\\\\\n\t FALSE & FALSE & FALSE & FALSE & FALSE & FALSE & FALSE & FALSE & FALSE & FALSE & FALSE & FALSE & FALSE & FALSE & FALSE\\\\\n\t FALSE & FALSE & FALSE & FALSE & FALSE & FALSE & FALSE & FALSE & FALSE & FALSE & FALSE & FALSE & FALSE & FALSE & FALSE\\\\\n\t FALSE & FALSE & FALSE & FALSE & FALSE & FALSE & FALSE & FALSE & FALSE & FALSE & FALSE & FALSE & FALSE & FALSE & FALSE\\\\\n\t FALSE & FALSE & FALSE & FALSE & FALSE & FALSE & FALSE & FALSE & FALSE & FALSE & FALSE & FALSE & FALSE & FALSE & FALSE\\\\\n\t FALSE & FALSE & FALSE & FALSE & FALSE & FALSE & FALSE & FALSE & FALSE & FALSE & FALSE & FALSE & FALSE & FALSE & FALSE\\\\\n\t FALSE & FALSE & FALSE & FALSE & FALSE & FALSE & FALSE & FALSE & FALSE & FALSE & FALSE & FALSE & FALSE & FALSE & FALSE\\\\\n\t FALSE & FALSE & FALSE & FALSE & FALSE & FALSE & FALSE & FALSE & FALSE & FALSE & FALSE & FALSE & FALSE & FALSE & FALSE\\\\\n\t FALSE & FALSE & FALSE & FALSE & FALSE & FALSE & FALSE & FALSE & FALSE & FALSE & FALSE & FALSE & FALSE & FALSE & FALSE\\\\\n\t FALSE & FALSE & FALSE & FALSE & FALSE & FALSE & FALSE & FALSE & FALSE & FALSE & FALSE & FALSE & FALSE & FALSE & FALSE\\\\\n\t FALSE & FALSE & FALSE & FALSE & FALSE & FALSE & FALSE & FALSE & FALSE & FALSE & FALSE & FALSE & FALSE & FALSE & FALSE\\\\\n\t FALSE & FALSE & FALSE & FALSE & FALSE & FALSE & FALSE & FALSE & FALSE & FALSE & FALSE & FALSE & FALSE & FALSE & FALSE\\\\\n\t FALSE & FALSE & FALSE & FALSE & FALSE & FALSE & FALSE & FALSE & FALSE & FALSE & FALSE & FALSE & FALSE & FALSE & FALSE\\\\\n\t FALSE & FALSE & FALSE & FALSE & FALSE & FALSE & FALSE & FALSE & FALSE & FALSE & FALSE & FALSE & FALSE & FALSE & FALSE\\\\\n\t FALSE & FALSE & FALSE & FALSE & FALSE & FALSE & FALSE & FALSE & FALSE & FALSE & FALSE & FALSE & FALSE & FALSE & FALSE\\\\\n\t FALSE & FALSE & FALSE & FALSE & FALSE & FALSE & FALSE & FALSE & FALSE & FALSE & FALSE & FALSE & FALSE & FALSE & FALSE\\\\\n\t FALSE & FALSE & FALSE & FALSE & FALSE & FALSE & FALSE & FALSE & FALSE & FALSE & FALSE & FALSE & FALSE & FALSE & FALSE\\\\\n\t FALSE & FALSE & FALSE & FALSE & FALSE & FALSE & FALSE & FALSE & FALSE & FALSE & FALSE & FALSE & FALSE & FALSE & FALSE\\\\\n\t FALSE & FALSE & FALSE & FALSE & FALSE & FALSE & FALSE & FALSE & FALSE & FALSE & FALSE & FALSE & FALSE & FALSE & FALSE\\\\\n\t FALSE & FALSE & FALSE & FALSE & FALSE & FALSE & FALSE & FALSE & FALSE & FALSE & FALSE & FALSE & FALSE & FALSE & FALSE\\\\\n\t FALSE & FALSE & FALSE & FALSE & FALSE & FALSE & FALSE & FALSE & FALSE & FALSE & FALSE & FALSE & FALSE & FALSE & FALSE\\\\\n\t FALSE & FALSE & FALSE & FALSE & FALSE & FALSE & FALSE & FALSE & FALSE & FALSE & FALSE & FALSE & FALSE & FALSE & FALSE\\\\\n\t ⋮ & ⋮ & ⋮ & ⋮ & ⋮ & ⋮ & ⋮ & ⋮ & ⋮ & ⋮ & ⋮ & ⋮ & ⋮ & ⋮ & ⋮\\\\\n\t FALSE & FALSE & FALSE & FALSE & FALSE & FALSE & FALSE & FALSE & FALSE & FALSE & FALSE & FALSE & FALSE & FALSE & FALSE\\\\\n\t FALSE & FALSE & FALSE & FALSE & FALSE & FALSE & FALSE & FALSE & FALSE & FALSE & FALSE & FALSE & FALSE & FALSE & FALSE\\\\\n\t FALSE & FALSE & FALSE & FALSE & FALSE & FALSE & FALSE & FALSE & FALSE & FALSE & FALSE & FALSE & FALSE & FALSE & FALSE\\\\\n\t FALSE & FALSE & FALSE & FALSE & FALSE & FALSE & FALSE & FALSE & FALSE & FALSE & FALSE & FALSE & FALSE & FALSE & FALSE\\\\\n\t FALSE & FALSE & FALSE & FALSE & FALSE & FALSE & FALSE & FALSE & FALSE & FALSE & FALSE & FALSE & FALSE & FALSE & FALSE\\\\\n\t FALSE & FALSE & FALSE & FALSE & FALSE & FALSE & FALSE & FALSE & FALSE & FALSE & FALSE & FALSE & FALSE & FALSE & FALSE\\\\\n\t FALSE & FALSE & FALSE & FALSE & FALSE & FALSE & FALSE & FALSE & FALSE & FALSE & FALSE & FALSE & FALSE & FALSE & FALSE\\\\\n\t FALSE & FALSE & FALSE & FALSE & FALSE & FALSE & FALSE & FALSE & FALSE & FALSE & FALSE & FALSE & FALSE & FALSE & FALSE\\\\\n\t FALSE & FALSE & FALSE & FALSE & FALSE & FALSE & FALSE & FALSE & FALSE & FALSE & FALSE & FALSE & FALSE & FALSE & FALSE\\\\\n\t FALSE & FALSE & FALSE & FALSE & FALSE & FALSE & FALSE & FALSE & FALSE & FALSE & FALSE & FALSE & FALSE & FALSE & FALSE\\\\\n\t FALSE & FALSE & FALSE & FALSE & FALSE & FALSE & FALSE & FALSE & FALSE & FALSE & FALSE & FALSE & FALSE & FALSE & FALSE\\\\\n\t FALSE & FALSE & FALSE & FALSE & FALSE & FALSE & FALSE & FALSE & FALSE & FALSE & FALSE & FALSE & FALSE & FALSE & FALSE\\\\\n\t FALSE & FALSE & FALSE & FALSE & FALSE & FALSE & FALSE & FALSE & FALSE & FALSE & FALSE & FALSE & FALSE & FALSE & FALSE\\\\\n\t FALSE & FALSE & FALSE & FALSE & FALSE & FALSE & FALSE & FALSE & FALSE & FALSE & FALSE & FALSE & FALSE & FALSE & FALSE\\\\\n\t FALSE & FALSE & FALSE & FALSE & FALSE & FALSE & FALSE & FALSE & FALSE & FALSE & FALSE & FALSE & FALSE & FALSE & FALSE\\\\\n\t FALSE & FALSE & FALSE & FALSE & FALSE & FALSE & FALSE & FALSE & FALSE & FALSE & FALSE & FALSE & FALSE & FALSE & FALSE\\\\\n\t FALSE & FALSE & FALSE & FALSE & FALSE & FALSE & FALSE & FALSE & FALSE & FALSE & FALSE & FALSE & FALSE & FALSE & FALSE\\\\\n\t FALSE & FALSE & FALSE & FALSE & FALSE & FALSE & FALSE & FALSE & FALSE & FALSE & FALSE & FALSE & FALSE & FALSE & FALSE\\\\\n\t FALSE & FALSE & FALSE & FALSE & FALSE & FALSE & FALSE & FALSE & FALSE & FALSE & FALSE & FALSE & FALSE & FALSE & FALSE\\\\\n\t FALSE & FALSE & FALSE & FALSE & FALSE & FALSE & FALSE & FALSE & FALSE & FALSE & FALSE & FALSE & FALSE & FALSE & FALSE\\\\\n\t FALSE & FALSE & FALSE & FALSE & FALSE & FALSE & FALSE & FALSE & FALSE & FALSE & FALSE & FALSE & FALSE & FALSE & FALSE\\\\\n\t FALSE & FALSE & FALSE & FALSE & FALSE & FALSE & FALSE & FALSE & FALSE & FALSE & FALSE & FALSE & FALSE & FALSE & FALSE\\\\\n\t FALSE & FALSE & FALSE & FALSE & FALSE & FALSE & FALSE & FALSE & FALSE & FALSE & FALSE & FALSE & FALSE & FALSE & FALSE\\\\\n\t FALSE & FALSE & FALSE & FALSE & FALSE & FALSE & FALSE & FALSE & FALSE & FALSE & FALSE & FALSE & FALSE & FALSE & FALSE\\\\\n\t FALSE & FALSE & FALSE & FALSE & FALSE & FALSE & FALSE & FALSE & FALSE & FALSE & FALSE & FALSE & FALSE & FALSE & FALSE\\\\\n\t FALSE & FALSE & FALSE & FALSE & FALSE & FALSE & FALSE & FALSE & FALSE & FALSE & FALSE & FALSE & FALSE & FALSE & FALSE\\\\\n\t FALSE & FALSE & FALSE & FALSE & FALSE & FALSE & FALSE & FALSE & FALSE & FALSE & FALSE & FALSE & FALSE & FALSE & FALSE\\\\\n\t FALSE & FALSE & FALSE & FALSE & FALSE & FALSE & FALSE & FALSE & FALSE & FALSE & FALSE & FALSE & FALSE & FALSE & FALSE\\\\\n\t FALSE & FALSE & FALSE & FALSE & FALSE & FALSE & FALSE & FALSE & FALSE & FALSE & FALSE & FALSE & FALSE & FALSE & FALSE\\\\\n\t FALSE & FALSE & FALSE & FALSE & FALSE & FALSE & FALSE & FALSE & FALSE & FALSE & FALSE & FALSE & FALSE & FALSE & FALSE\\\\\n\\end{tabular}\n",
            "text/plain": [
              "      Id    ActivityDate TotalSteps TotalDistance TrackerDistance\n",
              " [1,] FALSE FALSE        FALSE      FALSE         FALSE          \n",
              " [2,] FALSE FALSE        FALSE      FALSE         FALSE          \n",
              " [3,] FALSE FALSE        FALSE      FALSE         FALSE          \n",
              " [4,] FALSE FALSE        FALSE      FALSE         FALSE          \n",
              " [5,] FALSE FALSE        FALSE      FALSE         FALSE          \n",
              " [6,] FALSE FALSE        FALSE      FALSE         FALSE          \n",
              " [7,] FALSE FALSE        FALSE      FALSE         FALSE          \n",
              " [8,] FALSE FALSE        FALSE      FALSE         FALSE          \n",
              " [9,] FALSE FALSE        FALSE      FALSE         FALSE          \n",
              "[10,] FALSE FALSE        FALSE      FALSE         FALSE          \n",
              "[11,] FALSE FALSE        FALSE      FALSE         FALSE          \n",
              "[12,] FALSE FALSE        FALSE      FALSE         FALSE          \n",
              "[13,] FALSE FALSE        FALSE      FALSE         FALSE          \n",
              "[14,] FALSE FALSE        FALSE      FALSE         FALSE          \n",
              "[15,] FALSE FALSE        FALSE      FALSE         FALSE          \n",
              "[16,] FALSE FALSE        FALSE      FALSE         FALSE          \n",
              "[17,] FALSE FALSE        FALSE      FALSE         FALSE          \n",
              "[18,] FALSE FALSE        FALSE      FALSE         FALSE          \n",
              "[19,] FALSE FALSE        FALSE      FALSE         FALSE          \n",
              "[20,] FALSE FALSE        FALSE      FALSE         FALSE          \n",
              "[21,] FALSE FALSE        FALSE      FALSE         FALSE          \n",
              "[22,] FALSE FALSE        FALSE      FALSE         FALSE          \n",
              "[23,] FALSE FALSE        FALSE      FALSE         FALSE          \n",
              "[24,] FALSE FALSE        FALSE      FALSE         FALSE          \n",
              "[25,] FALSE FALSE        FALSE      FALSE         FALSE          \n",
              "[26,] FALSE FALSE        FALSE      FALSE         FALSE          \n",
              "[27,] FALSE FALSE        FALSE      FALSE         FALSE          \n",
              "[28,] FALSE FALSE        FALSE      FALSE         FALSE          \n",
              "[29,] FALSE FALSE        FALSE      FALSE         FALSE          \n",
              "[30,] FALSE FALSE        FALSE      FALSE         FALSE          \n",
              "[31,] ⋮     ⋮            ⋮          ⋮             ⋮              \n",
              "[32,] FALSE FALSE        FALSE      FALSE         FALSE          \n",
              "[33,] FALSE FALSE        FALSE      FALSE         FALSE          \n",
              "[34,] FALSE FALSE        FALSE      FALSE         FALSE          \n",
              "[35,] FALSE FALSE        FALSE      FALSE         FALSE          \n",
              "[36,] FALSE FALSE        FALSE      FALSE         FALSE          \n",
              "[37,] FALSE FALSE        FALSE      FALSE         FALSE          \n",
              "[38,] FALSE FALSE        FALSE      FALSE         FALSE          \n",
              "[39,] FALSE FALSE        FALSE      FALSE         FALSE          \n",
              "[40,] FALSE FALSE        FALSE      FALSE         FALSE          \n",
              "[41,] FALSE FALSE        FALSE      FALSE         FALSE          \n",
              "[42,] FALSE FALSE        FALSE      FALSE         FALSE          \n",
              "[43,] FALSE FALSE        FALSE      FALSE         FALSE          \n",
              "[44,] FALSE FALSE        FALSE      FALSE         FALSE          \n",
              "[45,] FALSE FALSE        FALSE      FALSE         FALSE          \n",
              "[46,] FALSE FALSE        FALSE      FALSE         FALSE          \n",
              "[47,] FALSE FALSE        FALSE      FALSE         FALSE          \n",
              "[48,] FALSE FALSE        FALSE      FALSE         FALSE          \n",
              "[49,] FALSE FALSE        FALSE      FALSE         FALSE          \n",
              "[50,] FALSE FALSE        FALSE      FALSE         FALSE          \n",
              "[51,] FALSE FALSE        FALSE      FALSE         FALSE          \n",
              "[52,] FALSE FALSE        FALSE      FALSE         FALSE          \n",
              "[53,] FALSE FALSE        FALSE      FALSE         FALSE          \n",
              "[54,] FALSE FALSE        FALSE      FALSE         FALSE          \n",
              "[55,] FALSE FALSE        FALSE      FALSE         FALSE          \n",
              "[56,] FALSE FALSE        FALSE      FALSE         FALSE          \n",
              "[57,] FALSE FALSE        FALSE      FALSE         FALSE          \n",
              "[58,] FALSE FALSE        FALSE      FALSE         FALSE          \n",
              "[59,] FALSE FALSE        FALSE      FALSE         FALSE          \n",
              "[60,] FALSE FALSE        FALSE      FALSE         FALSE          \n",
              "[61,] FALSE FALSE        FALSE      FALSE         FALSE          \n",
              "      LoggedActivitiesDistance VeryActiveDistance ModeratelyActiveDistance\n",
              " [1,] FALSE                    FALSE              FALSE                   \n",
              " [2,] FALSE                    FALSE              FALSE                   \n",
              " [3,] FALSE                    FALSE              FALSE                   \n",
              " [4,] FALSE                    FALSE              FALSE                   \n",
              " [5,] FALSE                    FALSE              FALSE                   \n",
              " [6,] FALSE                    FALSE              FALSE                   \n",
              " [7,] FALSE                    FALSE              FALSE                   \n",
              " [8,] FALSE                    FALSE              FALSE                   \n",
              " [9,] FALSE                    FALSE              FALSE                   \n",
              "[10,] FALSE                    FALSE              FALSE                   \n",
              "[11,] FALSE                    FALSE              FALSE                   \n",
              "[12,] FALSE                    FALSE              FALSE                   \n",
              "[13,] FALSE                    FALSE              FALSE                   \n",
              "[14,] FALSE                    FALSE              FALSE                   \n",
              "[15,] FALSE                    FALSE              FALSE                   \n",
              "[16,] FALSE                    FALSE              FALSE                   \n",
              "[17,] FALSE                    FALSE              FALSE                   \n",
              "[18,] FALSE                    FALSE              FALSE                   \n",
              "[19,] FALSE                    FALSE              FALSE                   \n",
              "[20,] FALSE                    FALSE              FALSE                   \n",
              "[21,] FALSE                    FALSE              FALSE                   \n",
              "[22,] FALSE                    FALSE              FALSE                   \n",
              "[23,] FALSE                    FALSE              FALSE                   \n",
              "[24,] FALSE                    FALSE              FALSE                   \n",
              "[25,] FALSE                    FALSE              FALSE                   \n",
              "[26,] FALSE                    FALSE              FALSE                   \n",
              "[27,] FALSE                    FALSE              FALSE                   \n",
              "[28,] FALSE                    FALSE              FALSE                   \n",
              "[29,] FALSE                    FALSE              FALSE                   \n",
              "[30,] FALSE                    FALSE              FALSE                   \n",
              "[31,] ⋮                        ⋮                  ⋮                       \n",
              "[32,] FALSE                    FALSE              FALSE                   \n",
              "[33,] FALSE                    FALSE              FALSE                   \n",
              "[34,] FALSE                    FALSE              FALSE                   \n",
              "[35,] FALSE                    FALSE              FALSE                   \n",
              "[36,] FALSE                    FALSE              FALSE                   \n",
              "[37,] FALSE                    FALSE              FALSE                   \n",
              "[38,] FALSE                    FALSE              FALSE                   \n",
              "[39,] FALSE                    FALSE              FALSE                   \n",
              "[40,] FALSE                    FALSE              FALSE                   \n",
              "[41,] FALSE                    FALSE              FALSE                   \n",
              "[42,] FALSE                    FALSE              FALSE                   \n",
              "[43,] FALSE                    FALSE              FALSE                   \n",
              "[44,] FALSE                    FALSE              FALSE                   \n",
              "[45,] FALSE                    FALSE              FALSE                   \n",
              "[46,] FALSE                    FALSE              FALSE                   \n",
              "[47,] FALSE                    FALSE              FALSE                   \n",
              "[48,] FALSE                    FALSE              FALSE                   \n",
              "[49,] FALSE                    FALSE              FALSE                   \n",
              "[50,] FALSE                    FALSE              FALSE                   \n",
              "[51,] FALSE                    FALSE              FALSE                   \n",
              "[52,] FALSE                    FALSE              FALSE                   \n",
              "[53,] FALSE                    FALSE              FALSE                   \n",
              "[54,] FALSE                    FALSE              FALSE                   \n",
              "[55,] FALSE                    FALSE              FALSE                   \n",
              "[56,] FALSE                    FALSE              FALSE                   \n",
              "[57,] FALSE                    FALSE              FALSE                   \n",
              "[58,] FALSE                    FALSE              FALSE                   \n",
              "[59,] FALSE                    FALSE              FALSE                   \n",
              "[60,] FALSE                    FALSE              FALSE                   \n",
              "[61,] FALSE                    FALSE              FALSE                   \n",
              "      LightActiveDistance SedentaryActiveDistance VeryActiveMinutes\n",
              " [1,] FALSE               FALSE                   FALSE            \n",
              " [2,] FALSE               FALSE                   FALSE            \n",
              " [3,] FALSE               FALSE                   FALSE            \n",
              " [4,] FALSE               FALSE                   FALSE            \n",
              " [5,] FALSE               FALSE                   FALSE            \n",
              " [6,] FALSE               FALSE                   FALSE            \n",
              " [7,] FALSE               FALSE                   FALSE            \n",
              " [8,] FALSE               FALSE                   FALSE            \n",
              " [9,] FALSE               FALSE                   FALSE            \n",
              "[10,] FALSE               FALSE                   FALSE            \n",
              "[11,] FALSE               FALSE                   FALSE            \n",
              "[12,] FALSE               FALSE                   FALSE            \n",
              "[13,] FALSE               FALSE                   FALSE            \n",
              "[14,] FALSE               FALSE                   FALSE            \n",
              "[15,] FALSE               FALSE                   FALSE            \n",
              "[16,] FALSE               FALSE                   FALSE            \n",
              "[17,] FALSE               FALSE                   FALSE            \n",
              "[18,] FALSE               FALSE                   FALSE            \n",
              "[19,] FALSE               FALSE                   FALSE            \n",
              "[20,] FALSE               FALSE                   FALSE            \n",
              "[21,] FALSE               FALSE                   FALSE            \n",
              "[22,] FALSE               FALSE                   FALSE            \n",
              "[23,] FALSE               FALSE                   FALSE            \n",
              "[24,] FALSE               FALSE                   FALSE            \n",
              "[25,] FALSE               FALSE                   FALSE            \n",
              "[26,] FALSE               FALSE                   FALSE            \n",
              "[27,] FALSE               FALSE                   FALSE            \n",
              "[28,] FALSE               FALSE                   FALSE            \n",
              "[29,] FALSE               FALSE                   FALSE            \n",
              "[30,] FALSE               FALSE                   FALSE            \n",
              "[31,] ⋮                   ⋮                       ⋮                \n",
              "[32,] FALSE               FALSE                   FALSE            \n",
              "[33,] FALSE               FALSE                   FALSE            \n",
              "[34,] FALSE               FALSE                   FALSE            \n",
              "[35,] FALSE               FALSE                   FALSE            \n",
              "[36,] FALSE               FALSE                   FALSE            \n",
              "[37,] FALSE               FALSE                   FALSE            \n",
              "[38,] FALSE               FALSE                   FALSE            \n",
              "[39,] FALSE               FALSE                   FALSE            \n",
              "[40,] FALSE               FALSE                   FALSE            \n",
              "[41,] FALSE               FALSE                   FALSE            \n",
              "[42,] FALSE               FALSE                   FALSE            \n",
              "[43,] FALSE               FALSE                   FALSE            \n",
              "[44,] FALSE               FALSE                   FALSE            \n",
              "[45,] FALSE               FALSE                   FALSE            \n",
              "[46,] FALSE               FALSE                   FALSE            \n",
              "[47,] FALSE               FALSE                   FALSE            \n",
              "[48,] FALSE               FALSE                   FALSE            \n",
              "[49,] FALSE               FALSE                   FALSE            \n",
              "[50,] FALSE               FALSE                   FALSE            \n",
              "[51,] FALSE               FALSE                   FALSE            \n",
              "[52,] FALSE               FALSE                   FALSE            \n",
              "[53,] FALSE               FALSE                   FALSE            \n",
              "[54,] FALSE               FALSE                   FALSE            \n",
              "[55,] FALSE               FALSE                   FALSE            \n",
              "[56,] FALSE               FALSE                   FALSE            \n",
              "[57,] FALSE               FALSE                   FALSE            \n",
              "[58,] FALSE               FALSE                   FALSE            \n",
              "[59,] FALSE               FALSE                   FALSE            \n",
              "[60,] FALSE               FALSE                   FALSE            \n",
              "[61,] FALSE               FALSE                   FALSE            \n",
              "      FairlyActiveMinutes LightlyActiveMinutes SedentaryMinutes Calories\n",
              " [1,] FALSE               FALSE                FALSE            FALSE   \n",
              " [2,] FALSE               FALSE                FALSE            FALSE   \n",
              " [3,] FALSE               FALSE                FALSE            FALSE   \n",
              " [4,] FALSE               FALSE                FALSE            FALSE   \n",
              " [5,] FALSE               FALSE                FALSE            FALSE   \n",
              " [6,] FALSE               FALSE                FALSE            FALSE   \n",
              " [7,] FALSE               FALSE                FALSE            FALSE   \n",
              " [8,] FALSE               FALSE                FALSE            FALSE   \n",
              " [9,] FALSE               FALSE                FALSE            FALSE   \n",
              "[10,] FALSE               FALSE                FALSE            FALSE   \n",
              "[11,] FALSE               FALSE                FALSE            FALSE   \n",
              "[12,] FALSE               FALSE                FALSE            FALSE   \n",
              "[13,] FALSE               FALSE                FALSE            FALSE   \n",
              "[14,] FALSE               FALSE                FALSE            FALSE   \n",
              "[15,] FALSE               FALSE                FALSE            FALSE   \n",
              "[16,] FALSE               FALSE                FALSE            FALSE   \n",
              "[17,] FALSE               FALSE                FALSE            FALSE   \n",
              "[18,] FALSE               FALSE                FALSE            FALSE   \n",
              "[19,] FALSE               FALSE                FALSE            FALSE   \n",
              "[20,] FALSE               FALSE                FALSE            FALSE   \n",
              "[21,] FALSE               FALSE                FALSE            FALSE   \n",
              "[22,] FALSE               FALSE                FALSE            FALSE   \n",
              "[23,] FALSE               FALSE                FALSE            FALSE   \n",
              "[24,] FALSE               FALSE                FALSE            FALSE   \n",
              "[25,] FALSE               FALSE                FALSE            FALSE   \n",
              "[26,] FALSE               FALSE                FALSE            FALSE   \n",
              "[27,] FALSE               FALSE                FALSE            FALSE   \n",
              "[28,] FALSE               FALSE                FALSE            FALSE   \n",
              "[29,] FALSE               FALSE                FALSE            FALSE   \n",
              "[30,] FALSE               FALSE                FALSE            FALSE   \n",
              "[31,] ⋮                   ⋮                    ⋮                ⋮       \n",
              "[32,] FALSE               FALSE                FALSE            FALSE   \n",
              "[33,] FALSE               FALSE                FALSE            FALSE   \n",
              "[34,] FALSE               FALSE                FALSE            FALSE   \n",
              "[35,] FALSE               FALSE                FALSE            FALSE   \n",
              "[36,] FALSE               FALSE                FALSE            FALSE   \n",
              "[37,] FALSE               FALSE                FALSE            FALSE   \n",
              "[38,] FALSE               FALSE                FALSE            FALSE   \n",
              "[39,] FALSE               FALSE                FALSE            FALSE   \n",
              "[40,] FALSE               FALSE                FALSE            FALSE   \n",
              "[41,] FALSE               FALSE                FALSE            FALSE   \n",
              "[42,] FALSE               FALSE                FALSE            FALSE   \n",
              "[43,] FALSE               FALSE                FALSE            FALSE   \n",
              "[44,] FALSE               FALSE                FALSE            FALSE   \n",
              "[45,] FALSE               FALSE                FALSE            FALSE   \n",
              "[46,] FALSE               FALSE                FALSE            FALSE   \n",
              "[47,] FALSE               FALSE                FALSE            FALSE   \n",
              "[48,] FALSE               FALSE                FALSE            FALSE   \n",
              "[49,] FALSE               FALSE                FALSE            FALSE   \n",
              "[50,] FALSE               FALSE                FALSE            FALSE   \n",
              "[51,] FALSE               FALSE                FALSE            FALSE   \n",
              "[52,] FALSE               FALSE                FALSE            FALSE   \n",
              "[53,] FALSE               FALSE                FALSE            FALSE   \n",
              "[54,] FALSE               FALSE                FALSE            FALSE   \n",
              "[55,] FALSE               FALSE                FALSE            FALSE   \n",
              "[56,] FALSE               FALSE                FALSE            FALSE   \n",
              "[57,] FALSE               FALSE                FALSE            FALSE   \n",
              "[58,] FALSE               FALSE                FALSE            FALSE   \n",
              "[59,] FALSE               FALSE                FALSE            FALSE   \n",
              "[60,] FALSE               FALSE                FALSE            FALSE   \n",
              "[61,] FALSE               FALSE                FALSE            FALSE   "
            ]
          },
          "metadata": {}
        },
        {
          "output_type": "display_data",
          "data": {
            "text/html": [
              "0"
            ],
            "text/markdown": "0",
            "text/latex": "0",
            "text/plain": [
              "[1] 0"
            ]
          },
          "metadata": {}
        }
      ],
      "source": [
        "# Verificando a condição de valores ausentes\n",
        "is.na(daily_activity)\n",
        "sum(is.na(daily_activity))"
      ]
    },
    {
      "cell_type": "markdown",
      "id": "190bec30",
      "metadata": {
        "papermill": {
          "duration": 0.018726,
          "end_time": "2023-08-20T02:21:43.654229",
          "exception": false,
          "start_time": "2023-08-20T02:21:43.635503",
          "status": "completed"
        },
        "tags": [],
        "id": "190bec30"
      },
      "source": [
        "#### 3.6 Verificar se há duplicatas"
      ]
    },
    {
      "cell_type": "code",
      "execution_count": 14,
      "id": "23c794f6",
      "metadata": {
        "execution": {
          "iopub.execute_input": "2023-08-20T02:21:43.694710Z",
          "iopub.status.busy": "2023-08-20T02:21:43.693557Z",
          "iopub.status.idle": "2023-08-20T02:21:43.725746Z",
          "shell.execute_reply": "2023-08-20T02:21:43.724013Z"
        },
        "papermill": {
          "duration": 0.055267,
          "end_time": "2023-08-20T02:21:43.728249",
          "exception": false,
          "start_time": "2023-08-20T02:21:43.672982",
          "status": "completed"
        },
        "tags": [],
        "id": "23c794f6",
        "colab": {
          "base_uri": "https://localhost:8080/",
          "height": 312
        },
        "outputId": "17a90b8d-6deb-4692-90d2-80101b8f5a42"
      },
      "outputs": [
        {
          "output_type": "display_data",
          "data": {
            "text/html": [
              "<style>\n",
              ".list-inline {list-style: none; margin:0; padding: 0}\n",
              ".list-inline>li {display: inline-block}\n",
              ".list-inline>li:not(:last-child)::after {content: \"\\00b7\"; padding: 0 .5ex}\n",
              "</style>\n",
              "<ol class=list-inline><li>FALSE</li><li>FALSE</li><li>FALSE</li><li>FALSE</li><li>FALSE</li><li>FALSE</li><li>FALSE</li><li>FALSE</li><li>FALSE</li><li>FALSE</li><li>FALSE</li><li>FALSE</li><li>FALSE</li><li>FALSE</li><li>FALSE</li><li>FALSE</li><li>FALSE</li><li>FALSE</li><li>FALSE</li><li>FALSE</li><li>FALSE</li><li>FALSE</li><li>FALSE</li><li>FALSE</li><li>FALSE</li><li>FALSE</li><li>FALSE</li><li>FALSE</li><li>FALSE</li><li>FALSE</li><li>FALSE</li><li>FALSE</li><li>FALSE</li><li>FALSE</li><li>FALSE</li><li>FALSE</li><li>FALSE</li><li>FALSE</li><li>FALSE</li><li>FALSE</li><li>FALSE</li><li>FALSE</li><li>FALSE</li><li>FALSE</li><li>FALSE</li><li>FALSE</li><li>FALSE</li><li>FALSE</li><li>FALSE</li><li>FALSE</li><li>FALSE</li><li>FALSE</li><li>FALSE</li><li>FALSE</li><li>FALSE</li><li>FALSE</li><li>FALSE</li><li>FALSE</li><li>FALSE</li><li>FALSE</li><li>FALSE</li><li>FALSE</li><li>FALSE</li><li>FALSE</li><li>FALSE</li><li>FALSE</li><li>FALSE</li><li>FALSE</li><li>FALSE</li><li>FALSE</li><li>FALSE</li><li>FALSE</li><li>FALSE</li><li>FALSE</li><li>FALSE</li><li>FALSE</li><li>FALSE</li><li>FALSE</li><li>FALSE</li><li>FALSE</li><li>FALSE</li><li>FALSE</li><li>FALSE</li><li>FALSE</li><li>FALSE</li><li>FALSE</li><li>FALSE</li><li>FALSE</li><li>FALSE</li><li>FALSE</li><li>FALSE</li><li>FALSE</li><li>FALSE</li><li>FALSE</li><li>FALSE</li><li>FALSE</li><li>FALSE</li><li>FALSE</li><li>FALSE</li><li>FALSE</li><li>FALSE</li><li>FALSE</li><li>FALSE</li><li>FALSE</li><li>FALSE</li><li>FALSE</li><li>FALSE</li><li>FALSE</li><li>FALSE</li><li>FALSE</li><li>FALSE</li><li>FALSE</li><li>FALSE</li><li>FALSE</li><li>FALSE</li><li>FALSE</li><li>FALSE</li><li>FALSE</li><li>FALSE</li><li>FALSE</li><li>FALSE</li><li>FALSE</li><li>FALSE</li><li>FALSE</li><li>FALSE</li><li>FALSE</li><li>FALSE</li><li>FALSE</li><li>FALSE</li><li>FALSE</li><li>FALSE</li><li>FALSE</li><li>FALSE</li><li>FALSE</li><li>FALSE</li><li>FALSE</li><li>FALSE</li><li>FALSE</li><li>FALSE</li><li>FALSE</li><li>FALSE</li><li>FALSE</li><li>FALSE</li><li>FALSE</li><li>FALSE</li><li>FALSE</li><li>FALSE</li><li>FALSE</li><li>FALSE</li><li>FALSE</li><li>FALSE</li><li>FALSE</li><li>FALSE</li><li>FALSE</li><li>FALSE</li><li>FALSE</li><li>FALSE</li><li>FALSE</li><li>FALSE</li><li>FALSE</li><li>FALSE</li><li>FALSE</li><li>FALSE</li><li>FALSE</li><li>FALSE</li><li>FALSE</li><li>FALSE</li><li>FALSE</li><li>FALSE</li><li>FALSE</li><li>FALSE</li><li>FALSE</li><li>FALSE</li><li>FALSE</li><li>FALSE</li><li>FALSE</li><li>FALSE</li><li>FALSE</li><li>FALSE</li><li>FALSE</li><li>FALSE</li><li>FALSE</li><li>FALSE</li><li>FALSE</li><li>FALSE</li><li>FALSE</li><li>FALSE</li><li>FALSE</li><li>FALSE</li><li>FALSE</li><li>FALSE</li><li>FALSE</li><li>FALSE</li><li>FALSE</li><li>FALSE</li><li>FALSE</li><li>FALSE</li><li>FALSE</li><li>FALSE</li><li>FALSE</li><li>⋯</li><li>FALSE</li><li>FALSE</li><li>FALSE</li><li>FALSE</li><li>FALSE</li><li>FALSE</li><li>FALSE</li><li>FALSE</li><li>FALSE</li><li>FALSE</li><li>FALSE</li><li>FALSE</li><li>FALSE</li><li>FALSE</li><li>FALSE</li><li>FALSE</li><li>FALSE</li><li>FALSE</li><li>FALSE</li><li>FALSE</li><li>FALSE</li><li>FALSE</li><li>FALSE</li><li>FALSE</li><li>FALSE</li><li>FALSE</li><li>FALSE</li><li>FALSE</li><li>FALSE</li><li>FALSE</li><li>FALSE</li><li>FALSE</li><li>FALSE</li><li>FALSE</li><li>FALSE</li><li>FALSE</li><li>FALSE</li><li>FALSE</li><li>FALSE</li><li>FALSE</li><li>FALSE</li><li>FALSE</li><li>FALSE</li><li>FALSE</li><li>FALSE</li><li>FALSE</li><li>FALSE</li><li>FALSE</li><li>FALSE</li><li>FALSE</li><li>FALSE</li><li>FALSE</li><li>FALSE</li><li>FALSE</li><li>FALSE</li><li>FALSE</li><li>FALSE</li><li>FALSE</li><li>FALSE</li><li>FALSE</li><li>FALSE</li><li>FALSE</li><li>FALSE</li><li>FALSE</li><li>FALSE</li><li>FALSE</li><li>FALSE</li><li>FALSE</li><li>FALSE</li><li>FALSE</li><li>FALSE</li><li>FALSE</li><li>FALSE</li><li>FALSE</li><li>FALSE</li><li>FALSE</li><li>FALSE</li><li>FALSE</li><li>FALSE</li><li>FALSE</li><li>FALSE</li><li>FALSE</li><li>FALSE</li><li>FALSE</li><li>FALSE</li><li>FALSE</li><li>FALSE</li><li>FALSE</li><li>FALSE</li><li>FALSE</li><li>FALSE</li><li>FALSE</li><li>FALSE</li><li>FALSE</li><li>FALSE</li><li>FALSE</li><li>FALSE</li><li>FALSE</li><li>FALSE</li><li>FALSE</li><li>FALSE</li><li>FALSE</li><li>FALSE</li><li>FALSE</li><li>FALSE</li><li>FALSE</li><li>FALSE</li><li>FALSE</li><li>FALSE</li><li>FALSE</li><li>FALSE</li><li>FALSE</li><li>FALSE</li><li>FALSE</li><li>FALSE</li><li>FALSE</li><li>FALSE</li><li>FALSE</li><li>FALSE</li><li>FALSE</li><li>FALSE</li><li>FALSE</li><li>FALSE</li><li>FALSE</li><li>FALSE</li><li>FALSE</li><li>FALSE</li><li>FALSE</li><li>FALSE</li><li>FALSE</li><li>FALSE</li><li>FALSE</li><li>FALSE</li><li>FALSE</li><li>FALSE</li><li>FALSE</li><li>FALSE</li><li>FALSE</li><li>FALSE</li><li>FALSE</li><li>FALSE</li><li>FALSE</li><li>FALSE</li><li>FALSE</li><li>FALSE</li><li>FALSE</li><li>FALSE</li><li>FALSE</li><li>FALSE</li><li>FALSE</li><li>FALSE</li><li>FALSE</li><li>FALSE</li><li>FALSE</li><li>FALSE</li><li>FALSE</li><li>FALSE</li><li>FALSE</li><li>FALSE</li><li>FALSE</li><li>FALSE</li><li>FALSE</li><li>FALSE</li><li>FALSE</li><li>FALSE</li><li>FALSE</li><li>FALSE</li><li>FALSE</li><li>FALSE</li><li>FALSE</li><li>FALSE</li><li>FALSE</li><li>FALSE</li><li>FALSE</li><li>FALSE</li><li>FALSE</li><li>FALSE</li><li>FALSE</li><li>FALSE</li><li>FALSE</li><li>FALSE</li><li>FALSE</li><li>FALSE</li><li>FALSE</li><li>FALSE</li><li>FALSE</li><li>FALSE</li><li>FALSE</li><li>FALSE</li><li>FALSE</li><li>FALSE</li><li>FALSE</li><li>FALSE</li><li>FALSE</li><li>FALSE</li><li>FALSE</li><li>FALSE</li><li>FALSE</li><li>FALSE</li><li>FALSE</li></ol>\n"
            ],
            "text/markdown": "1. FALSE\n2. FALSE\n3. FALSE\n4. FALSE\n5. FALSE\n6. FALSE\n7. FALSE\n8. FALSE\n9. FALSE\n10. FALSE\n11. FALSE\n12. FALSE\n13. FALSE\n14. FALSE\n15. FALSE\n16. FALSE\n17. FALSE\n18. FALSE\n19. FALSE\n20. FALSE\n21. FALSE\n22. FALSE\n23. FALSE\n24. FALSE\n25. FALSE\n26. FALSE\n27. FALSE\n28. FALSE\n29. FALSE\n30. FALSE\n31. FALSE\n32. FALSE\n33. FALSE\n34. FALSE\n35. FALSE\n36. FALSE\n37. FALSE\n38. FALSE\n39. FALSE\n40. FALSE\n41. FALSE\n42. FALSE\n43. FALSE\n44. FALSE\n45. FALSE\n46. FALSE\n47. FALSE\n48. FALSE\n49. FALSE\n50. FALSE\n51. FALSE\n52. FALSE\n53. FALSE\n54. FALSE\n55. FALSE\n56. FALSE\n57. FALSE\n58. FALSE\n59. FALSE\n60. FALSE\n61. FALSE\n62. FALSE\n63. FALSE\n64. FALSE\n65. FALSE\n66. FALSE\n67. FALSE\n68. FALSE\n69. FALSE\n70. FALSE\n71. FALSE\n72. FALSE\n73. FALSE\n74. FALSE\n75. FALSE\n76. FALSE\n77. FALSE\n78. FALSE\n79. FALSE\n80. FALSE\n81. FALSE\n82. FALSE\n83. FALSE\n84. FALSE\n85. FALSE\n86. FALSE\n87. FALSE\n88. FALSE\n89. FALSE\n90. FALSE\n91. FALSE\n92. FALSE\n93. FALSE\n94. FALSE\n95. FALSE\n96. FALSE\n97. FALSE\n98. FALSE\n99. FALSE\n100. FALSE\n101. FALSE\n102. FALSE\n103. FALSE\n104. FALSE\n105. FALSE\n106. FALSE\n107. FALSE\n108. FALSE\n109. FALSE\n110. FALSE\n111. FALSE\n112. FALSE\n113. FALSE\n114. FALSE\n115. FALSE\n116. FALSE\n117. FALSE\n118. FALSE\n119. FALSE\n120. FALSE\n121. FALSE\n122. FALSE\n123. FALSE\n124. FALSE\n125. FALSE\n126. FALSE\n127. FALSE\n128. FALSE\n129. FALSE\n130. FALSE\n131. FALSE\n132. FALSE\n133. FALSE\n134. FALSE\n135. FALSE\n136. FALSE\n137. FALSE\n138. FALSE\n139. FALSE\n140. FALSE\n141. FALSE\n142. FALSE\n143. FALSE\n144. FALSE\n145. FALSE\n146. FALSE\n147. FALSE\n148. FALSE\n149. FALSE\n150. FALSE\n151. FALSE\n152. FALSE\n153. FALSE\n154. FALSE\n155. FALSE\n156. FALSE\n157. FALSE\n158. FALSE\n159. FALSE\n160. FALSE\n161. FALSE\n162. FALSE\n163. FALSE\n164. FALSE\n165. FALSE\n166. FALSE\n167. FALSE\n168. FALSE\n169. FALSE\n170. FALSE\n171. FALSE\n172. FALSE\n173. FALSE\n174. FALSE\n175. FALSE\n176. FALSE\n177. FALSE\n178. FALSE\n179. FALSE\n180. FALSE\n181. FALSE\n182. FALSE\n183. FALSE\n184. FALSE\n185. FALSE\n186. FALSE\n187. FALSE\n188. FALSE\n189. FALSE\n190. FALSE\n191. FALSE\n192. FALSE\n193. FALSE\n194. FALSE\n195. FALSE\n196. FALSE\n197. FALSE\n198. FALSE\n199. FALSE\n200. FALSE\n201. ⋯\n202. FALSE\n203. FALSE\n204. FALSE\n205. FALSE\n206. FALSE\n207. FALSE\n208. FALSE\n209. FALSE\n210. FALSE\n211. FALSE\n212. FALSE\n213. FALSE\n214. FALSE\n215. FALSE\n216. FALSE\n217. FALSE\n218. FALSE\n219. FALSE\n220. FALSE\n221. FALSE\n222. FALSE\n223. FALSE\n224. FALSE\n225. FALSE\n226. FALSE\n227. FALSE\n228. FALSE\n229. FALSE\n230. FALSE\n231. FALSE\n232. FALSE\n233. FALSE\n234. FALSE\n235. FALSE\n236. FALSE\n237. FALSE\n238. FALSE\n239. FALSE\n240. FALSE\n241. FALSE\n242. FALSE\n243. FALSE\n244. FALSE\n245. FALSE\n246. FALSE\n247. FALSE\n248. FALSE\n249. FALSE\n250. FALSE\n251. FALSE\n252. FALSE\n253. FALSE\n254. FALSE\n255. FALSE\n256. FALSE\n257. FALSE\n258. FALSE\n259. FALSE\n260. FALSE\n261. FALSE\n262. FALSE\n263. FALSE\n264. FALSE\n265. FALSE\n266. FALSE\n267. FALSE\n268. FALSE\n269. FALSE\n270. FALSE\n271. FALSE\n272. FALSE\n273. FALSE\n274. FALSE\n275. FALSE\n276. FALSE\n277. FALSE\n278. FALSE\n279. FALSE\n280. FALSE\n281. FALSE\n282. FALSE\n283. FALSE\n284. FALSE\n285. FALSE\n286. FALSE\n287. FALSE\n288. FALSE\n289. FALSE\n290. FALSE\n291. FALSE\n292. FALSE\n293. FALSE\n294. FALSE\n295. FALSE\n296. FALSE\n297. FALSE\n298. FALSE\n299. FALSE\n300. FALSE\n301. FALSE\n302. FALSE\n303. FALSE\n304. FALSE\n305. FALSE\n306. FALSE\n307. FALSE\n308. FALSE\n309. FALSE\n310. FALSE\n311. FALSE\n312. FALSE\n313. FALSE\n314. FALSE\n315. FALSE\n316. FALSE\n317. FALSE\n318. FALSE\n319. FALSE\n320. FALSE\n321. FALSE\n322. FALSE\n323. FALSE\n324. FALSE\n325. FALSE\n326. FALSE\n327. FALSE\n328. FALSE\n329. FALSE\n330. FALSE\n331. FALSE\n332. FALSE\n333. FALSE\n334. FALSE\n335. FALSE\n336. FALSE\n337. FALSE\n338. FALSE\n339. FALSE\n340. FALSE\n341. FALSE\n342. FALSE\n343. FALSE\n344. FALSE\n345. FALSE\n346. FALSE\n347. FALSE\n348. FALSE\n349. FALSE\n350. FALSE\n351. FALSE\n352. FALSE\n353. FALSE\n354. FALSE\n355. FALSE\n356. FALSE\n357. FALSE\n358. FALSE\n359. FALSE\n360. FALSE\n361. FALSE\n362. FALSE\n363. FALSE\n364. FALSE\n365. FALSE\n366. FALSE\n367. FALSE\n368. FALSE\n369. FALSE\n370. FALSE\n371. FALSE\n372. FALSE\n373. FALSE\n374. FALSE\n375. FALSE\n376. FALSE\n377. FALSE\n378. FALSE\n379. FALSE\n380. FALSE\n381. FALSE\n382. FALSE\n383. FALSE\n384. FALSE\n385. FALSE\n386. FALSE\n387. FALSE\n388. FALSE\n389. FALSE\n390. FALSE\n391. FALSE\n392. FALSE\n393. FALSE\n394. FALSE\n395. FALSE\n396. FALSE\n397. FALSE\n398. FALSE\n399. FALSE\n400. FALSE\n401. FALSE\n\n\n",
            "text/latex": "\\begin{enumerate*}\n\\item FALSE\n\\item FALSE\n\\item FALSE\n\\item FALSE\n\\item FALSE\n\\item FALSE\n\\item FALSE\n\\item FALSE\n\\item FALSE\n\\item FALSE\n\\item FALSE\n\\item FALSE\n\\item FALSE\n\\item FALSE\n\\item FALSE\n\\item FALSE\n\\item FALSE\n\\item FALSE\n\\item FALSE\n\\item FALSE\n\\item FALSE\n\\item FALSE\n\\item FALSE\n\\item FALSE\n\\item FALSE\n\\item FALSE\n\\item FALSE\n\\item FALSE\n\\item FALSE\n\\item FALSE\n\\item FALSE\n\\item FALSE\n\\item FALSE\n\\item FALSE\n\\item FALSE\n\\item FALSE\n\\item FALSE\n\\item FALSE\n\\item FALSE\n\\item FALSE\n\\item FALSE\n\\item FALSE\n\\item FALSE\n\\item FALSE\n\\item FALSE\n\\item FALSE\n\\item FALSE\n\\item FALSE\n\\item FALSE\n\\item FALSE\n\\item FALSE\n\\item FALSE\n\\item FALSE\n\\item FALSE\n\\item FALSE\n\\item FALSE\n\\item FALSE\n\\item FALSE\n\\item FALSE\n\\item FALSE\n\\item FALSE\n\\item FALSE\n\\item FALSE\n\\item FALSE\n\\item FALSE\n\\item FALSE\n\\item FALSE\n\\item FALSE\n\\item FALSE\n\\item FALSE\n\\item FALSE\n\\item FALSE\n\\item FALSE\n\\item FALSE\n\\item FALSE\n\\item FALSE\n\\item FALSE\n\\item FALSE\n\\item FALSE\n\\item FALSE\n\\item FALSE\n\\item FALSE\n\\item FALSE\n\\item FALSE\n\\item FALSE\n\\item FALSE\n\\item FALSE\n\\item FALSE\n\\item FALSE\n\\item FALSE\n\\item FALSE\n\\item FALSE\n\\item FALSE\n\\item FALSE\n\\item FALSE\n\\item FALSE\n\\item FALSE\n\\item FALSE\n\\item FALSE\n\\item FALSE\n\\item FALSE\n\\item FALSE\n\\item FALSE\n\\item FALSE\n\\item FALSE\n\\item FALSE\n\\item FALSE\n\\item FALSE\n\\item FALSE\n\\item FALSE\n\\item FALSE\n\\item FALSE\n\\item FALSE\n\\item FALSE\n\\item FALSE\n\\item FALSE\n\\item FALSE\n\\item FALSE\n\\item FALSE\n\\item FALSE\n\\item FALSE\n\\item FALSE\n\\item FALSE\n\\item FALSE\n\\item FALSE\n\\item FALSE\n\\item FALSE\n\\item FALSE\n\\item FALSE\n\\item FALSE\n\\item FALSE\n\\item FALSE\n\\item FALSE\n\\item FALSE\n\\item FALSE\n\\item FALSE\n\\item FALSE\n\\item FALSE\n\\item FALSE\n\\item FALSE\n\\item FALSE\n\\item FALSE\n\\item FALSE\n\\item FALSE\n\\item FALSE\n\\item FALSE\n\\item FALSE\n\\item FALSE\n\\item FALSE\n\\item FALSE\n\\item FALSE\n\\item FALSE\n\\item FALSE\n\\item FALSE\n\\item FALSE\n\\item FALSE\n\\item FALSE\n\\item FALSE\n\\item FALSE\n\\item FALSE\n\\item FALSE\n\\item FALSE\n\\item FALSE\n\\item FALSE\n\\item FALSE\n\\item FALSE\n\\item FALSE\n\\item FALSE\n\\item FALSE\n\\item FALSE\n\\item FALSE\n\\item FALSE\n\\item FALSE\n\\item FALSE\n\\item FALSE\n\\item FALSE\n\\item FALSE\n\\item FALSE\n\\item FALSE\n\\item FALSE\n\\item FALSE\n\\item FALSE\n\\item FALSE\n\\item FALSE\n\\item FALSE\n\\item FALSE\n\\item FALSE\n\\item FALSE\n\\item FALSE\n\\item FALSE\n\\item FALSE\n\\item FALSE\n\\item FALSE\n\\item FALSE\n\\item FALSE\n\\item FALSE\n\\item FALSE\n\\item FALSE\n\\item FALSE\n\\item FALSE\n\\item ⋯\n\\item FALSE\n\\item FALSE\n\\item FALSE\n\\item FALSE\n\\item FALSE\n\\item FALSE\n\\item FALSE\n\\item FALSE\n\\item FALSE\n\\item FALSE\n\\item FALSE\n\\item FALSE\n\\item FALSE\n\\item FALSE\n\\item FALSE\n\\item FALSE\n\\item FALSE\n\\item FALSE\n\\item FALSE\n\\item FALSE\n\\item FALSE\n\\item FALSE\n\\item FALSE\n\\item FALSE\n\\item FALSE\n\\item FALSE\n\\item FALSE\n\\item FALSE\n\\item FALSE\n\\item FALSE\n\\item FALSE\n\\item FALSE\n\\item FALSE\n\\item FALSE\n\\item FALSE\n\\item FALSE\n\\item FALSE\n\\item FALSE\n\\item FALSE\n\\item FALSE\n\\item FALSE\n\\item FALSE\n\\item FALSE\n\\item FALSE\n\\item FALSE\n\\item FALSE\n\\item FALSE\n\\item FALSE\n\\item FALSE\n\\item FALSE\n\\item FALSE\n\\item FALSE\n\\item FALSE\n\\item FALSE\n\\item FALSE\n\\item FALSE\n\\item FALSE\n\\item FALSE\n\\item FALSE\n\\item FALSE\n\\item FALSE\n\\item FALSE\n\\item FALSE\n\\item FALSE\n\\item FALSE\n\\item FALSE\n\\item FALSE\n\\item FALSE\n\\item FALSE\n\\item FALSE\n\\item FALSE\n\\item FALSE\n\\item FALSE\n\\item FALSE\n\\item FALSE\n\\item FALSE\n\\item FALSE\n\\item FALSE\n\\item FALSE\n\\item FALSE\n\\item FALSE\n\\item FALSE\n\\item FALSE\n\\item FALSE\n\\item FALSE\n\\item FALSE\n\\item FALSE\n\\item FALSE\n\\item FALSE\n\\item FALSE\n\\item FALSE\n\\item FALSE\n\\item FALSE\n\\item FALSE\n\\item FALSE\n\\item FALSE\n\\item FALSE\n\\item FALSE\n\\item FALSE\n\\item FALSE\n\\item FALSE\n\\item FALSE\n\\item FALSE\n\\item FALSE\n\\item FALSE\n\\item FALSE\n\\item FALSE\n\\item FALSE\n\\item FALSE\n\\item FALSE\n\\item FALSE\n\\item FALSE\n\\item FALSE\n\\item FALSE\n\\item FALSE\n\\item FALSE\n\\item FALSE\n\\item FALSE\n\\item FALSE\n\\item FALSE\n\\item FALSE\n\\item FALSE\n\\item FALSE\n\\item FALSE\n\\item FALSE\n\\item FALSE\n\\item FALSE\n\\item FALSE\n\\item FALSE\n\\item FALSE\n\\item FALSE\n\\item FALSE\n\\item FALSE\n\\item FALSE\n\\item FALSE\n\\item FALSE\n\\item FALSE\n\\item FALSE\n\\item FALSE\n\\item FALSE\n\\item FALSE\n\\item FALSE\n\\item FALSE\n\\item FALSE\n\\item FALSE\n\\item FALSE\n\\item FALSE\n\\item FALSE\n\\item FALSE\n\\item FALSE\n\\item FALSE\n\\item FALSE\n\\item FALSE\n\\item FALSE\n\\item FALSE\n\\item FALSE\n\\item FALSE\n\\item FALSE\n\\item FALSE\n\\item FALSE\n\\item FALSE\n\\item FALSE\n\\item FALSE\n\\item FALSE\n\\item FALSE\n\\item FALSE\n\\item FALSE\n\\item FALSE\n\\item FALSE\n\\item FALSE\n\\item FALSE\n\\item FALSE\n\\item FALSE\n\\item FALSE\n\\item FALSE\n\\item FALSE\n\\item FALSE\n\\item FALSE\n\\item FALSE\n\\item FALSE\n\\item FALSE\n\\item FALSE\n\\item FALSE\n\\item FALSE\n\\item FALSE\n\\item FALSE\n\\item FALSE\n\\item FALSE\n\\item FALSE\n\\item FALSE\n\\item FALSE\n\\item FALSE\n\\item FALSE\n\\item FALSE\n\\item FALSE\n\\item FALSE\n\\item FALSE\n\\item FALSE\n\\item FALSE\n\\item FALSE\n\\end{enumerate*}\n",
            "text/plain": [
              "  [1] FALSE FALSE FALSE FALSE FALSE FALSE FALSE FALSE FALSE FALSE FALSE FALSE\n",
              " [13] FALSE FALSE FALSE FALSE FALSE FALSE FALSE FALSE FALSE FALSE FALSE FALSE\n",
              " [25] FALSE FALSE FALSE FALSE FALSE FALSE FALSE FALSE FALSE FALSE FALSE FALSE\n",
              " [37] FALSE FALSE FALSE FALSE FALSE FALSE FALSE FALSE FALSE FALSE FALSE FALSE\n",
              " [49] FALSE FALSE FALSE FALSE FALSE FALSE FALSE FALSE FALSE FALSE FALSE FALSE\n",
              " [61] FALSE FALSE FALSE FALSE FALSE FALSE FALSE FALSE FALSE FALSE FALSE FALSE\n",
              " [73] FALSE FALSE FALSE FALSE FALSE FALSE FALSE FALSE FALSE FALSE FALSE FALSE\n",
              " [85] FALSE FALSE FALSE FALSE FALSE FALSE FALSE FALSE FALSE FALSE FALSE FALSE\n",
              " [97] FALSE FALSE FALSE FALSE FALSE FALSE FALSE FALSE FALSE FALSE FALSE FALSE\n",
              "[109] FALSE FALSE FALSE FALSE FALSE FALSE FALSE FALSE FALSE FALSE FALSE FALSE\n",
              "[121] FALSE FALSE FALSE FALSE FALSE FALSE FALSE FALSE FALSE FALSE FALSE FALSE\n",
              "[133] FALSE FALSE FALSE FALSE FALSE FALSE FALSE FALSE FALSE FALSE FALSE FALSE\n",
              "[145] FALSE FALSE FALSE FALSE FALSE FALSE FALSE FALSE FALSE FALSE FALSE FALSE\n",
              "[157] FALSE FALSE FALSE FALSE FALSE FALSE FALSE FALSE FALSE FALSE FALSE FALSE\n",
              "[169] FALSE FALSE FALSE FALSE FALSE FALSE FALSE FALSE FALSE FALSE FALSE FALSE\n",
              "[181] FALSE FALSE FALSE FALSE FALSE FALSE FALSE FALSE FALSE FALSE FALSE FALSE\n",
              "[193] FALSE FALSE FALSE FALSE FALSE FALSE FALSE FALSE FALSE FALSE FALSE FALSE\n",
              "[205] FALSE FALSE FALSE FALSE FALSE FALSE FALSE FALSE FALSE FALSE FALSE FALSE\n",
              "[217] FALSE FALSE FALSE FALSE FALSE FALSE FALSE FALSE FALSE FALSE FALSE FALSE\n",
              "[229] FALSE FALSE FALSE FALSE FALSE FALSE FALSE FALSE FALSE FALSE FALSE FALSE\n",
              "[241] FALSE FALSE FALSE FALSE FALSE FALSE FALSE FALSE FALSE FALSE FALSE FALSE\n",
              "[253] FALSE FALSE FALSE FALSE FALSE FALSE FALSE FALSE FALSE FALSE FALSE FALSE\n",
              "[265] FALSE FALSE FALSE FALSE FALSE FALSE FALSE FALSE FALSE FALSE FALSE FALSE\n",
              "[277] FALSE FALSE FALSE FALSE FALSE FALSE FALSE FALSE FALSE FALSE FALSE FALSE\n",
              "[289] FALSE FALSE FALSE FALSE FALSE FALSE FALSE FALSE FALSE FALSE FALSE FALSE\n",
              "[301] FALSE FALSE FALSE FALSE FALSE FALSE FALSE FALSE FALSE FALSE FALSE FALSE\n",
              "[313] FALSE FALSE FALSE FALSE FALSE FALSE FALSE FALSE FALSE FALSE FALSE FALSE\n",
              "[325] FALSE FALSE FALSE FALSE FALSE FALSE FALSE FALSE FALSE FALSE FALSE FALSE\n",
              "[337] FALSE FALSE FALSE FALSE FALSE FALSE FALSE FALSE FALSE FALSE FALSE FALSE\n",
              "[349] FALSE FALSE FALSE FALSE FALSE FALSE FALSE FALSE FALSE FALSE FALSE FALSE\n",
              "[361] FALSE FALSE FALSE FALSE FALSE FALSE FALSE FALSE FALSE FALSE FALSE FALSE\n",
              "[373] FALSE FALSE FALSE FALSE FALSE FALSE FALSE FALSE FALSE FALSE FALSE FALSE\n",
              "[385] FALSE FALSE FALSE FALSE FALSE FALSE FALSE FALSE FALSE FALSE FALSE FALSE\n",
              "[397] FALSE FALSE FALSE FALSE FALSE FALSE FALSE FALSE FALSE FALSE FALSE FALSE\n",
              "[409] FALSE FALSE FALSE FALSE FALSE FALSE FALSE FALSE FALSE FALSE FALSE FALSE\n",
              "[421] FALSE FALSE FALSE FALSE FALSE FALSE FALSE FALSE FALSE FALSE FALSE FALSE\n",
              "[433] FALSE FALSE FALSE FALSE FALSE FALSE FALSE FALSE FALSE FALSE FALSE FALSE\n",
              "[445] FALSE FALSE FALSE FALSE FALSE FALSE FALSE FALSE FALSE FALSE FALSE FALSE\n",
              "[457] FALSE FALSE FALSE FALSE FALSE FALSE FALSE FALSE FALSE FALSE FALSE FALSE\n",
              "[469] FALSE FALSE FALSE FALSE FALSE FALSE FALSE FALSE FALSE FALSE FALSE FALSE\n",
              "[481] FALSE FALSE FALSE FALSE FALSE FALSE FALSE FALSE FALSE FALSE FALSE FALSE\n",
              "[493] FALSE FALSE FALSE FALSE FALSE FALSE FALSE FALSE FALSE FALSE FALSE FALSE\n",
              "[505] FALSE FALSE FALSE FALSE FALSE FALSE FALSE FALSE FALSE FALSE FALSE FALSE\n",
              "[517] FALSE FALSE FALSE FALSE FALSE FALSE FALSE FALSE FALSE FALSE FALSE FALSE\n",
              "[529] FALSE FALSE FALSE FALSE FALSE FALSE FALSE FALSE FALSE FALSE FALSE FALSE\n",
              "[541] FALSE FALSE FALSE FALSE FALSE FALSE FALSE FALSE FALSE FALSE FALSE FALSE\n",
              "[553] FALSE FALSE FALSE FALSE FALSE FALSE FALSE FALSE FALSE FALSE FALSE FALSE\n",
              "[565] FALSE FALSE FALSE FALSE FALSE FALSE FALSE FALSE FALSE FALSE FALSE FALSE\n",
              "[577] FALSE FALSE FALSE FALSE FALSE FALSE FALSE FALSE FALSE FALSE FALSE FALSE\n",
              "[589] FALSE FALSE FALSE FALSE FALSE FALSE FALSE FALSE FALSE FALSE FALSE FALSE\n",
              "[601] FALSE FALSE FALSE FALSE FALSE FALSE FALSE FALSE FALSE FALSE FALSE FALSE\n",
              "[613] FALSE FALSE FALSE FALSE FALSE FALSE FALSE FALSE FALSE FALSE FALSE FALSE\n",
              "[625] FALSE FALSE FALSE FALSE FALSE FALSE FALSE FALSE FALSE FALSE FALSE FALSE\n",
              "[637] FALSE FALSE FALSE FALSE FALSE FALSE FALSE FALSE FALSE FALSE FALSE FALSE\n",
              "[649] FALSE FALSE FALSE FALSE FALSE FALSE FALSE FALSE FALSE FALSE FALSE FALSE\n",
              "[661] FALSE FALSE FALSE FALSE FALSE FALSE FALSE FALSE FALSE FALSE FALSE FALSE\n",
              "[673] FALSE FALSE FALSE FALSE FALSE FALSE FALSE FALSE FALSE FALSE FALSE FALSE\n",
              "[685] FALSE FALSE FALSE FALSE FALSE FALSE FALSE FALSE FALSE FALSE FALSE FALSE\n",
              "[697] FALSE FALSE FALSE FALSE FALSE FALSE FALSE FALSE FALSE FALSE FALSE FALSE\n",
              "[709] FALSE FALSE FALSE FALSE FALSE FALSE FALSE FALSE FALSE FALSE FALSE FALSE\n",
              "[721] FALSE FALSE FALSE FALSE FALSE FALSE FALSE FALSE FALSE FALSE FALSE FALSE\n",
              "[733] FALSE FALSE FALSE FALSE FALSE FALSE FALSE FALSE FALSE FALSE FALSE FALSE\n",
              "[745] FALSE FALSE FALSE FALSE FALSE FALSE FALSE FALSE FALSE FALSE FALSE FALSE\n",
              "[757] FALSE FALSE FALSE FALSE FALSE FALSE FALSE FALSE FALSE FALSE FALSE FALSE\n",
              "[769] FALSE FALSE FALSE FALSE FALSE FALSE FALSE FALSE FALSE FALSE FALSE FALSE\n",
              "[781] FALSE FALSE FALSE FALSE FALSE FALSE FALSE FALSE FALSE FALSE FALSE FALSE\n",
              "[793] FALSE FALSE FALSE FALSE FALSE FALSE FALSE FALSE FALSE FALSE FALSE FALSE\n",
              "[805] FALSE FALSE FALSE FALSE FALSE FALSE FALSE FALSE FALSE FALSE FALSE FALSE\n",
              "[817] FALSE FALSE FALSE FALSE FALSE FALSE FALSE FALSE FALSE FALSE FALSE FALSE\n",
              "[829] FALSE FALSE FALSE FALSE FALSE FALSE FALSE FALSE FALSE FALSE FALSE FALSE\n",
              "[841] FALSE FALSE FALSE FALSE FALSE FALSE FALSE FALSE FALSE FALSE FALSE FALSE\n",
              "[853] FALSE FALSE FALSE FALSE FALSE FALSE FALSE FALSE FALSE FALSE FALSE FALSE\n",
              "[865] FALSE FALSE FALSE FALSE FALSE FALSE FALSE FALSE FALSE FALSE FALSE FALSE\n",
              "[877] FALSE FALSE FALSE FALSE FALSE FALSE FALSE FALSE FALSE FALSE FALSE FALSE\n",
              "[889] FALSE FALSE FALSE FALSE FALSE FALSE FALSE FALSE FALSE FALSE FALSE FALSE\n",
              "[901] FALSE FALSE FALSE FALSE FALSE FALSE FALSE FALSE FALSE FALSE FALSE FALSE\n",
              "[913] FALSE FALSE FALSE FALSE FALSE FALSE FALSE FALSE FALSE FALSE FALSE FALSE\n",
              "[925] FALSE FALSE FALSE FALSE FALSE FALSE FALSE FALSE FALSE FALSE FALSE FALSE\n",
              "[937] FALSE FALSE FALSE FALSE"
            ]
          },
          "metadata": {}
        },
        {
          "output_type": "display_data",
          "data": {
            "text/html": [
              "0"
            ],
            "text/markdown": "0",
            "text/latex": "0",
            "text/plain": [
              "[1] 0"
            ]
          },
          "metadata": {}
        }
      ],
      "source": [
        "# Verificando a condição de valores duplicados\n",
        "duplicated(daily_activity)\n",
        "sum(duplicated(daily_activity))"
      ]
    },
    {
      "cell_type": "markdown",
      "id": "03cf7016",
      "metadata": {
        "papermill": {
          "duration": 0.019481,
          "end_time": "2023-08-20T02:21:43.767426",
          "exception": false,
          "start_time": "2023-08-20T02:21:43.747945",
          "status": "completed"
        },
        "tags": [],
        "id": "03cf7016"
      },
      "source": [
        "### 4. Limpeza e formatação"
      ]
    },
    {
      "cell_type": "markdown",
      "id": "cd7ac2cb",
      "metadata": {
        "papermill": {
          "duration": 0.019596,
          "end_time": "2023-08-20T02:21:43.806819",
          "exception": false,
          "start_time": "2023-08-20T02:21:43.787223",
          "status": "completed"
        },
        "tags": [],
        "id": "cd7ac2cb"
      },
      "source": [
        "Agora que já sei sobre a estrutura dos conjuntos de dados. Vou formatar o tipo de dados da coluna “ActivityDate” do conjunto de dados daily_activity do tipo ***chr*** para tipo ***date***."
      ]
    },
    {
      "cell_type": "code",
      "execution_count": 15,
      "id": "e668b111",
      "metadata": {
        "execution": {
          "iopub.execute_input": "2023-08-20T02:21:43.850092Z",
          "iopub.status.busy": "2023-08-20T02:21:43.848932Z",
          "iopub.status.idle": "2023-08-20T02:21:43.886437Z",
          "shell.execute_reply": "2023-08-20T02:21:43.884642Z"
        },
        "papermill": {
          "duration": 0.062272,
          "end_time": "2023-08-20T02:21:43.888662",
          "exception": false,
          "start_time": "2023-08-20T02:21:43.826390",
          "status": "completed"
        },
        "tags": [],
        "id": "e668b111",
        "colab": {
          "base_uri": "https://localhost:8080/",
          "height": 306
        },
        "outputId": "3bf43f59-2cb4-4782-f526-3b2abb3809aa"
      },
      "outputs": [
        {
          "output_type": "display_data",
          "data": {
            "text/html": [
              "<table class=\"dataframe\">\n",
              "<caption>A tibble: 6 × 15</caption>\n",
              "<thead>\n",
              "\t<tr><th scope=col>Id</th><th scope=col>ActivityDate</th><th scope=col>TotalSteps</th><th scope=col>TotalDistance</th><th scope=col>TrackerDistance</th><th scope=col>LoggedActivitiesDistance</th><th scope=col>VeryActiveDistance</th><th scope=col>ModeratelyActiveDistance</th><th scope=col>LightActiveDistance</th><th scope=col>SedentaryActiveDistance</th><th scope=col>VeryActiveMinutes</th><th scope=col>FairlyActiveMinutes</th><th scope=col>LightlyActiveMinutes</th><th scope=col>SedentaryMinutes</th><th scope=col>Calories</th></tr>\n",
              "\t<tr><th scope=col>&lt;dbl&gt;</th><th scope=col>&lt;date&gt;</th><th scope=col>&lt;dbl&gt;</th><th scope=col>&lt;dbl&gt;</th><th scope=col>&lt;dbl&gt;</th><th scope=col>&lt;dbl&gt;</th><th scope=col>&lt;dbl&gt;</th><th scope=col>&lt;dbl&gt;</th><th scope=col>&lt;dbl&gt;</th><th scope=col>&lt;dbl&gt;</th><th scope=col>&lt;dbl&gt;</th><th scope=col>&lt;dbl&gt;</th><th scope=col>&lt;dbl&gt;</th><th scope=col>&lt;dbl&gt;</th><th scope=col>&lt;dbl&gt;</th></tr>\n",
              "</thead>\n",
              "<tbody>\n",
              "\t<tr><td>1503960366</td><td>2016-04-12</td><td>13162</td><td>8.50</td><td>8.50</td><td>0</td><td>1.88</td><td>0.55</td><td>6.06</td><td>0</td><td>25</td><td>13</td><td>328</td><td> 728</td><td>1985</td></tr>\n",
              "\t<tr><td>1503960366</td><td>2016-04-13</td><td>10735</td><td>6.97</td><td>6.97</td><td>0</td><td>1.57</td><td>0.69</td><td>4.71</td><td>0</td><td>21</td><td>19</td><td>217</td><td> 776</td><td>1797</td></tr>\n",
              "\t<tr><td>1503960366</td><td>2016-04-14</td><td>10460</td><td>6.74</td><td>6.74</td><td>0</td><td>2.44</td><td>0.40</td><td>3.91</td><td>0</td><td>30</td><td>11</td><td>181</td><td>1218</td><td>1776</td></tr>\n",
              "\t<tr><td>1503960366</td><td>2016-04-15</td><td> 9762</td><td>6.28</td><td>6.28</td><td>0</td><td>2.14</td><td>1.26</td><td>2.83</td><td>0</td><td>29</td><td>34</td><td>209</td><td> 726</td><td>1745</td></tr>\n",
              "\t<tr><td>1503960366</td><td>2016-04-16</td><td>12669</td><td>8.16</td><td>8.16</td><td>0</td><td>2.71</td><td>0.41</td><td>5.04</td><td>0</td><td>36</td><td>10</td><td>221</td><td> 773</td><td>1863</td></tr>\n",
              "\t<tr><td>1503960366</td><td>2016-04-17</td><td> 9705</td><td>6.48</td><td>6.48</td><td>0</td><td>3.19</td><td>0.78</td><td>2.51</td><td>0</td><td>38</td><td>20</td><td>164</td><td> 539</td><td>1728</td></tr>\n",
              "</tbody>\n",
              "</table>\n"
            ],
            "text/markdown": "\nA tibble: 6 × 15\n\n| Id &lt;dbl&gt; | ActivityDate &lt;date&gt; | TotalSteps &lt;dbl&gt; | TotalDistance &lt;dbl&gt; | TrackerDistance &lt;dbl&gt; | LoggedActivitiesDistance &lt;dbl&gt; | VeryActiveDistance &lt;dbl&gt; | ModeratelyActiveDistance &lt;dbl&gt; | LightActiveDistance &lt;dbl&gt; | SedentaryActiveDistance &lt;dbl&gt; | VeryActiveMinutes &lt;dbl&gt; | FairlyActiveMinutes &lt;dbl&gt; | LightlyActiveMinutes &lt;dbl&gt; | SedentaryMinutes &lt;dbl&gt; | Calories &lt;dbl&gt; |\n|---|---|---|---|---|---|---|---|---|---|---|---|---|---|---|\n| 1503960366 | 2016-04-12 | 13162 | 8.50 | 8.50 | 0 | 1.88 | 0.55 | 6.06 | 0 | 25 | 13 | 328 |  728 | 1985 |\n| 1503960366 | 2016-04-13 | 10735 | 6.97 | 6.97 | 0 | 1.57 | 0.69 | 4.71 | 0 | 21 | 19 | 217 |  776 | 1797 |\n| 1503960366 | 2016-04-14 | 10460 | 6.74 | 6.74 | 0 | 2.44 | 0.40 | 3.91 | 0 | 30 | 11 | 181 | 1218 | 1776 |\n| 1503960366 | 2016-04-15 |  9762 | 6.28 | 6.28 | 0 | 2.14 | 1.26 | 2.83 | 0 | 29 | 34 | 209 |  726 | 1745 |\n| 1503960366 | 2016-04-16 | 12669 | 8.16 | 8.16 | 0 | 2.71 | 0.41 | 5.04 | 0 | 36 | 10 | 221 |  773 | 1863 |\n| 1503960366 | 2016-04-17 |  9705 | 6.48 | 6.48 | 0 | 3.19 | 0.78 | 2.51 | 0 | 38 | 20 | 164 |  539 | 1728 |\n\n",
            "text/latex": "A tibble: 6 × 15\n\\begin{tabular}{lllllllllllllll}\n Id & ActivityDate & TotalSteps & TotalDistance & TrackerDistance & LoggedActivitiesDistance & VeryActiveDistance & ModeratelyActiveDistance & LightActiveDistance & SedentaryActiveDistance & VeryActiveMinutes & FairlyActiveMinutes & LightlyActiveMinutes & SedentaryMinutes & Calories\\\\\n <dbl> & <date> & <dbl> & <dbl> & <dbl> & <dbl> & <dbl> & <dbl> & <dbl> & <dbl> & <dbl> & <dbl> & <dbl> & <dbl> & <dbl>\\\\\n\\hline\n\t 1503960366 & 2016-04-12 & 13162 & 8.50 & 8.50 & 0 & 1.88 & 0.55 & 6.06 & 0 & 25 & 13 & 328 &  728 & 1985\\\\\n\t 1503960366 & 2016-04-13 & 10735 & 6.97 & 6.97 & 0 & 1.57 & 0.69 & 4.71 & 0 & 21 & 19 & 217 &  776 & 1797\\\\\n\t 1503960366 & 2016-04-14 & 10460 & 6.74 & 6.74 & 0 & 2.44 & 0.40 & 3.91 & 0 & 30 & 11 & 181 & 1218 & 1776\\\\\n\t 1503960366 & 2016-04-15 &  9762 & 6.28 & 6.28 & 0 & 2.14 & 1.26 & 2.83 & 0 & 29 & 34 & 209 &  726 & 1745\\\\\n\t 1503960366 & 2016-04-16 & 12669 & 8.16 & 8.16 & 0 & 2.71 & 0.41 & 5.04 & 0 & 36 & 10 & 221 &  773 & 1863\\\\\n\t 1503960366 & 2016-04-17 &  9705 & 6.48 & 6.48 & 0 & 3.19 & 0.78 & 2.51 & 0 & 38 & 20 & 164 &  539 & 1728\\\\\n\\end{tabular}\n",
            "text/plain": [
              "  Id         ActivityDate TotalSteps TotalDistance TrackerDistance\n",
              "1 1503960366 2016-04-12   13162      8.50          8.50           \n",
              "2 1503960366 2016-04-13   10735      6.97          6.97           \n",
              "3 1503960366 2016-04-14   10460      6.74          6.74           \n",
              "4 1503960366 2016-04-15    9762      6.28          6.28           \n",
              "5 1503960366 2016-04-16   12669      8.16          8.16           \n",
              "6 1503960366 2016-04-17    9705      6.48          6.48           \n",
              "  LoggedActivitiesDistance VeryActiveDistance ModeratelyActiveDistance\n",
              "1 0                        1.88               0.55                    \n",
              "2 0                        1.57               0.69                    \n",
              "3 0                        2.44               0.40                    \n",
              "4 0                        2.14               1.26                    \n",
              "5 0                        2.71               0.41                    \n",
              "6 0                        3.19               0.78                    \n",
              "  LightActiveDistance SedentaryActiveDistance VeryActiveMinutes\n",
              "1 6.06                0                       25               \n",
              "2 4.71                0                       21               \n",
              "3 3.91                0                       30               \n",
              "4 2.83                0                       29               \n",
              "5 5.04                0                       36               \n",
              "6 2.51                0                       38               \n",
              "  FairlyActiveMinutes LightlyActiveMinutes SedentaryMinutes Calories\n",
              "1 13                  328                   728             1985    \n",
              "2 19                  217                   776             1797    \n",
              "3 11                  181                  1218             1776    \n",
              "4 34                  209                   726             1745    \n",
              "5 10                  221                   773             1863    \n",
              "6 20                  164                   539             1728    "
            ]
          },
          "metadata": {}
        }
      ],
      "source": [
        "# limpeza date-time daily_activity\n",
        "daily_activity$ActivityDate <- as.Date(daily_activity$ActivityDate, \"%m/%d/%Y\")\n",
        "head(daily_activity)"
      ]
    },
    {
      "cell_type": "markdown",
      "id": "b18ded6d",
      "metadata": {
        "papermill": {
          "duration": 0.019665,
          "end_time": "2023-08-20T02:21:43.928097",
          "exception": false,
          "start_time": "2023-08-20T02:21:43.908432",
          "status": "completed"
        },
        "tags": [],
        "id": "b18ded6d"
      },
      "source": [
        "Vou formatar também o tipo de dados da coluna “ActivityHour” do conjunto de dados hourly_intensities do tipo ***chr*** para tipo date-time ***dttm***."
      ]
    },
    {
      "cell_type": "code",
      "execution_count": 16,
      "id": "75d832b3",
      "metadata": {
        "execution": {
          "iopub.execute_input": "2023-08-20T02:21:43.970451Z",
          "iopub.status.busy": "2023-08-20T02:21:43.969330Z",
          "iopub.status.idle": "2023-08-20T02:21:44.020907Z",
          "shell.execute_reply": "2023-08-20T02:21:44.019117Z"
        },
        "papermill": {
          "duration": 0.075334,
          "end_time": "2023-08-20T02:21:44.023115",
          "exception": false,
          "start_time": "2023-08-20T02:21:43.947781",
          "status": "completed"
        },
        "tags": [],
        "id": "75d832b3",
        "colab": {
          "base_uri": "https://localhost:8080/",
          "height": 286
        },
        "outputId": "a916536d-3eba-4a2f-e1f5-26f19c5ac35c"
      },
      "outputs": [
        {
          "output_type": "display_data",
          "data": {
            "text/html": [
              "<table class=\"dataframe\">\n",
              "<caption>A tibble: 6 × 4</caption>\n",
              "<thead>\n",
              "\t<tr><th scope=col>Id</th><th scope=col>ActivityHour</th><th scope=col>TotalIntensity</th><th scope=col>AverageIntensity</th></tr>\n",
              "\t<tr><th scope=col>&lt;dbl&gt;</th><th scope=col>&lt;dttm&gt;</th><th scope=col>&lt;dbl&gt;</th><th scope=col>&lt;dbl&gt;</th></tr>\n",
              "</thead>\n",
              "<tbody>\n",
              "\t<tr><td>1503960366</td><td>2016-04-12 00:00:00</td><td>20</td><td>0.333333</td></tr>\n",
              "\t<tr><td>1503960366</td><td>2016-04-12 01:00:00</td><td> 8</td><td>0.133333</td></tr>\n",
              "\t<tr><td>1503960366</td><td>2016-04-12 02:00:00</td><td> 7</td><td>0.116667</td></tr>\n",
              "\t<tr><td>1503960366</td><td>2016-04-12 03:00:00</td><td> 0</td><td>0.000000</td></tr>\n",
              "\t<tr><td>1503960366</td><td>2016-04-12 04:00:00</td><td> 0</td><td>0.000000</td></tr>\n",
              "\t<tr><td>1503960366</td><td>2016-04-12 05:00:00</td><td> 0</td><td>0.000000</td></tr>\n",
              "</tbody>\n",
              "</table>\n"
            ],
            "text/markdown": "\nA tibble: 6 × 4\n\n| Id &lt;dbl&gt; | ActivityHour &lt;dttm&gt; | TotalIntensity &lt;dbl&gt; | AverageIntensity &lt;dbl&gt; |\n|---|---|---|---|\n| 1503960366 | 2016-04-12 00:00:00 | 20 | 0.333333 |\n| 1503960366 | 2016-04-12 01:00:00 |  8 | 0.133333 |\n| 1503960366 | 2016-04-12 02:00:00 |  7 | 0.116667 |\n| 1503960366 | 2016-04-12 03:00:00 |  0 | 0.000000 |\n| 1503960366 | 2016-04-12 04:00:00 |  0 | 0.000000 |\n| 1503960366 | 2016-04-12 05:00:00 |  0 | 0.000000 |\n\n",
            "text/latex": "A tibble: 6 × 4\n\\begin{tabular}{llll}\n Id & ActivityHour & TotalIntensity & AverageIntensity\\\\\n <dbl> & <dttm> & <dbl> & <dbl>\\\\\n\\hline\n\t 1503960366 & 2016-04-12 00:00:00 & 20 & 0.333333\\\\\n\t 1503960366 & 2016-04-12 01:00:00 &  8 & 0.133333\\\\\n\t 1503960366 & 2016-04-12 02:00:00 &  7 & 0.116667\\\\\n\t 1503960366 & 2016-04-12 03:00:00 &  0 & 0.000000\\\\\n\t 1503960366 & 2016-04-12 04:00:00 &  0 & 0.000000\\\\\n\t 1503960366 & 2016-04-12 05:00:00 &  0 & 0.000000\\\\\n\\end{tabular}\n",
            "text/plain": [
              "  Id         ActivityHour        TotalIntensity AverageIntensity\n",
              "1 1503960366 2016-04-12 00:00:00 20             0.333333        \n",
              "2 1503960366 2016-04-12 01:00:00  8             0.133333        \n",
              "3 1503960366 2016-04-12 02:00:00  7             0.116667        \n",
              "4 1503960366 2016-04-12 03:00:00  0             0.000000        \n",
              "5 1503960366 2016-04-12 04:00:00  0             0.000000        \n",
              "6 1503960366 2016-04-12 05:00:00  0             0.000000        "
            ]
          },
          "metadata": {}
        }
      ],
      "source": [
        "# limpeza date-time hourly_intensities\n",
        "hourly_intensities$ActivityHour <- parse_date_time(hourly_intensities$ActivityHour, \"%m/%d/%Y %I:%M:%S %p\")\n",
        "head(hourly_intensities)"
      ]
    },
    {
      "cell_type": "markdown",
      "id": "19a6ceed",
      "metadata": {
        "papermill": {
          "duration": 0.020898,
          "end_time": "2023-08-20T02:21:44.063986",
          "exception": false,
          "start_time": "2023-08-20T02:21:44.043088",
          "status": "completed"
        },
        "tags": [],
        "id": "19a6ceed"
      },
      "source": [
        "Esse tipo de formatação será necessário para trabalhar com análises de datas mais adiante."
      ]
    },
    {
      "cell_type": "markdown",
      "id": "6267ee3c",
      "metadata": {
        "papermill": {
          "duration": 0.020208,
          "end_time": "2023-08-20T02:21:44.104584",
          "exception": false,
          "start_time": "2023-08-20T02:21:44.084376",
          "status": "completed"
        },
        "tags": [],
        "id": "6267ee3c"
      },
      "source": [
        "### 5. Analisar & Compartilhar"
      ]
    },
    {
      "cell_type": "markdown",
      "id": "429310ee",
      "metadata": {
        "papermill": {
          "duration": 0.020338,
          "end_time": "2023-08-20T02:21:44.145506",
          "exception": false,
          "start_time": "2023-08-20T02:21:44.125168",
          "status": "completed"
        },
        "tags": [],
        "id": "429310ee"
      },
      "source": [
        "Aqui vou analisar mais afundo os dados para buscar tendências dos usuários do FitBit e extrair informações úteis que podem ajudar na estratégia de marketing do BellaBeat.\n",
        "\n",
        "**Ações:**\n",
        "\n",
        "* Obter informações sobre a média de passos diários e comparar com a recomendação levando em consideração fontes externas.\n",
        "\n",
        "* Analisar a média dos passos diário e os gastos calóricos para entender a  correlação entre essas duas variáveis.\n",
        "\n",
        "* Analisar a frequência de passos diários ao longo da semana, entender o perfil desses usuários ao longo da semana.\n",
        "\n",
        "* Explorar a média de minutos ativos e sedentários dos usuários.  \n",
        "\n",
        "* Comparar a média de minutos ativos dos usuários com a recomendação.\n",
        "\n",
        "* Analisar o período do dia de maior intensidade ao longo da semana."
      ]
    },
    {
      "cell_type": "markdown",
      "id": "5a1acdc7",
      "metadata": {
        "papermill": {
          "duration": 0.020362,
          "end_time": "2023-08-20T02:21:44.186238",
          "exception": false,
          "start_time": "2023-08-20T02:21:44.165876",
          "status": "completed"
        },
        "tags": [],
        "id": "5a1acdc7"
      },
      "source": [
        "#### 5.1 Análise dos passos diários\n",
        "\n",
        "Encontrando a média de passos diários."
      ]
    },
    {
      "cell_type": "code",
      "execution_count": 17,
      "id": "6f999f78",
      "metadata": {
        "execution": {
          "iopub.execute_input": "2023-08-20T02:21:44.229877Z",
          "iopub.status.busy": "2023-08-20T02:21:44.228643Z",
          "iopub.status.idle": "2023-08-20T02:21:44.272657Z",
          "shell.execute_reply": "2023-08-20T02:21:44.270914Z"
        },
        "papermill": {
          "duration": 0.068163,
          "end_time": "2023-08-20T02:21:44.274956",
          "exception": false,
          "start_time": "2023-08-20T02:21:44.206793",
          "status": "completed"
        },
        "tags": [],
        "id": "6f999f78",
        "colab": {
          "base_uri": "https://localhost:8080/",
          "height": 138
        },
        "outputId": "c7b5e3c3-abd2-4dac-f075-5d8c98ba52d4"
      },
      "outputs": [
        {
          "output_type": "display_data",
          "data": {
            "text/plain": [
              "   TotalSteps   \n",
              " Min.   :    0  \n",
              " 1st Qu.: 3790  \n",
              " Median : 7406  \n",
              " Mean   : 7638  \n",
              " 3rd Qu.:10727  \n",
              " Max.   :36019  "
            ]
          },
          "metadata": {}
        }
      ],
      "source": [
        "daily_activity %>%\n",
        "select(TotalSteps) %>% summary()"
      ]
    },
    {
      "cell_type": "markdown",
      "id": "5ce5d2b0",
      "metadata": {
        "papermill": {
          "duration": 0.019876,
          "end_time": "2023-08-20T02:21:44.314844",
          "exception": false,
          "start_time": "2023-08-20T02:21:44.294968",
          "status": "completed"
        },
        "tags": [],
        "id": "5ce5d2b0"
      },
      "source": [
        "Com o método summary() é possível obter um resumo detalhado da váriavel, a média da variável TotalSteps é de 7.638 ou sejá, os participantes da pesquisa dão em média 7.638 passos por dia.\n",
        "\n",
        "Ao pesquisar sobre fontes externas relacionadas ao assunto, segundo pesquisas mais recentes mencionadas no artigo públicado pela [Jama Network](http://jamanetwork.com/journals/jamainternalmedicine/fullarticle/2796058), revista médica de acesso aberto publicada pela American Medical Association cobrindo todos os aspectos das ciências biomédicas, informa que cerca de 10.000 passos diários são realmente necessários para melhorar nossa saúde de maneira ideal.\n",
        "\n",
        "Com base na recomendação diária, os participantes da pesquisa possuem hábitos de passos diários abaixo da recomendação diária.  \n",
        "\n",
        "Quero observar agora a prática diária de passos relacionada com as calorias. Será que existe relação entre essas duas variáveis?"
      ]
    },
    {
      "cell_type": "markdown",
      "id": "1054d54e",
      "metadata": {
        "papermill": {
          "duration": 0.020449,
          "end_time": "2023-08-20T02:21:44.355467",
          "exception": false,
          "start_time": "2023-08-20T02:21:44.335018",
          "status": "completed"
        },
        "tags": [],
        "id": "1054d54e"
      },
      "source": [
        "#### 5.1.1 Passos diários e calorias gastas"
      ]
    },
    {
      "cell_type": "code",
      "execution_count": 18,
      "id": "9393f982",
      "metadata": {
        "execution": {
          "iopub.execute_input": "2023-08-20T02:21:44.398442Z",
          "iopub.status.busy": "2023-08-20T02:21:44.397282Z",
          "iopub.status.idle": "2023-08-20T02:21:44.414489Z",
          "shell.execute_reply": "2023-08-20T02:21:44.412859Z"
        },
        "papermill": {
          "duration": 0.041755,
          "end_time": "2023-08-20T02:21:44.417263",
          "exception": false,
          "start_time": "2023-08-20T02:21:44.375508",
          "status": "completed"
        },
        "tags": [],
        "id": "9393f982",
        "colab": {
          "base_uri": "https://localhost:8080/",
          "height": 138
        },
        "outputId": "881a5cb5-504b-412f-f980-8750310135cb"
      },
      "outputs": [
        {
          "output_type": "display_data",
          "data": {
            "text/plain": [
              "   TotalSteps       Calories   \n",
              " Min.   :    0   Min.   :   0  \n",
              " 1st Qu.: 3790   1st Qu.:1828  \n",
              " Median : 7406   Median :2134  \n",
              " Mean   : 7638   Mean   :2304  \n",
              " 3rd Qu.:10727   3rd Qu.:2793  \n",
              " Max.   :36019   Max.   :4900  "
            ]
          },
          "metadata": {}
        }
      ],
      "source": [
        "daily_activity %>%\n",
        "select(TotalSteps, Calories) %>% summary()"
      ]
    },
    {
      "cell_type": "code",
      "execution_count": 19,
      "id": "024d6ae7",
      "metadata": {
        "execution": {
          "iopub.execute_input": "2023-08-20T02:21:44.460232Z",
          "iopub.status.busy": "2023-08-20T02:21:44.459038Z",
          "iopub.status.idle": "2023-08-20T02:21:44.484218Z",
          "shell.execute_reply": "2023-08-20T02:21:44.482766Z"
        },
        "papermill": {
          "duration": 0.048429,
          "end_time": "2023-08-20T02:21:44.485983",
          "exception": false,
          "start_time": "2023-08-20T02:21:44.437554",
          "status": "completed"
        },
        "tags": [],
        "id": "024d6ae7",
        "colab": {
          "base_uri": "https://localhost:8080/"
        },
        "outputId": "304126c0-613e-4fb2-e6ce-09e9df2d8451"
      },
      "outputs": [
        {
          "output_type": "stream",
          "name": "stdout",
          "text": [
            "Rows: 1\n",
            "Columns: 2\n",
            "$ mean_TotalSteps \u001b[3m\u001b[90m<dbl>\u001b[39m\u001b[23m 7638\n",
            "$ mean_Calories   \u001b[3m\u001b[90m<dbl>\u001b[39m\u001b[23m 2304\n"
          ]
        }
      ],
      "source": [
        "#Valor total médio diario de passos e calorias\n",
        "mean_daily_activity <- daily_activity %>%\n",
        "select(TotalSteps, Calories) %>% summarize(mean_TotalSteps = round(mean(TotalSteps)),\n",
        "                                           mean_Calories = round(mean(Calories)))\n",
        "glimpse(mean_daily_activity)"
      ]
    },
    {
      "cell_type": "markdown",
      "id": "5adedc1d",
      "metadata": {
        "papermill": {
          "duration": 0.021121,
          "end_time": "2023-08-20T02:21:44.527179",
          "exception": false,
          "start_time": "2023-08-20T02:21:44.506058",
          "status": "completed"
        },
        "tags": [],
        "id": "5adedc1d"
      },
      "source": [
        "#### 5.1.2 Diagrama de dispersão\n",
        "\n",
        "Vou usar um gráfico de dispersão para observar a relação entre as váriáveis TotalSteps e Calories."
      ]
    },
    {
      "cell_type": "code",
      "execution_count": 20,
      "id": "b3a119e9",
      "metadata": {
        "execution": {
          "iopub.execute_input": "2023-08-20T02:21:44.570845Z",
          "iopub.status.busy": "2023-08-20T02:21:44.569477Z",
          "iopub.status.idle": "2023-08-20T02:21:46.163364Z",
          "shell.execute_reply": "2023-08-20T02:21:46.161354Z"
        },
        "papermill": {
          "duration": 1.618945,
          "end_time": "2023-08-20T02:21:46.166339",
          "exception": false,
          "start_time": "2023-08-20T02:21:44.547394",
          "status": "completed"
        },
        "tags": [],
        "id": "b3a119e9",
        "colab": {
          "base_uri": "https://localhost:8080/",
          "height": 454
        },
        "outputId": "530dafc9-aa47-4d97-8132-6ac12e369d17"
      },
      "outputs": [
        {
          "output_type": "stream",
          "name": "stderr",
          "text": [
            "\u001b[1m\u001b[22m`geom_smooth()` using formula = 'y ~ x'\n"
          ]
        },
        {
          "output_type": "display_data",
          "data": {
            "text/plain": [
              "plot without title"
            ],
            "image/png": "[encoded data removed]"
          },
          "metadata": {
            "image/png": {
              "width": 420,
              "height": 420
            }
          }
        }
      ],
      "source": [
        "#Passos diários x calorias gastas\n",
        "p1 <- ggplot(data = daily_activity)+\n",
        "geom_smooth(mapping = aes(x=TotalSteps, y=Calories),se = FALSE, method = \"lm\",\n",
        "            color=\"darkseagreen3\", alpha = 0.2)+\n",
        "geom_point(mapping = aes(x=TotalSteps, y=Calories))+\n",
        "labs(\n",
        "    title= \"Relação entre Passos Total e Calorias\",\n",
        "    subtitle= \"Métrica de dispersão\",\n",
        "    caption = \"Dados de usuários de domínio público do FitBit Fitness Tracker Data.\",\n",
        "    tag = \"Figura 1\",\n",
        "    x = \"Passos (diários)\",\n",
        "    y = \"Calorias (diárias)\")\n",
        "\n",
        "p1 + theme_classic() +\n",
        "\n",
        "theme(plot.title = element_text(size=23), #color = \"#1b98e0\"\n",
        "     plot.subtitle = element_text(size=17))"
      ]
    },
    {
      "cell_type": "markdown",
      "id": "813654a3",
      "metadata": {
        "papermill": {
          "duration": 0.021854,
          "end_time": "2023-08-20T02:21:46.210262",
          "exception": false,
          "start_time": "2023-08-20T02:21:46.188408",
          "status": "completed"
        },
        "tags": [],
        "id": "813654a3"
      },
      "source": [
        "O gráfico de dispersão mostra uma relação proporcional entre as variáveis TotalSteps e Calories ou seja, a medida que os passos aumentam as calorias também aumentam.\n",
        "\n",
        "#### Uma métrica que ajuda a resumir essa relação é a correlação.\n",
        "\n",
        "A correlação pode ser interpretada por meio desses valores:\n",
        "* r = 1: Correlação positiva forte (Quando uma métrica aumenta a outra também aumenta)\n",
        "* r = 0: Ausência de correlação (Não existe relação entre uma métrica e outra)\n",
        "* r = -1: Correlação negativa forte (Quando uma métrica aumenta a outra diminue)\n",
        "\n",
        "#### Para calcular essa métrica vou usar o método cor() de correlação."
      ]
    },
    {
      "cell_type": "code",
      "execution_count": 21,
      "id": "37cbab20",
      "metadata": {
        "execution": {
          "iopub.execute_input": "2023-08-20T02:21:46.257646Z",
          "iopub.status.busy": "2023-08-20T02:21:46.256404Z",
          "iopub.status.idle": "2023-08-20T02:21:46.271597Z",
          "shell.execute_reply": "2023-08-20T02:21:46.270082Z"
        },
        "papermill": {
          "duration": 0.041009,
          "end_time": "2023-08-20T02:21:46.273746",
          "exception": false,
          "start_time": "2023-08-20T02:21:46.232737",
          "status": "completed"
        },
        "tags": [],
        "id": "37cbab20",
        "colab": {
          "base_uri": "https://localhost:8080/",
          "height": 34
        },
        "outputId": "a14502d7-4dd0-49c9-f908-b77c072f3b6d"
      },
      "outputs": [
        {
          "output_type": "display_data",
          "data": {
            "text/html": [
              "0.591568086245336"
            ],
            "text/markdown": "0.591568086245336",
            "text/latex": "0.591568086245336",
            "text/plain": [
              "[1] 0.5915681"
            ]
          },
          "metadata": {}
        }
      ],
      "source": [
        "cor(daily_activity$TotalSteps, daily_activity$Calories)"
      ]
    },
    {
      "cell_type": "markdown",
      "id": "de626c83",
      "metadata": {
        "papermill": {
          "duration": 0.020958,
          "end_time": "2023-08-20T02:21:46.316408",
          "exception": false,
          "start_time": "2023-08-20T02:21:46.295450",
          "status": "completed"
        },
        "tags": [],
        "id": "de626c83"
      },
      "source": [
        "O resultado obtido próximo de 1 indica uma correlação positiva forte entre as variáveis TotalSteps e Calories."
      ]
    },
    {
      "cell_type": "markdown",
      "id": "d7ea6d20",
      "metadata": {
        "papermill": {
          "duration": 0.021292,
          "end_time": "2023-08-20T02:21:46.358709",
          "exception": false,
          "start_time": "2023-08-20T02:21:46.337417",
          "status": "completed"
        },
        "tags": [],
        "id": "d7ea6d20"
      },
      "source": [
        "#### 5.1.3 Passos diários na semana\n",
        "\n",
        "Meu objetivo aqui, será explorar a relação de passos dados por dia semana para entender a rotina semanal dos usuários.\n",
        "\n",
        "Vou adicionar uma nova coluna chamada Days_os_Week ao data set daily_activity usando o método mutate()."
      ]
    },
    {
      "cell_type": "code",
      "execution_count": 22,
      "id": "ace15d4d",
      "metadata": {
        "execution": {
          "iopub.execute_input": "2023-08-20T02:21:46.404010Z",
          "iopub.status.busy": "2023-08-20T02:21:46.402764Z",
          "iopub.status.idle": "2023-08-20T02:21:46.443328Z",
          "shell.execute_reply": "2023-08-20T02:21:46.441964Z"
        },
        "papermill": {
          "duration": 0.065712,
          "end_time": "2023-08-20T02:21:46.445592",
          "exception": false,
          "start_time": "2023-08-20T02:21:46.379880",
          "status": "completed"
        },
        "tags": [],
        "id": "ace15d4d",
        "colab": {
          "base_uri": "https://localhost:8080/",
          "height": 306
        },
        "outputId": "c57c3fea-a35c-4f61-da69-f2f03370f3ef"
      },
      "outputs": [
        {
          "output_type": "display_data",
          "data": {
            "text/html": [
              "<table class=\"dataframe\">\n",
              "<caption>A tibble: 6 × 16</caption>\n",
              "<thead>\n",
              "\t<tr><th scope=col>Id</th><th scope=col>ActivityDate</th><th scope=col>TotalSteps</th><th scope=col>TotalDistance</th><th scope=col>TrackerDistance</th><th scope=col>LoggedActivitiesDistance</th><th scope=col>VeryActiveDistance</th><th scope=col>ModeratelyActiveDistance</th><th scope=col>LightActiveDistance</th><th scope=col>SedentaryActiveDistance</th><th scope=col>VeryActiveMinutes</th><th scope=col>FairlyActiveMinutes</th><th scope=col>LightlyActiveMinutes</th><th scope=col>SedentaryMinutes</th><th scope=col>Calories</th><th scope=col>Days_of_Week</th></tr>\n",
              "\t<tr><th scope=col>&lt;dbl&gt;</th><th scope=col>&lt;date&gt;</th><th scope=col>&lt;dbl&gt;</th><th scope=col>&lt;dbl&gt;</th><th scope=col>&lt;dbl&gt;</th><th scope=col>&lt;dbl&gt;</th><th scope=col>&lt;dbl&gt;</th><th scope=col>&lt;dbl&gt;</th><th scope=col>&lt;dbl&gt;</th><th scope=col>&lt;dbl&gt;</th><th scope=col>&lt;dbl&gt;</th><th scope=col>&lt;dbl&gt;</th><th scope=col>&lt;dbl&gt;</th><th scope=col>&lt;dbl&gt;</th><th scope=col>&lt;dbl&gt;</th><th scope=col>&lt;chr&gt;</th></tr>\n",
              "</thead>\n",
              "<tbody>\n",
              "\t<tr><td>1503960366</td><td>2016-04-12</td><td>13162</td><td>8.50</td><td>8.50</td><td>0</td><td>1.88</td><td>0.55</td><td>6.06</td><td>0</td><td>25</td><td>13</td><td>328</td><td> 728</td><td>1985</td><td>Tuesday  </td></tr>\n",
              "\t<tr><td>1503960366</td><td>2016-04-13</td><td>10735</td><td>6.97</td><td>6.97</td><td>0</td><td>1.57</td><td>0.69</td><td>4.71</td><td>0</td><td>21</td><td>19</td><td>217</td><td> 776</td><td>1797</td><td>Wednesday</td></tr>\n",
              "\t<tr><td>1503960366</td><td>2016-04-14</td><td>10460</td><td>6.74</td><td>6.74</td><td>0</td><td>2.44</td><td>0.40</td><td>3.91</td><td>0</td><td>30</td><td>11</td><td>181</td><td>1218</td><td>1776</td><td>Thursday </td></tr>\n",
              "\t<tr><td>1503960366</td><td>2016-04-15</td><td> 9762</td><td>6.28</td><td>6.28</td><td>0</td><td>2.14</td><td>1.26</td><td>2.83</td><td>0</td><td>29</td><td>34</td><td>209</td><td> 726</td><td>1745</td><td>Friday   </td></tr>\n",
              "\t<tr><td>1503960366</td><td>2016-04-16</td><td>12669</td><td>8.16</td><td>8.16</td><td>0</td><td>2.71</td><td>0.41</td><td>5.04</td><td>0</td><td>36</td><td>10</td><td>221</td><td> 773</td><td>1863</td><td>Saturday </td></tr>\n",
              "\t<tr><td>1503960366</td><td>2016-04-17</td><td> 9705</td><td>6.48</td><td>6.48</td><td>0</td><td>3.19</td><td>0.78</td><td>2.51</td><td>0</td><td>38</td><td>20</td><td>164</td><td> 539</td><td>1728</td><td>Sunday   </td></tr>\n",
              "</tbody>\n",
              "</table>\n"
            ],
            "text/markdown": "\nA tibble: 6 × 16\n\n| Id &lt;dbl&gt; | ActivityDate &lt;date&gt; | TotalSteps &lt;dbl&gt; | TotalDistance &lt;dbl&gt; | TrackerDistance &lt;dbl&gt; | LoggedActivitiesDistance &lt;dbl&gt; | VeryActiveDistance &lt;dbl&gt; | ModeratelyActiveDistance &lt;dbl&gt; | LightActiveDistance &lt;dbl&gt; | SedentaryActiveDistance &lt;dbl&gt; | VeryActiveMinutes &lt;dbl&gt; | FairlyActiveMinutes &lt;dbl&gt; | LightlyActiveMinutes &lt;dbl&gt; | SedentaryMinutes &lt;dbl&gt; | Calories &lt;dbl&gt; | Days_of_Week &lt;chr&gt; |\n|---|---|---|---|---|---|---|---|---|---|---|---|---|---|---|---|\n| 1503960366 | 2016-04-12 | 13162 | 8.50 | 8.50 | 0 | 1.88 | 0.55 | 6.06 | 0 | 25 | 13 | 328 |  728 | 1985 | Tuesday   |\n| 1503960366 | 2016-04-13 | 10735 | 6.97 | 6.97 | 0 | 1.57 | 0.69 | 4.71 | 0 | 21 | 19 | 217 |  776 | 1797 | Wednesday |\n| 1503960366 | 2016-04-14 | 10460 | 6.74 | 6.74 | 0 | 2.44 | 0.40 | 3.91 | 0 | 30 | 11 | 181 | 1218 | 1776 | Thursday  |\n| 1503960366 | 2016-04-15 |  9762 | 6.28 | 6.28 | 0 | 2.14 | 1.26 | 2.83 | 0 | 29 | 34 | 209 |  726 | 1745 | Friday    |\n| 1503960366 | 2016-04-16 | 12669 | 8.16 | 8.16 | 0 | 2.71 | 0.41 | 5.04 | 0 | 36 | 10 | 221 |  773 | 1863 | Saturday  |\n| 1503960366 | 2016-04-17 |  9705 | 6.48 | 6.48 | 0 | 3.19 | 0.78 | 2.51 | 0 | 38 | 20 | 164 |  539 | 1728 | Sunday    |\n\n",
            "text/latex": "A tibble: 6 × 16\n\\begin{tabular}{llllllllllllllll}\n Id & ActivityDate & TotalSteps & TotalDistance & TrackerDistance & LoggedActivitiesDistance & VeryActiveDistance & ModeratelyActiveDistance & LightActiveDistance & SedentaryActiveDistance & VeryActiveMinutes & FairlyActiveMinutes & LightlyActiveMinutes & SedentaryMinutes & Calories & Days\\_of\\_Week\\\\\n <dbl> & <date> & <dbl> & <dbl> & <dbl> & <dbl> & <dbl> & <dbl> & <dbl> & <dbl> & <dbl> & <dbl> & <dbl> & <dbl> & <dbl> & <chr>\\\\\n\\hline\n\t 1503960366 & 2016-04-12 & 13162 & 8.50 & 8.50 & 0 & 1.88 & 0.55 & 6.06 & 0 & 25 & 13 & 328 &  728 & 1985 & Tuesday  \\\\\n\t 1503960366 & 2016-04-13 & 10735 & 6.97 & 6.97 & 0 & 1.57 & 0.69 & 4.71 & 0 & 21 & 19 & 217 &  776 & 1797 & Wednesday\\\\\n\t 1503960366 & 2016-04-14 & 10460 & 6.74 & 6.74 & 0 & 2.44 & 0.40 & 3.91 & 0 & 30 & 11 & 181 & 1218 & 1776 & Thursday \\\\\n\t 1503960366 & 2016-04-15 &  9762 & 6.28 & 6.28 & 0 & 2.14 & 1.26 & 2.83 & 0 & 29 & 34 & 209 &  726 & 1745 & Friday   \\\\\n\t 1503960366 & 2016-04-16 & 12669 & 8.16 & 8.16 & 0 & 2.71 & 0.41 & 5.04 & 0 & 36 & 10 & 221 &  773 & 1863 & Saturday \\\\\n\t 1503960366 & 2016-04-17 &  9705 & 6.48 & 6.48 & 0 & 3.19 & 0.78 & 2.51 & 0 & 38 & 20 & 164 &  539 & 1728 & Sunday   \\\\\n\\end{tabular}\n",
            "text/plain": [
              "  Id         ActivityDate TotalSteps TotalDistance TrackerDistance\n",
              "1 1503960366 2016-04-12   13162      8.50          8.50           \n",
              "2 1503960366 2016-04-13   10735      6.97          6.97           \n",
              "3 1503960366 2016-04-14   10460      6.74          6.74           \n",
              "4 1503960366 2016-04-15    9762      6.28          6.28           \n",
              "5 1503960366 2016-04-16   12669      8.16          8.16           \n",
              "6 1503960366 2016-04-17    9705      6.48          6.48           \n",
              "  LoggedActivitiesDistance VeryActiveDistance ModeratelyActiveDistance\n",
              "1 0                        1.88               0.55                    \n",
              "2 0                        1.57               0.69                    \n",
              "3 0                        2.44               0.40                    \n",
              "4 0                        2.14               1.26                    \n",
              "5 0                        2.71               0.41                    \n",
              "6 0                        3.19               0.78                    \n",
              "  LightActiveDistance SedentaryActiveDistance VeryActiveMinutes\n",
              "1 6.06                0                       25               \n",
              "2 4.71                0                       21               \n",
              "3 3.91                0                       30               \n",
              "4 2.83                0                       29               \n",
              "5 5.04                0                       36               \n",
              "6 2.51                0                       38               \n",
              "  FairlyActiveMinutes LightlyActiveMinutes SedentaryMinutes Calories\n",
              "1 13                  328                   728             1985    \n",
              "2 19                  217                   776             1797    \n",
              "3 11                  181                  1218             1776    \n",
              "4 34                  209                   726             1745    \n",
              "5 10                  221                   773             1863    \n",
              "6 20                  164                   539             1728    \n",
              "  Days_of_Week\n",
              "1 Tuesday     \n",
              "2 Wednesday   \n",
              "3 Thursday    \n",
              "4 Friday      \n",
              "5 Saturday    \n",
              "6 Sunday      "
            ]
          },
          "metadata": {}
        }
      ],
      "source": [
        "#Passos por dia da semana\n",
        "#Para saber em que dia da semana os usuários estão mais ativos\n",
        "\n",
        "#Nova coluna days of week\n",
        "daily_activity_new <- daily_activity %>%\n",
        "mutate(Days_of_Week = weekdays(ActivityDate))\n",
        "head(daily_activity_new)"
      ]
    },
    {
      "cell_type": "markdown",
      "id": "e4e99651",
      "metadata": {
        "papermill": {
          "duration": 0.022646,
          "end_time": "2023-08-20T02:21:46.490266",
          "exception": false,
          "start_time": "2023-08-20T02:21:46.467620",
          "status": "completed"
        },
        "tags": [],
        "id": "e4e99651"
      },
      "source": [
        "Com a nova coluna criada, vou agrupar os dias da semana para encontrar as médias de passos dados por dia da semana."
      ]
    },
    {
      "cell_type": "code",
      "execution_count": 23,
      "id": "fa7777d2",
      "metadata": {
        "execution": {
          "iopub.execute_input": "2023-08-20T02:21:46.537290Z",
          "iopub.status.busy": "2023-08-20T02:21:46.535901Z",
          "iopub.status.idle": "2023-08-20T02:21:46.568132Z",
          "shell.execute_reply": "2023-08-20T02:21:46.566317Z"
        },
        "papermill": {
          "duration": 0.058074,
          "end_time": "2023-08-20T02:21:46.570290",
          "exception": false,
          "start_time": "2023-08-20T02:21:46.512216",
          "status": "completed"
        },
        "tags": [],
        "id": "fa7777d2",
        "colab": {
          "base_uri": "https://localhost:8080/",
          "height": 317
        },
        "outputId": "8b491aa1-abad-4cce-a91e-fe0633870bee"
      },
      "outputs": [
        {
          "output_type": "display_data",
          "data": {
            "text/html": [
              "<table class=\"dataframe\">\n",
              "<caption>A tibble: 7 × 2</caption>\n",
              "<thead>\n",
              "\t<tr><th scope=col>Days_of_Week</th><th scope=col>Weekday_Steps_Activity</th></tr>\n",
              "\t<tr><th scope=col>&lt;chr&gt;</th><th scope=col>&lt;dbl&gt;</th></tr>\n",
              "</thead>\n",
              "<tbody>\n",
              "\t<tr><td>Friday   </td><td>7448</td></tr>\n",
              "\t<tr><td>Monday   </td><td>7781</td></tr>\n",
              "\t<tr><td>Saturday </td><td>8153</td></tr>\n",
              "\t<tr><td>Sunday   </td><td>6933</td></tr>\n",
              "\t<tr><td>Thursday </td><td>7406</td></tr>\n",
              "\t<tr><td>Tuesday  </td><td>8125</td></tr>\n",
              "\t<tr><td>Wednesday</td><td>7559</td></tr>\n",
              "</tbody>\n",
              "</table>\n"
            ],
            "text/markdown": "\nA tibble: 7 × 2\n\n| Days_of_Week &lt;chr&gt; | Weekday_Steps_Activity &lt;dbl&gt; |\n|---|---|\n| Friday    | 7448 |\n| Monday    | 7781 |\n| Saturday  | 8153 |\n| Sunday    | 6933 |\n| Thursday  | 7406 |\n| Tuesday   | 8125 |\n| Wednesday | 7559 |\n\n",
            "text/latex": "A tibble: 7 × 2\n\\begin{tabular}{ll}\n Days\\_of\\_Week & Weekday\\_Steps\\_Activity\\\\\n <chr> & <dbl>\\\\\n\\hline\n\t Friday    & 7448\\\\\n\t Monday    & 7781\\\\\n\t Saturday  & 8153\\\\\n\t Sunday    & 6933\\\\\n\t Thursday  & 7406\\\\\n\t Tuesday   & 8125\\\\\n\t Wednesday & 7559\\\\\n\\end{tabular}\n",
            "text/plain": [
              "  Days_of_Week Weekday_Steps_Activity\n",
              "1 Friday       7448                  \n",
              "2 Monday       7781                  \n",
              "3 Saturday     8153                  \n",
              "4 Sunday       6933                  \n",
              "5 Thursday     7406                  \n",
              "6 Tuesday      8125                  \n",
              "7 Wednesday    7559                  "
            ]
          },
          "metadata": {}
        }
      ],
      "source": [
        "#agrupar passos por dia da semana\n",
        "weekday_steps <- daily_activity_new %>%\n",
        "group_by(Days_of_Week) %>%\n",
        "summarize (Weekday_Steps_Activity = round(mean(TotalSteps)))\n",
        "weekday_steps"
      ]
    },
    {
      "cell_type": "markdown",
      "id": "661a6fc4",
      "metadata": {
        "papermill": {
          "duration": 0.021857,
          "end_time": "2023-08-20T02:21:46.614744",
          "exception": false,
          "start_time": "2023-08-20T02:21:46.592887",
          "status": "completed"
        },
        "tags": [],
        "id": "661a6fc4"
      },
      "source": [
        "Diante dos resultados das médias de passos dados por dia da semana, vou criar uma visualização desses resultados para comparar com a recomendação diária de passos.\n",
        "\n",
        "Antes disso, quero ordenar os dias da semana para obter uma melhor visualização do gráfico.\n",
        "\n",
        "Vou realizar essa transformação em seis etapas:"
      ]
    },
    {
      "cell_type": "markdown",
      "id": "640c595d",
      "metadata": {
        "papermill": {
          "duration": 0.022355,
          "end_time": "2023-08-20T02:21:46.660865",
          "exception": false,
          "start_time": "2023-08-20T02:21:46.638510",
          "status": "completed"
        },
        "tags": [],
        "id": "640c595d"
      },
      "source": [
        "Etapa 1: Identificar tipo da variável"
      ]
    },
    {
      "cell_type": "code",
      "execution_count": 24,
      "id": "e84238ad",
      "metadata": {
        "execution": {
          "iopub.execute_input": "2023-08-20T02:21:46.707764Z",
          "iopub.status.busy": "2023-08-20T02:21:46.706655Z",
          "iopub.status.idle": "2023-08-20T02:21:46.718908Z",
          "shell.execute_reply": "2023-08-20T02:21:46.717684Z"
        },
        "papermill": {
          "duration": 0.03853,
          "end_time": "2023-08-20T02:21:46.721158",
          "exception": false,
          "start_time": "2023-08-20T02:21:46.682628",
          "status": "completed"
        },
        "tags": [],
        "id": "e84238ad",
        "colab": {
          "base_uri": "https://localhost:8080/",
          "height": 34
        },
        "outputId": "b5988e9d-2ec7-4565-d6e4-d423b7053f8c"
      },
      "outputs": [
        {
          "output_type": "display_data",
          "data": {
            "text/html": [
              "'character'"
            ],
            "text/markdown": "'character'",
            "text/latex": "'character'",
            "text/plain": [
              "[1] \"character\""
            ]
          },
          "metadata": {}
        }
      ],
      "source": [
        "class(weekday_steps$Days_of_Week) #identificar tipo da variável"
      ]
    },
    {
      "cell_type": "markdown",
      "id": "ca9d7f60",
      "metadata": {
        "papermill": {
          "duration": 0.021966,
          "end_time": "2023-08-20T02:21:46.765641",
          "exception": false,
          "start_time": "2023-08-20T02:21:46.743675",
          "status": "completed"
        },
        "tags": [],
        "id": "ca9d7f60"
      },
      "source": [
        "Etapa 2: Transformar a variável Days_of_Week em factor\n",
        "\n",
        "Com a função factor é possível identificar a sequência dos níveis da categoria. Quero categorizar por ordem de dias da semana para uma melhor visualização do gráfico."
      ]
    },
    {
      "cell_type": "code",
      "execution_count": 25,
      "id": "69ea23f8",
      "metadata": {
        "execution": {
          "iopub.execute_input": "2023-08-20T02:21:46.812268Z",
          "iopub.status.busy": "2023-08-20T02:21:46.810969Z",
          "iopub.status.idle": "2023-08-20T02:21:46.821931Z",
          "shell.execute_reply": "2023-08-20T02:21:46.820555Z"
        },
        "papermill": {
          "duration": 0.036205,
          "end_time": "2023-08-20T02:21:46.823727",
          "exception": false,
          "start_time": "2023-08-20T02:21:46.787522",
          "status": "completed"
        },
        "tags": [],
        "id": "69ea23f8"
      },
      "outputs": [],
      "source": [
        "weekday_steps$Days_of_Week <- as.factor(weekday_steps$Days_of_Week)#transformar a variável Days_of_Week em factor"
      ]
    },
    {
      "cell_type": "markdown",
      "id": "7515321d",
      "metadata": {
        "papermill": {
          "duration": 0.022112,
          "end_time": "2023-08-20T02:21:46.869584",
          "exception": false,
          "start_time": "2023-08-20T02:21:46.847472",
          "status": "completed"
        },
        "tags": [],
        "id": "7515321d"
      },
      "source": [
        "Etapa 3: Rodar um class novamente"
      ]
    },
    {
      "cell_type": "code",
      "execution_count": 26,
      "id": "e2a6d060",
      "metadata": {
        "execution": {
          "iopub.execute_input": "2023-08-20T02:21:46.917290Z",
          "iopub.status.busy": "2023-08-20T02:21:46.916084Z",
          "iopub.status.idle": "2023-08-20T02:21:46.928396Z",
          "shell.execute_reply": "2023-08-20T02:21:46.927154Z"
        },
        "papermill": {
          "duration": 0.037586,
          "end_time": "2023-08-20T02:21:46.930122",
          "exception": false,
          "start_time": "2023-08-20T02:21:46.892536",
          "status": "completed"
        },
        "tags": [],
        "id": "e2a6d060",
        "colab": {
          "base_uri": "https://localhost:8080/",
          "height": 34
        },
        "outputId": "d491ebc1-5139-4705-ca32-98ff95f34bcf"
      },
      "outputs": [
        {
          "output_type": "display_data",
          "data": {
            "text/html": [
              "'factor'"
            ],
            "text/markdown": "'factor'",
            "text/latex": "'factor'",
            "text/plain": [
              "[1] \"factor\""
            ]
          },
          "metadata": {}
        }
      ],
      "source": [
        "class(weekday_steps$Days_of_Week)#rodar um class novamente"
      ]
    },
    {
      "cell_type": "markdown",
      "id": "90420838",
      "metadata": {
        "papermill": {
          "duration": 0.02245,
          "end_time": "2023-08-20T02:21:46.975198",
          "exception": false,
          "start_time": "2023-08-20T02:21:46.952748",
          "status": "completed"
        },
        "tags": [],
        "id": "90420838"
      },
      "source": [
        "Etapa 4: Visualizar a ordem da variável Days_of_Week"
      ]
    },
    {
      "cell_type": "code",
      "execution_count": 27,
      "id": "3f35e28a",
      "metadata": {
        "execution": {
          "iopub.execute_input": "2023-08-20T02:21:47.022406Z",
          "iopub.status.busy": "2023-08-20T02:21:47.021141Z",
          "iopub.status.idle": "2023-08-20T02:21:47.034145Z",
          "shell.execute_reply": "2023-08-20T02:21:47.032800Z"
        },
        "papermill": {
          "duration": 0.038293,
          "end_time": "2023-08-20T02:21:47.035744",
          "exception": false,
          "start_time": "2023-08-20T02:21:46.997451",
          "status": "completed"
        },
        "tags": [],
        "id": "3f35e28a",
        "colab": {
          "base_uri": "https://localhost:8080/",
          "height": 34
        },
        "outputId": "e9a3872a-eddc-4531-f64e-e66f688535fc"
      },
      "outputs": [
        {
          "output_type": "display_data",
          "data": {
            "text/html": [
              "<style>\n",
              ".list-inline {list-style: none; margin:0; padding: 0}\n",
              ".list-inline>li {display: inline-block}\n",
              ".list-inline>li:not(:last-child)::after {content: \"\\00b7\"; padding: 0 .5ex}\n",
              "</style>\n",
              "<ol class=list-inline><li>'Friday'</li><li>'Monday'</li><li>'Saturday'</li><li>'Sunday'</li><li>'Thursday'</li><li>'Tuesday'</li><li>'Wednesday'</li></ol>\n"
            ],
            "text/markdown": "1. 'Friday'\n2. 'Monday'\n3. 'Saturday'\n4. 'Sunday'\n5. 'Thursday'\n6. 'Tuesday'\n7. 'Wednesday'\n\n\n",
            "text/latex": "\\begin{enumerate*}\n\\item 'Friday'\n\\item 'Monday'\n\\item 'Saturday'\n\\item 'Sunday'\n\\item 'Thursday'\n\\item 'Tuesday'\n\\item 'Wednesday'\n\\end{enumerate*}\n",
            "text/plain": [
              "[1] \"Friday\"    \"Monday\"    \"Saturday\"  \"Sunday\"    \"Thursday\"  \"Tuesday\"  \n",
              "[7] \"Wednesday\""
            ]
          },
          "metadata": {}
        }
      ],
      "source": [
        "levels(weekday_steps$Days_of_Week) #apresenta a ordem da variável Days_of_Week"
      ]
    },
    {
      "cell_type": "markdown",
      "id": "dfd38ab6",
      "metadata": {
        "papermill": {
          "duration": 0.021949,
          "end_time": "2023-08-20T02:21:47.079788",
          "exception": false,
          "start_time": "2023-08-20T02:21:47.057839",
          "status": "completed"
        },
        "tags": [],
        "id": "dfd38ab6"
      },
      "source": [
        "Etapa 5: Reordenar e definir essa variável como variável ordinal"
      ]
    },
    {
      "cell_type": "code",
      "execution_count": 28,
      "id": "10f9b5ab",
      "metadata": {
        "execution": {
          "iopub.execute_input": "2023-08-20T02:21:47.127455Z",
          "iopub.status.busy": "2023-08-20T02:21:47.125963Z",
          "iopub.status.idle": "2023-08-20T02:21:47.137294Z",
          "shell.execute_reply": "2023-08-20T02:21:47.135979Z"
        },
        "papermill": {
          "duration": 0.037402,
          "end_time": "2023-08-20T02:21:47.139256",
          "exception": false,
          "start_time": "2023-08-20T02:21:47.101854",
          "status": "completed"
        },
        "tags": [],
        "id": "10f9b5ab"
      },
      "outputs": [],
      "source": [
        "##reordenar e definir essa variável como variável ordinal\n",
        "weekday_steps$Days_of_Week <- factor(weekday_steps$Days_of_Week,\n",
        "                                     levels = c('Sunday', 'Monday', 'Tuesday','Wednesday',\n",
        "                                               'Thursday', 'Friday', 'Saturday'),\n",
        "                                     ordered = TRUE)"
      ]
    },
    {
      "cell_type": "markdown",
      "id": "05360829",
      "metadata": {
        "papermill": {
          "duration": 0.022818,
          "end_time": "2023-08-20T02:21:47.185349",
          "exception": false,
          "start_time": "2023-08-20T02:21:47.162531",
          "status": "completed"
        },
        "tags": [],
        "id": "05360829"
      },
      "source": [
        "Etapa 6: Visualizar o resultado da reordenação."
      ]
    },
    {
      "cell_type": "code",
      "execution_count": 29,
      "id": "cdc1dba1",
      "metadata": {
        "execution": {
          "iopub.execute_input": "2023-08-20T02:21:47.235034Z",
          "iopub.status.busy": "2023-08-20T02:21:47.233666Z",
          "iopub.status.idle": "2023-08-20T02:21:47.247645Z",
          "shell.execute_reply": "2023-08-20T02:21:47.246401Z"
        },
        "papermill": {
          "duration": 0.041267,
          "end_time": "2023-08-20T02:21:47.249686",
          "exception": false,
          "start_time": "2023-08-20T02:21:47.208419",
          "status": "completed"
        },
        "tags": [],
        "id": "cdc1dba1",
        "colab": {
          "base_uri": "https://localhost:8080/",
          "height": 34
        },
        "outputId": "0a95e747-f0fe-4bef-f543-b9d8849764c8"
      },
      "outputs": [
        {
          "output_type": "display_data",
          "data": {
            "text/html": [
              "<style>\n",
              ".list-inline {list-style: none; margin:0; padding: 0}\n",
              ".list-inline>li {display: inline-block}\n",
              ".list-inline>li:not(:last-child)::after {content: \"\\00b7\"; padding: 0 .5ex}\n",
              "</style>\n",
              "<ol class=list-inline><li>'Sunday'</li><li>'Monday'</li><li>'Tuesday'</li><li>'Wednesday'</li><li>'Thursday'</li><li>'Friday'</li><li>'Saturday'</li></ol>\n"
            ],
            "text/markdown": "1. 'Sunday'\n2. 'Monday'\n3. 'Tuesday'\n4. 'Wednesday'\n5. 'Thursday'\n6. 'Friday'\n7. 'Saturday'\n\n\n",
            "text/latex": "\\begin{enumerate*}\n\\item 'Sunday'\n\\item 'Monday'\n\\item 'Tuesday'\n\\item 'Wednesday'\n\\item 'Thursday'\n\\item 'Friday'\n\\item 'Saturday'\n\\end{enumerate*}\n",
            "text/plain": [
              "[1] \"Sunday\"    \"Monday\"    \"Tuesday\"   \"Wednesday\" \"Thursday\"  \"Friday\"   \n",
              "[7] \"Saturday\" "
            ]
          },
          "metadata": {}
        }
      ],
      "source": [
        "#ordem correta\n",
        "levels(weekday_steps$Days_of_Week)"
      ]
    },
    {
      "cell_type": "markdown",
      "id": "d3d444c7",
      "metadata": {
        "papermill": {
          "duration": 0.022229,
          "end_time": "2023-08-20T02:21:47.294520",
          "exception": false,
          "start_time": "2023-08-20T02:21:47.272291",
          "status": "completed"
        },
        "tags": [],
        "id": "d3d444c7"
      },
      "source": [
        "Agora com tudo pronto vou gerar o gráfico."
      ]
    },
    {
      "cell_type": "code",
      "execution_count": 30,
      "id": "96c8dc3c",
      "metadata": {
        "execution": {
          "iopub.execute_input": "2023-08-20T02:21:47.343112Z",
          "iopub.status.busy": "2023-08-20T02:21:47.341939Z",
          "iopub.status.idle": "2023-08-20T02:21:47.361107Z",
          "shell.execute_reply": "2023-08-20T02:21:47.359850Z"
        },
        "papermill": {
          "duration": 0.053015,
          "end_time": "2023-08-20T02:21:47.370178",
          "exception": false,
          "start_time": "2023-08-20T02:21:47.317163",
          "status": "completed"
        },
        "tags": [],
        "id": "96c8dc3c",
        "colab": {
          "base_uri": "https://localhost:8080/",
          "height": 317
        },
        "outputId": "9ba83f1f-8263-480e-ed15-00b054919008"
      },
      "outputs": [
        {
          "output_type": "display_data",
          "data": {
            "text/html": [
              "<table class=\"dataframe\">\n",
              "<caption>A tibble: 7 × 2</caption>\n",
              "<thead>\n",
              "\t<tr><th scope=col>Days_of_Week</th><th scope=col>Weekday_Steps_Activity</th></tr>\n",
              "\t<tr><th scope=col>&lt;ord&gt;</th><th scope=col>&lt;dbl&gt;</th></tr>\n",
              "</thead>\n",
              "<tbody>\n",
              "\t<tr><td>Friday   </td><td>7448</td></tr>\n",
              "\t<tr><td>Monday   </td><td>7781</td></tr>\n",
              "\t<tr><td>Saturday </td><td>8153</td></tr>\n",
              "\t<tr><td>Sunday   </td><td>6933</td></tr>\n",
              "\t<tr><td>Thursday </td><td>7406</td></tr>\n",
              "\t<tr><td>Tuesday  </td><td>8125</td></tr>\n",
              "\t<tr><td>Wednesday</td><td>7559</td></tr>\n",
              "</tbody>\n",
              "</table>\n"
            ],
            "text/markdown": "\nA tibble: 7 × 2\n\n| Days_of_Week &lt;ord&gt; | Weekday_Steps_Activity &lt;dbl&gt; |\n|---|---|\n| Friday    | 7448 |\n| Monday    | 7781 |\n| Saturday  | 8153 |\n| Sunday    | 6933 |\n| Thursday  | 7406 |\n| Tuesday   | 8125 |\n| Wednesday | 7559 |\n\n",
            "text/latex": "A tibble: 7 × 2\n\\begin{tabular}{ll}\n Days\\_of\\_Week & Weekday\\_Steps\\_Activity\\\\\n <ord> & <dbl>\\\\\n\\hline\n\t Friday    & 7448\\\\\n\t Monday    & 7781\\\\\n\t Saturday  & 8153\\\\\n\t Sunday    & 6933\\\\\n\t Thursday  & 7406\\\\\n\t Tuesday   & 8125\\\\\n\t Wednesday & 7559\\\\\n\\end{tabular}\n",
            "text/plain": [
              "  Days_of_Week Weekday_Steps_Activity\n",
              "1 Friday       7448                  \n",
              "2 Monday       7781                  \n",
              "3 Saturday     8153                  \n",
              "4 Sunday       6933                  \n",
              "5 Thursday     7406                  \n",
              "6 Tuesday      8125                  \n",
              "7 Wednesday    7559                  "
            ]
          },
          "metadata": {}
        }
      ],
      "source": [
        "weekday_steps"
      ]
    },
    {
      "cell_type": "code",
      "execution_count": 31,
      "id": "6ee20034",
      "metadata": {
        "execution": {
          "iopub.execute_input": "2023-08-20T02:21:47.419815Z",
          "iopub.status.busy": "2023-08-20T02:21:47.418564Z",
          "iopub.status.idle": "2023-08-20T02:21:47.741055Z",
          "shell.execute_reply": "2023-08-20T02:21:47.739578Z"
        },
        "papermill": {
          "duration": 0.349856,
          "end_time": "2023-08-20T02:21:47.743649",
          "exception": false,
          "start_time": "2023-08-20T02:21:47.393793",
          "status": "completed"
        },
        "tags": [],
        "id": "6ee20034",
        "colab": {
          "base_uri": "https://localhost:8080/",
          "height": 437
        },
        "outputId": "d18ca7d4-7b5b-4722-9ac5-9e40578ce0d3"
      },
      "outputs": [
        {
          "output_type": "display_data",
          "data": {
            "text/plain": [
              "plot without title"
            ],
            "image/png": "[encoded data removed]"
          },
          "metadata": {
            "image/png": {
              "width": 420,
              "height": 420
            }
          }
        }
      ],
      "source": [
        "p2 <- ggplot(weekday_steps, aes(y=Weekday_Steps_Activity, x=Days_of_Week)) +\n",
        "geom_col(fill = \"darkseagreen3\") +  #, alpha = 0.2,color = \"black\") +\n",
        "\n",
        "#linha de passos recomendados ao dia\n",
        "geom_hline(yintercept = 10000, linetype = 2, color=\"black\") +\n",
        "\n",
        "#linha média de passos ao dia\n",
        "geom_hline(yintercept = 7638, linetype = 2, color = \"#2D3633\") +\n",
        "\n",
        "labs(\n",
        "    title= \"Frequência de Passos Dados\",\n",
        "    subtitle= \"Compativo de Passos Dados e a Recomendação Diária\",\n",
        "    caption = \"Dados de usuários de domínio público do FitBit Fitness Tracker Data.\",\n",
        "    tag = \"Figura 2\",\n",
        "    x = \"Dias da semana\",\n",
        "    y = \"Passos (diários)\") +\n",
        "\n",
        "\n",
        "geom_text(aes(label=Weekday_Steps_Activity), vjust =0, nudge_x = 0, nudge_y = 40,\n",
        "          fontface=\"bold\", size=7, color=\"black\") +\n",
        "\n",
        "annotate(\"text\", x=1, y=7800, label=\"Média diária\", fontface=\"bold\", size=3.5,\n",
        "         color=\"#637570\") +\n",
        "annotate(\"text\", x=1.4, y=10200, label=\"Recomendação diária\", fontface=\"bold\",\n",
        "         size=3.5, color=\"black\") +\n",
        "\n",
        "#Rotacionar a angulação dos textos eixo x\n",
        "theme(axis.text.x = element_text(angle = 0, hjust = .5))\n",
        "\n",
        "p2 + theme_classic() +\n",
        "theme(plot.title = element_text(size=30),\n",
        "     plot.subtitle = element_text(size=15))"
      ]
    },
    {
      "cell_type": "markdown",
      "id": "56c8e2a7",
      "metadata": {
        "papermill": {
          "duration": 0.024171,
          "end_time": "2023-08-20T02:21:47.792275",
          "exception": false,
          "start_time": "2023-08-20T02:21:47.768104",
          "status": "completed"
        },
        "tags": [],
        "id": "56c8e2a7"
      },
      "source": [
        "O gráfico de barras apresenta os valores médios dos passos diários por dia da semana, percebe-se que Terça-feira e Sábado são os dias da semana com as maiores médias de passos na semana, ultrapassando a média diaria de 7.638 passos."
      ]
    },
    {
      "cell_type": "markdown",
      "id": "ff4de5ce",
      "metadata": {
        "papermill": {
          "duration": 0.023912,
          "end_time": "2023-08-20T02:21:47.840594",
          "exception": false,
          "start_time": "2023-08-20T02:21:47.816682",
          "status": "completed"
        },
        "tags": [],
        "id": "ff4de5ce"
      },
      "source": [
        "#### 5.2 Minutos ativos\n",
        "\n",
        "Nas colunas que correspondem as variáveis de minutos ativos e sedentários no dia, pretendo obter informações sobre a quantidade de minutos ativos e comparar com os minutos sedentários, com o resultado dessa análise teremos mais informações sobre o perfil dos usuários."
      ]
    },
    {
      "cell_type": "markdown",
      "id": "fc61c64c",
      "metadata": {
        "papermill": {
          "duration": 0.024479,
          "end_time": "2023-08-20T02:21:47.890436",
          "exception": false,
          "start_time": "2023-08-20T02:21:47.865957",
          "status": "completed"
        },
        "tags": [],
        "id": "fc61c64c"
      },
      "source": [
        "#### 5.2.1 Frequência minutos ativos e sedentários"
      ]
    },
    {
      "cell_type": "code",
      "execution_count": 32,
      "id": "c7b7c05c",
      "metadata": {
        "execution": {
          "iopub.execute_input": "2023-08-20T02:21:47.943001Z",
          "iopub.status.busy": "2023-08-20T02:21:47.941734Z",
          "iopub.status.idle": "2023-08-20T02:21:47.966139Z",
          "shell.execute_reply": "2023-08-20T02:21:47.962310Z"
        },
        "papermill": {
          "duration": 0.052849,
          "end_time": "2023-08-20T02:21:47.968658",
          "exception": false,
          "start_time": "2023-08-20T02:21:47.915809",
          "status": "completed"
        },
        "tags": [],
        "id": "c7b7c05c",
        "colab": {
          "base_uri": "https://localhost:8080/",
          "height": 138
        },
        "outputId": "f6d4db05-ce31-42f9-94c8-ebc85fee2bca"
      },
      "outputs": [
        {
          "output_type": "display_data",
          "data": {
            "text/plain": [
              " VeryActiveMinutes FairlyActiveMinutes LightlyActiveMinutes SedentaryMinutes\n",
              " Min.   :  0.00    Min.   :  0.00      Min.   :  0.0        Min.   :   0.0  \n",
              " 1st Qu.:  0.00    1st Qu.:  0.00      1st Qu.:127.0        1st Qu.: 729.8  \n",
              " Median :  4.00    Median :  6.00      Median :199.0        Median :1057.5  \n",
              " Mean   : 21.16    Mean   : 13.56      Mean   :192.8        Mean   : 991.2  \n",
              " 3rd Qu.: 32.00    3rd Qu.: 19.00      3rd Qu.:264.0        3rd Qu.:1229.5  \n",
              " Max.   :210.00    Max.   :143.00      Max.   :518.0        Max.   :1440.0  "
            ]
          },
          "metadata": {}
        }
      ],
      "source": [
        "#Resumo\n",
        "daily_activity %>% select(VeryActiveMinutes, FairlyActiveMinutes,\n",
        "                          LightlyActiveMinutes, SedentaryMinutes) %>%\n",
        "summary()"
      ]
    },
    {
      "cell_type": "markdown",
      "id": "91d3a028",
      "metadata": {
        "papermill": {
          "duration": 0.023135,
          "end_time": "2023-08-20T02:21:48.015703",
          "exception": false,
          "start_time": "2023-08-20T02:21:47.992568",
          "status": "completed"
        },
        "tags": [],
        "id": "91d3a028"
      },
      "source": [
        "Com o método summary() é possível ter uma visão geral das médias de minutos para ativos e sedentários.\n",
        "Vou criar um dataframe para trabalhar esses grupos de variáveis."
      ]
    },
    {
      "cell_type": "code",
      "execution_count": 33,
      "id": "908931cf",
      "metadata": {
        "execution": {
          "iopub.execute_input": "2023-08-20T02:21:48.066469Z",
          "iopub.status.busy": "2023-08-20T02:21:48.065203Z",
          "iopub.status.idle": "2023-08-20T02:21:48.092597Z",
          "shell.execute_reply": "2023-08-20T02:21:48.091208Z"
        },
        "papermill": {
          "duration": 0.055059,
          "end_time": "2023-08-20T02:21:48.094533",
          "exception": false,
          "start_time": "2023-08-20T02:21:48.039474",
          "status": "completed"
        },
        "tags": [],
        "id": "908931cf",
        "colab": {
          "base_uri": "https://localhost:8080/",
          "height": 129
        },
        "outputId": "98f683fc-bbf7-4e50-999b-8ffc6e473ed9"
      },
      "outputs": [
        {
          "output_type": "display_data",
          "data": {
            "text/html": [
              "<table class=\"dataframe\">\n",
              "<caption>A tibble: 1 × 4</caption>\n",
              "<thead>\n",
              "\t<tr><th scope=col>Mean_very_active</th><th scope=col>Mean_fairly_active</th><th scope=col>Mean_Lightly_active</th><th scope=col>Mean_Sedentary_active</th></tr>\n",
              "\t<tr><th scope=col>&lt;dbl&gt;</th><th scope=col>&lt;dbl&gt;</th><th scope=col>&lt;dbl&gt;</th><th scope=col>&lt;dbl&gt;</th></tr>\n",
              "</thead>\n",
              "<tbody>\n",
              "\t<tr><td>21</td><td>14</td><td>193</td><td>991</td></tr>\n",
              "</tbody>\n",
              "</table>\n"
            ],
            "text/markdown": "\nA tibble: 1 × 4\n\n| Mean_very_active &lt;dbl&gt; | Mean_fairly_active &lt;dbl&gt; | Mean_Lightly_active &lt;dbl&gt; | Mean_Sedentary_active &lt;dbl&gt; |\n|---|---|---|---|\n| 21 | 14 | 193 | 991 |\n\n",
            "text/latex": "A tibble: 1 × 4\n\\begin{tabular}{llll}\n Mean\\_very\\_active & Mean\\_fairly\\_active & Mean\\_Lightly\\_active & Mean\\_Sedentary\\_active\\\\\n <dbl> & <dbl> & <dbl> & <dbl>\\\\\n\\hline\n\t 21 & 14 & 193 & 991\\\\\n\\end{tabular}\n",
            "text/plain": [
              "  Mean_very_active Mean_fairly_active Mean_Lightly_active Mean_Sedentary_active\n",
              "1 21               14                 193                 991                  "
            ]
          },
          "metadata": {}
        }
      ],
      "source": [
        "#Média minutos ativos x sedentários\n",
        "intensity_active_minutes <- daily_activity %>% select(VeryActiveMinutes,\n",
        "                                                      FairlyActiveMinutes, LightlyActiveMinutes,\n",
        "                                                      SedentaryMinutes) %>% summarize(Mean_very_active = round(mean(VeryActiveMinutes)),\n",
        "                                                                                      Mean_fairly_active = round(mean(FairlyActiveMinutes)),\n",
        "                                                                                      Mean_Lightly_active = round(mean(LightlyActiveMinutes)),\n",
        "                                                                                      Mean_Sedentary_active = round(mean(SedentaryMinutes)))\n",
        "head(intensity_active_minutes)"
      ]
    },
    {
      "cell_type": "code",
      "execution_count": 34,
      "id": "186c7393",
      "metadata": {
        "execution": {
          "iopub.execute_input": "2023-08-20T02:21:48.145002Z",
          "iopub.status.busy": "2023-08-20T02:21:48.143816Z",
          "iopub.status.idle": "2023-08-20T02:21:48.175656Z",
          "shell.execute_reply": "2023-08-20T02:21:48.174361Z"
        },
        "papermill": {
          "duration": 0.058802,
          "end_time": "2023-08-20T02:21:48.177338",
          "exception": false,
          "start_time": "2023-08-20T02:21:48.118536",
          "status": "completed"
        },
        "tags": [],
        "id": "186c7393",
        "colab": {
          "base_uri": "https://localhost:8080/",
          "height": 223
        },
        "outputId": "eb1d2895-2926-4c9a-9a4b-8f0e4baeceb8"
      },
      "outputs": [
        {
          "output_type": "display_data",
          "data": {
            "text/html": [
              "<table class=\"dataframe\">\n",
              "<caption>A tibble: 4 × 2</caption>\n",
              "<thead>\n",
              "\t<tr><th scope=col>Activity_Level</th><th scope=col>Minutes_daily</th></tr>\n",
              "\t<tr><th scope=col>&lt;chr&gt;</th><th scope=col>&lt;dbl&gt;</th></tr>\n",
              "</thead>\n",
              "<tbody>\n",
              "\t<tr><td>Mean_very_active     </td><td> 21</td></tr>\n",
              "\t<tr><td>Mean_fairly_active   </td><td> 14</td></tr>\n",
              "\t<tr><td>Mean_Lightly_active  </td><td>193</td></tr>\n",
              "\t<tr><td>Mean_Sedentary_active</td><td>991</td></tr>\n",
              "</tbody>\n",
              "</table>\n"
            ],
            "text/markdown": "\nA tibble: 4 × 2\n\n| Activity_Level &lt;chr&gt; | Minutes_daily &lt;dbl&gt; |\n|---|---|\n| Mean_very_active      |  21 |\n| Mean_fairly_active    |  14 |\n| Mean_Lightly_active   | 193 |\n| Mean_Sedentary_active | 991 |\n\n",
            "text/latex": "A tibble: 4 × 2\n\\begin{tabular}{ll}\n Activity\\_Level & Minutes\\_daily\\\\\n <chr> & <dbl>\\\\\n\\hline\n\t Mean\\_very\\_active      &  21\\\\\n\t Mean\\_fairly\\_active    &  14\\\\\n\t Mean\\_Lightly\\_active   & 193\\\\\n\t Mean\\_Sedentary\\_active & 991\\\\\n\\end{tabular}\n",
            "text/plain": [
              "  Activity_Level        Minutes_daily\n",
              "1 Mean_very_active       21          \n",
              "2 Mean_fairly_active     14          \n",
              "3 Mean_Lightly_active   193          \n",
              "4 Mean_Sedentary_active 991          "
            ]
          },
          "metadata": {}
        }
      ],
      "source": [
        "#Pivot table para organizar os grupos por linhas\n",
        "intensity_active_minutes_pivot <- pivot_longer(intensity_active_minutes,\n",
        "                                               1:4, names_to = \"Activity_Level\",\n",
        "                                               values_to = \"Minutes_daily\")\n",
        "head(intensity_active_minutes_pivot)"
      ]
    },
    {
      "cell_type": "markdown",
      "id": "4a5f86ab",
      "metadata": {
        "papermill": {
          "duration": 0.024317,
          "end_time": "2023-08-20T02:21:48.225690",
          "exception": false,
          "start_time": "2023-08-20T02:21:48.201373",
          "status": "completed"
        },
        "tags": [],
        "id": "4a5f86ab"
      },
      "source": [
        "Com o dataframe criado, vou criar agora uma nova coluna para identificar a porcentagem de minutos ativos e sedentários ao longo do dia."
      ]
    },
    {
      "cell_type": "code",
      "execution_count": 35,
      "id": "32a4540c",
      "metadata": {
        "execution": {
          "iopub.execute_input": "2023-08-20T02:21:48.276153Z",
          "iopub.status.busy": "2023-08-20T02:21:48.274853Z",
          "iopub.status.idle": "2023-08-20T02:21:48.298390Z",
          "shell.execute_reply": "2023-08-20T02:21:48.297173Z"
        },
        "papermill": {
          "duration": 0.05083,
          "end_time": "2023-08-20T02:21:48.300086",
          "exception": false,
          "start_time": "2023-08-20T02:21:48.249256",
          "status": "completed"
        },
        "tags": [],
        "id": "32a4540c",
        "colab": {
          "base_uri": "https://localhost:8080/",
          "height": 223
        },
        "outputId": "abad088f-c6fd-4a1b-a1e7-1c7a0891c87e"
      },
      "outputs": [
        {
          "output_type": "display_data",
          "data": {
            "text/html": [
              "<table class=\"dataframe\">\n",
              "<caption>A tibble: 4 × 3</caption>\n",
              "<thead>\n",
              "\t<tr><th scope=col>Activity_Level</th><th scope=col>Minutes_daily</th><th scope=col>Percentage_Minutes_Day</th></tr>\n",
              "\t<tr><th scope=col>&lt;chr&gt;</th><th scope=col>&lt;dbl&gt;</th><th scope=col>&lt;dbl&gt;</th></tr>\n",
              "</thead>\n",
              "<tbody>\n",
              "\t<tr><td>Mean_very_active     </td><td> 21</td><td> 1.72</td></tr>\n",
              "\t<tr><td>Mean_fairly_active   </td><td> 14</td><td> 1.15</td></tr>\n",
              "\t<tr><td>Mean_Lightly_active  </td><td>193</td><td>15.83</td></tr>\n",
              "\t<tr><td>Mean_Sedentary_active</td><td>991</td><td>81.30</td></tr>\n",
              "</tbody>\n",
              "</table>\n"
            ],
            "text/markdown": "\nA tibble: 4 × 3\n\n| Activity_Level &lt;chr&gt; | Minutes_daily &lt;dbl&gt; | Percentage_Minutes_Day &lt;dbl&gt; |\n|---|---|---|\n| Mean_very_active      |  21 |  1.72 |\n| Mean_fairly_active    |  14 |  1.15 |\n| Mean_Lightly_active   | 193 | 15.83 |\n| Mean_Sedentary_active | 991 | 81.30 |\n\n",
            "text/latex": "A tibble: 4 × 3\n\\begin{tabular}{lll}\n Activity\\_Level & Minutes\\_daily & Percentage\\_Minutes\\_Day\\\\\n <chr> & <dbl> & <dbl>\\\\\n\\hline\n\t Mean\\_very\\_active      &  21 &  1.72\\\\\n\t Mean\\_fairly\\_active    &  14 &  1.15\\\\\n\t Mean\\_Lightly\\_active   & 193 & 15.83\\\\\n\t Mean\\_Sedentary\\_active & 991 & 81.30\\\\\n\\end{tabular}\n",
            "text/plain": [
              "  Activity_Level        Minutes_daily Percentage_Minutes_Day\n",
              "1 Mean_very_active       21            1.72                 \n",
              "2 Mean_fairly_active     14            1.15                 \n",
              "3 Mean_Lightly_active   193           15.83                 \n",
              "4 Mean_Sedentary_active 991           81.30                 "
            ]
          },
          "metadata": {}
        }
      ],
      "source": [
        "#Adicionar coluna percent\n",
        "percent_active <- mutate(intensity_active_minutes_pivot,\n",
        "                         Percentage_Minutes_Day=round(Minutes_daily/1219*100, 2))\n",
        "head(percent_active)"
      ]
    },
    {
      "cell_type": "code",
      "execution_count": 36,
      "id": "c5274bf8",
      "metadata": {
        "execution": {
          "iopub.execute_input": "2023-08-20T02:21:48.352753Z",
          "iopub.status.busy": "2023-08-20T02:21:48.351401Z",
          "iopub.status.idle": "2023-08-20T02:21:48.377676Z",
          "shell.execute_reply": "2023-08-20T02:21:48.376418Z"
        },
        "papermill": {
          "duration": 0.05465,
          "end_time": "2023-08-20T02:21:48.379354",
          "exception": false,
          "start_time": "2023-08-20T02:21:48.324704",
          "status": "completed"
        },
        "tags": [],
        "id": "c5274bf8",
        "colab": {
          "base_uri": "https://localhost:8080/",
          "height": 129
        },
        "outputId": "7484362c-b1bd-4f13-a2cb-0ccaf2699e05"
      },
      "outputs": [
        {
          "output_type": "display_data",
          "data": {
            "text/html": [
              "<table class=\"dataframe\">\n",
              "<caption>A tibble: 1 × 2</caption>\n",
              "<thead>\n",
              "\t<tr><th scope=col>Actives</th><th scope=col>sedentaryes</th></tr>\n",
              "\t<tr><th scope=col>&lt;dbl&gt;</th><th scope=col>&lt;dbl&gt;</th></tr>\n",
              "</thead>\n",
              "<tbody>\n",
              "\t<tr><td>228</td><td>991</td></tr>\n",
              "</tbody>\n",
              "</table>\n"
            ],
            "text/markdown": "\nA tibble: 1 × 2\n\n| Actives &lt;dbl&gt; | sedentaryes &lt;dbl&gt; |\n|---|---|\n| 228 | 991 |\n\n",
            "text/latex": "A tibble: 1 × 2\n\\begin{tabular}{ll}\n Actives & sedentaryes\\\\\n <dbl> & <dbl>\\\\\n\\hline\n\t 228 & 991\\\\\n\\end{tabular}\n",
            "text/plain": [
              "  Actives sedentaryes\n",
              "1 228     991        "
            ]
          },
          "metadata": {}
        }
      ],
      "source": [
        "intensity_active <- daily_activity %>% select(VeryActiveMinutes, FairlyActiveMinutes,\n",
        "                                              LightlyActiveMinutes, SedentaryMinutes) %>%\n",
        "summarize(Mean_very_active = round(mean(VeryActiveMinutes)),\n",
        "          Mean_fairly_active = round(mean(FairlyActiveMinutes)),\n",
        "          Mean_Lightly_active = round(mean(LightlyActiveMinutes)),\n",
        "          Mean_Sedentary_active = round(mean(SedentaryMinutes))) %>%\n",
        "summarize(Actives = round(sum(Mean_very_active, Mean_fairly_active, Mean_Lightly_active)),\n",
        "         sedentaryes = Mean_Sedentary_active)\n",
        "\n",
        "intensity_active"
      ]
    },
    {
      "cell_type": "code",
      "execution_count": 37,
      "id": "69448f76",
      "metadata": {
        "execution": {
          "iopub.execute_input": "2023-08-20T02:21:48.430577Z",
          "iopub.status.busy": "2023-08-20T02:21:48.429363Z",
          "iopub.status.idle": "2023-08-20T02:21:48.452543Z",
          "shell.execute_reply": "2023-08-20T02:21:48.451337Z"
        },
        "papermill": {
          "duration": 0.050584,
          "end_time": "2023-08-20T02:21:48.454280",
          "exception": false,
          "start_time": "2023-08-20T02:21:48.403696",
          "status": "completed"
        },
        "tags": [],
        "id": "69448f76",
        "colab": {
          "base_uri": "https://localhost:8080/",
          "height": 161
        },
        "outputId": "a91e9e08-7955-4308-f861-4808c379a785"
      },
      "outputs": [
        {
          "output_type": "display_data",
          "data": {
            "text/html": [
              "<table class=\"dataframe\">\n",
              "<caption>A tibble: 2 × 2</caption>\n",
              "<thead>\n",
              "\t<tr><th scope=col>Activity_Level</th><th scope=col>Minutes_daily</th></tr>\n",
              "\t<tr><th scope=col>&lt;chr&gt;</th><th scope=col>&lt;dbl&gt;</th></tr>\n",
              "</thead>\n",
              "<tbody>\n",
              "\t<tr><td>Actives    </td><td>228</td></tr>\n",
              "\t<tr><td>sedentaryes</td><td>991</td></tr>\n",
              "</tbody>\n",
              "</table>\n"
            ],
            "text/markdown": "\nA tibble: 2 × 2\n\n| Activity_Level &lt;chr&gt; | Minutes_daily &lt;dbl&gt; |\n|---|---|\n| Actives     | 228 |\n| sedentaryes | 991 |\n\n",
            "text/latex": "A tibble: 2 × 2\n\\begin{tabular}{ll}\n Activity\\_Level & Minutes\\_daily\\\\\n <chr> & <dbl>\\\\\n\\hline\n\t Actives     & 228\\\\\n\t sedentaryes & 991\\\\\n\\end{tabular}\n",
            "text/plain": [
              "  Activity_Level Minutes_daily\n",
              "1 Actives        228          \n",
              "2 sedentaryes    991          "
            ]
          },
          "metadata": {}
        }
      ],
      "source": [
        "#Pivot table para organizar os grupos por linhas\n",
        "intensity_active_df2 <- pivot_longer(intensity_active,\n",
        "                                               1:2, names_to = \"Activity_Level\",\n",
        "                                               values_to = \"Minutes_daily\")\n",
        "intensity_active_df2"
      ]
    },
    {
      "cell_type": "code",
      "execution_count": 38,
      "id": "c4ab8c9b",
      "metadata": {
        "execution": {
          "iopub.execute_input": "2023-08-20T02:21:48.507492Z",
          "iopub.status.busy": "2023-08-20T02:21:48.506280Z",
          "iopub.status.idle": "2023-08-20T02:21:48.528481Z",
          "shell.execute_reply": "2023-08-20T02:21:48.527220Z"
        },
        "papermill": {
          "duration": 0.051447,
          "end_time": "2023-08-20T02:21:48.530210",
          "exception": false,
          "start_time": "2023-08-20T02:21:48.478763",
          "status": "completed"
        },
        "tags": [],
        "id": "c4ab8c9b",
        "colab": {
          "base_uri": "https://localhost:8080/",
          "height": 161
        },
        "outputId": "42e8796d-8bfb-4fef-f14a-90f7a367e5e2"
      },
      "outputs": [
        {
          "output_type": "display_data",
          "data": {
            "text/html": [
              "<table class=\"dataframe\">\n",
              "<caption>A tibble: 2 × 3</caption>\n",
              "<thead>\n",
              "\t<tr><th scope=col>Activity_Level</th><th scope=col>Minutes_daily</th><th scope=col>Percent</th></tr>\n",
              "\t<tr><th scope=col>&lt;chr&gt;</th><th scope=col>&lt;dbl&gt;</th><th scope=col>&lt;dbl&gt;</th></tr>\n",
              "</thead>\n",
              "<tbody>\n",
              "\t<tr><td>Actives    </td><td>228</td><td>18.7</td></tr>\n",
              "\t<tr><td>sedentaryes</td><td>991</td><td>81.3</td></tr>\n",
              "</tbody>\n",
              "</table>\n"
            ],
            "text/markdown": "\nA tibble: 2 × 3\n\n| Activity_Level &lt;chr&gt; | Minutes_daily &lt;dbl&gt; | Percent &lt;dbl&gt; |\n|---|---|---|\n| Actives     | 228 | 18.7 |\n| sedentaryes | 991 | 81.3 |\n\n",
            "text/latex": "A tibble: 2 × 3\n\\begin{tabular}{lll}\n Activity\\_Level & Minutes\\_daily & Percent\\\\\n <chr> & <dbl> & <dbl>\\\\\n\\hline\n\t Actives     & 228 & 18.7\\\\\n\t sedentaryes & 991 & 81.3\\\\\n\\end{tabular}\n",
            "text/plain": [
              "  Activity_Level Minutes_daily Percent\n",
              "1 Actives        228           18.7   \n",
              "2 sedentaryes    991           81.3   "
            ]
          },
          "metadata": {}
        }
      ],
      "source": [
        "#Adicionar coluna percent\n",
        "percent_intensity_active_df2 <- mutate(intensity_active_df2,\n",
        "                         Percent = round(Minutes_daily/1219*100, 2))\n",
        "\n",
        "percent_intensity_active_df2"
      ]
    },
    {
      "cell_type": "code",
      "execution_count": 39,
      "id": "68c21088",
      "metadata": {
        "execution": {
          "iopub.execute_input": "2023-08-20T02:21:48.583278Z",
          "iopub.status.busy": "2023-08-20T02:21:48.581928Z",
          "iopub.status.idle": "2023-08-20T02:21:48.846647Z",
          "shell.execute_reply": "2023-08-20T02:21:48.844957Z"
        },
        "papermill": {
          "duration": 0.294096,
          "end_time": "2023-08-20T02:21:48.849034",
          "exception": false,
          "start_time": "2023-08-20T02:21:48.554938",
          "status": "completed"
        },
        "tags": [],
        "id": "68c21088",
        "colab": {
          "base_uri": "https://localhost:8080/",
          "height": 437
        },
        "outputId": "9f27b924-3461-459e-81a9-0f6cb5e9dd5a"
      },
      "outputs": [
        {
          "output_type": "display_data",
          "data": {
            "text/plain": [
              "plot without title"
            ],
            "image/png": "[encoded data removed]"
          },
          "metadata": {
            "image/png": {
              "width": 420,
              "height": 420
            }
          }
        }
      ],
      "source": [
        "p3 <- ggplot(percent_intensity_active_df2, aes(y=Activity_Level, x=Percent)) +\n",
        "geom_col(fill = \"darkseagreen3\") + #, alpha = 0.2, color = \"black\") +\n",
        "\n",
        "labs(\n",
        "    title= \"Nível de atividade dia\",\n",
        "    subtitle= \"Comparativo (%) de minutos ativos e sedentários\",\n",
        "    caption = \"Dados de usuários de domínio público do FitBit Fitness Tracker Data.\",\n",
        "    tag = \"Figura 3\",\n",
        "    x = \"Porcentagem (%)\",\n",
        "    y = \"Nível de atividade\") +\n",
        "\n",
        "geom_text(aes(label=Percent), vjust =0, nudge_x = -8, nudge_y = -0.05,\n",
        "          fontface=\"bold\", size=8, color= \"black\")+\n",
        "\n",
        "theme(axis.text.y = element_text(size=12))+\n",
        "theme(axis.text.x = element_text(size=15))\n",
        "\n",
        "p3 + theme_classic() +\n",
        "theme(plot.title = element_text(size=37),\n",
        "     plot.subtitle = element_text(size=13))\n",
        "\n"
      ]
    },
    {
      "cell_type": "markdown",
      "id": "cce889ac",
      "metadata": {
        "papermill": {
          "duration": 0.025652,
          "end_time": "2023-08-20T02:21:48.900812",
          "exception": false,
          "start_time": "2023-08-20T02:21:48.875160",
          "status": "completed"
        },
        "tags": [],
        "id": "cce889ac"
      },
      "source": [
        "Os participantes da pesquisa passam em média 991 minutos por dia de forma sedentária, cerca de 81.30% do tempo diário. A média dos minutos ativos ao longo do dia são de 228 minutos, apenas 18.7% do tempo diário.\n",
        "\n",
        "Apesar da diferença entre minutos ativos e sedentários ao longo dia, será que os usuários estão acima ou abaixo da recomendação para minutos de atividade fisica?\n",
        "\n",
        "Para ajudar a responder essa pergunta, vou usar como fonte externa a [Diretrizes da OMS para atividade física e comportamento sedentário](http://apps.who.int/iris/bitstream/handle/10665/337001/9789240014886-por.pdf).\n",
        "\n",
        "A OMS recomenda pelo menos de 150 a 300 minutos de atividade física de moderada\n",
        "intensidade por semana (ou atividade física vigorosa equivalente) para\n",
        "todos os adultos.\n",
        "\n",
        "Com base nessa recomendação da OMS, vou analisar duas váriáveis do conjunto de dados daily_activity, **VeryActiveMinutes** e **FairlyActiveMinutes**, ambas as variáveis respondem ao critétio de atividade física de moderada intensidade.\n",
        "\n"
      ]
    },
    {
      "cell_type": "markdown",
      "id": "10f42703",
      "metadata": {
        "papermill": {
          "duration": 0.025399,
          "end_time": "2023-08-20T02:21:48.951593",
          "exception": false,
          "start_time": "2023-08-20T02:21:48.926194",
          "status": "completed"
        },
        "tags": [],
        "id": "10f42703"
      },
      "source": [
        "#### 5.2.2 Média de minutos ativos e a recomendação  \n",
        "\n",
        "Para encontrar a média de minutos ativos por semana, primeiro vou agrupar a coluna **Days_of_Week** e obter a média de minutos ativos das duas variáveis correspondentes a minutos ativos: **VeryActiveMinutes** e **FairlyActiveMinutes**.\n",
        "\n",
        "Em seguida vou criar uma nova coluna de nome **Active_Minutes_Total** com a soma da média dos minutos ativos ao longo dos dias da semana.  "
      ]
    },
    {
      "cell_type": "code",
      "execution_count": 40,
      "id": "fd038bdd",
      "metadata": {
        "execution": {
          "iopub.execute_input": "2023-08-20T02:21:49.005675Z",
          "iopub.status.busy": "2023-08-20T02:21:49.004395Z",
          "iopub.status.idle": "2023-08-20T02:21:49.034839Z",
          "shell.execute_reply": "2023-08-20T02:21:49.033643Z"
        },
        "papermill": {
          "duration": 0.05956,
          "end_time": "2023-08-20T02:21:49.036523",
          "exception": false,
          "start_time": "2023-08-20T02:21:48.976963",
          "status": "completed"
        },
        "tags": [],
        "id": "fd038bdd",
        "colab": {
          "base_uri": "https://localhost:8080/",
          "height": 317
        },
        "outputId": "9c6590ae-543e-4de9-861c-1cccb5bba57f"
      },
      "outputs": [
        {
          "output_type": "display_data",
          "data": {
            "text/html": [
              "<table class=\"dataframe\">\n",
              "<caption>A tibble: 7 × 4</caption>\n",
              "<thead>\n",
              "\t<tr><th scope=col>Days_of_Week</th><th scope=col>Mean_Very_Active_Minutes</th><th scope=col>Mean_Fairly_Active_Minutes</th><th scope=col>Active_Minutes_Total</th></tr>\n",
              "\t<tr><th scope=col>&lt;chr&gt;</th><th scope=col>&lt;dbl&gt;</th><th scope=col>&lt;dbl&gt;</th><th scope=col>&lt;dbl&gt;</th></tr>\n",
              "</thead>\n",
              "<tbody>\n",
              "\t<tr><td>Friday   </td><td>20</td><td>12</td><td>32</td></tr>\n",
              "\t<tr><td>Monday   </td><td>23</td><td>14</td><td>37</td></tr>\n",
              "\t<tr><td>Saturday </td><td>22</td><td>15</td><td>37</td></tr>\n",
              "\t<tr><td>Sunday   </td><td>20</td><td>15</td><td>35</td></tr>\n",
              "\t<tr><td>Thursday </td><td>19</td><td>12</td><td>31</td></tr>\n",
              "\t<tr><td>Tuesday  </td><td>23</td><td>14</td><td>37</td></tr>\n",
              "\t<tr><td>Wednesday</td><td>21</td><td>13</td><td>34</td></tr>\n",
              "</tbody>\n",
              "</table>\n"
            ],
            "text/markdown": "\nA tibble: 7 × 4\n\n| Days_of_Week &lt;chr&gt; | Mean_Very_Active_Minutes &lt;dbl&gt; | Mean_Fairly_Active_Minutes &lt;dbl&gt; | Active_Minutes_Total &lt;dbl&gt; |\n|---|---|---|---|\n| Friday    | 20 | 12 | 32 |\n| Monday    | 23 | 14 | 37 |\n| Saturday  | 22 | 15 | 37 |\n| Sunday    | 20 | 15 | 35 |\n| Thursday  | 19 | 12 | 31 |\n| Tuesday   | 23 | 14 | 37 |\n| Wednesday | 21 | 13 | 34 |\n\n",
            "text/latex": "A tibble: 7 × 4\n\\begin{tabular}{llll}\n Days\\_of\\_Week & Mean\\_Very\\_Active\\_Minutes & Mean\\_Fairly\\_Active\\_Minutes & Active\\_Minutes\\_Total\\\\\n <chr> & <dbl> & <dbl> & <dbl>\\\\\n\\hline\n\t Friday    & 20 & 12 & 32\\\\\n\t Monday    & 23 & 14 & 37\\\\\n\t Saturday  & 22 & 15 & 37\\\\\n\t Sunday    & 20 & 15 & 35\\\\\n\t Thursday  & 19 & 12 & 31\\\\\n\t Tuesday   & 23 & 14 & 37\\\\\n\t Wednesday & 21 & 13 & 34\\\\\n\\end{tabular}\n",
            "text/plain": [
              "  Days_of_Week Mean_Very_Active_Minutes Mean_Fairly_Active_Minutes\n",
              "1 Friday       20                       12                        \n",
              "2 Monday       23                       14                        \n",
              "3 Saturday     22                       15                        \n",
              "4 Sunday       20                       15                        \n",
              "5 Thursday     19                       12                        \n",
              "6 Tuesday      23                       14                        \n",
              "7 Wednesday    21                       13                        \n",
              "  Active_Minutes_Total\n",
              "1 32                  \n",
              "2 37                  \n",
              "3 37                  \n",
              "4 35                  \n",
              "5 31                  \n",
              "6 37                  \n",
              "7 34                  "
            ]
          },
          "metadata": {}
        }
      ],
      "source": [
        "# média de minutos ativos por semana\n",
        "weekday_intensity_active_minutes <- daily_activity_new %>%\n",
        "group_by(Days_of_Week) %>%\n",
        "summarize(Mean_Very_Active_Minutes = round(mean(VeryActiveMinutes)),\n",
        "          Mean_Fairly_Active_Minutes = round(mean(FairlyActiveMinutes))) %>%\n",
        "\n",
        "#Nova coluna soma da média de minutos ativos por semana Active_Minutes_Total\n",
        "mutate(Active_Minutes_Total= Mean_Very_Active_Minutes+Mean_Fairly_Active_Minutes)\n",
        "\n",
        "weekday_intensity_active_minutes\n"
      ]
    },
    {
      "cell_type": "code",
      "execution_count": 41,
      "id": "64a9048a",
      "metadata": {
        "execution": {
          "iopub.execute_input": "2023-08-20T02:21:49.090356Z",
          "iopub.status.busy": "2023-08-20T02:21:49.088958Z",
          "iopub.status.idle": "2023-08-20T02:21:49.104759Z",
          "shell.execute_reply": "2023-08-20T02:21:49.103553Z"
        },
        "papermill": {
          "duration": 0.045085,
          "end_time": "2023-08-20T02:21:49.107035",
          "exception": false,
          "start_time": "2023-08-20T02:21:49.061950",
          "status": "completed"
        },
        "tags": [],
        "id": "64a9048a",
        "colab": {
          "base_uri": "https://localhost:8080/",
          "height": 34
        },
        "outputId": "c4927bb2-5349-4206-8953-de47c9690258"
      },
      "outputs": [
        {
          "output_type": "display_data",
          "data": {
            "text/html": [
              "243"
            ],
            "text/markdown": "243",
            "text/latex": "243",
            "text/plain": [
              "[1] 243"
            ]
          },
          "metadata": {}
        }
      ],
      "source": [
        "#Soma da média de minutos ativos por dias da semana\n",
        "weekday_intensity_active_minutes %>%\n",
        "select(Active_Minutes_Total) %>%\n",
        "sum()"
      ]
    },
    {
      "cell_type": "markdown",
      "id": "5bf1a18d",
      "metadata": {
        "papermill": {
          "duration": 0.025827,
          "end_time": "2023-08-20T02:21:49.158619",
          "exception": false,
          "start_time": "2023-08-20T02:21:49.132792",
          "status": "completed"
        },
        "tags": [],
        "id": "5bf1a18d"
      },
      "source": [
        "Ao somar a média de minutos ativos por dia da semana, temos o valor de 243 minutos ativos, o que corresponde ao valor médio de minutos ativos semanal.  \n",
        "\n",
        "Vamos comparar o resultado com a recomendação de minutos de atividade física da OMS."
      ]
    },
    {
      "cell_type": "code",
      "execution_count": 42,
      "id": "3754618d",
      "metadata": {
        "execution": {
          "iopub.execute_input": "2023-08-20T02:21:49.213136Z",
          "iopub.status.busy": "2023-08-20T02:21:49.211909Z",
          "iopub.status.idle": "2023-08-20T02:21:49.233983Z",
          "shell.execute_reply": "2023-08-20T02:21:49.232350Z"
        },
        "papermill": {
          "duration": 0.051317,
          "end_time": "2023-08-20T02:21:49.235738",
          "exception": false,
          "start_time": "2023-08-20T02:21:49.184421",
          "status": "completed"
        },
        "tags": [],
        "id": "3754618d",
        "colab": {
          "base_uri": "https://localhost:8080/",
          "height": 161
        },
        "outputId": "9eaeb75d-1d69-4374-b3aa-1171244d5e35"
      },
      "outputs": [
        {
          "output_type": "display_data",
          "data": {
            "text/html": [
              "<table class=\"dataframe\">\n",
              "<caption>A data.frame: 2 × 2</caption>\n",
              "<thead>\n",
              "\t<tr><th scope=col>Active_Level</th><th scope=col>Minutes_Week</th></tr>\n",
              "\t<tr><th scope=col>&lt;chr&gt;</th><th scope=col>&lt;dbl&gt;</th></tr>\n",
              "</thead>\n",
              "<tbody>\n",
              "\t<tr><td>Actives       </td><td>243</td></tr>\n",
              "\t<tr><td>Recommendation</td><td>150</td></tr>\n",
              "</tbody>\n",
              "</table>\n"
            ],
            "text/markdown": "\nA data.frame: 2 × 2\n\n| Active_Level &lt;chr&gt; | Minutes_Week &lt;dbl&gt; |\n|---|---|\n| Actives        | 243 |\n| Recommendation | 150 |\n\n",
            "text/latex": "A data.frame: 2 × 2\n\\begin{tabular}{ll}\n Active\\_Level & Minutes\\_Week\\\\\n <chr> & <dbl>\\\\\n\\hline\n\t Actives        & 243\\\\\n\t Recommendation & 150\\\\\n\\end{tabular}\n",
            "text/plain": [
              "  Active_Level   Minutes_Week\n",
              "1 Actives        243         \n",
              "2 Recommendation 150         "
            ]
          },
          "metadata": {}
        }
      ],
      "source": [
        "#Criar dataframe com o valor minutos ativos semana e o recomendado\n",
        "Active_Level <- c(\"Actives\", \"Recommendation\")\n",
        "Minutes_Week <- c(243, 150)\n",
        "week_activity_minutes_df2 <- data.frame(Active_Level, Minutes_Week)\n",
        "\n",
        "week_activity_minutes_df2"
      ]
    },
    {
      "cell_type": "code",
      "execution_count": 43,
      "id": "fb823b3a",
      "metadata": {
        "execution": {
          "iopub.execute_input": "2023-08-20T02:21:49.292926Z",
          "iopub.status.busy": "2023-08-20T02:21:49.291708Z",
          "iopub.status.idle": "2023-08-20T02:21:49.513493Z",
          "shell.execute_reply": "2023-08-20T02:21:49.512298Z"
        },
        "papermill": {
          "duration": 0.252903,
          "end_time": "2023-08-20T02:21:49.515693",
          "exception": false,
          "start_time": "2023-08-20T02:21:49.262790",
          "status": "completed"
        },
        "tags": [],
        "id": "fb823b3a",
        "colab": {
          "base_uri": "https://localhost:8080/",
          "height": 437
        },
        "outputId": "0d0ff2b6-14fe-48f1-faf5-f47931b6de5e"
      },
      "outputs": [
        {
          "output_type": "display_data",
          "data": {
            "text/plain": [
              "plot without title"
            ],
            "image/png": "[encoded data removed]"
          },
          "metadata": {
            "image/png": {
              "width": 420,
              "height": 420
            }
          }
        }
      ],
      "source": [
        "p4 <- ggplot(week_activity_minutes_df2, aes(x=Active_Level, y=Minutes_Week)) +\n",
        "geom_col(fill = \"darkseagreen3\") + #, alpha = 0.2, color = \"black\") +\n",
        "\n",
        "labs(\n",
        "    title= \"Minutos ativos x Recomendação\",\n",
        "    subtitle= \"Comparativo de minutos ativos e a recomendação mínima\",\n",
        "    caption = \"Dados de usuários de domínio público do FitBit Fitness Tracker Data.\",\n",
        "    tag = \"Figura 4\",\n",
        "    x = \"Nível de atividade\",\n",
        "    y = \"Minutos Ativos (semana)\") +\n",
        "\n",
        "geom_text(aes(label=Minutes_Week), vjust =0, nudge_x = 0, nudge_y = 0,\n",
        "          fontface=\"bold\", size=8, color= \"black\")+\n",
        "\n",
        "theme(axis.text.y = element_text(size=12))+\n",
        "theme(axis.text.x = element_text(size=12))\n",
        "\n",
        "p4 + theme_classic() +\n",
        "theme(plot.title = element_text(size=27),\n",
        "     plot.subtitle = element_text(size=13))\n",
        "\n"
      ]
    },
    {
      "cell_type": "markdown",
      "id": "ea9a7929",
      "metadata": {
        "papermill": {
          "duration": 0.02626,
          "end_time": "2023-08-20T02:21:49.568987",
          "exception": false,
          "start_time": "2023-08-20T02:21:49.542727",
          "status": "completed"
        },
        "tags": [],
        "id": "ea9a7929"
      },
      "source": [
        "O gráfico da figura 4, apresenta um resultado satisfatório de 243 minutos ativos na semana, ultrapassando o mínimo de 150 minutos de atividade física na semana resomendado pela OMS."
      ]
    },
    {
      "cell_type": "markdown",
      "id": "ec38fb5a",
      "metadata": {
        "papermill": {
          "duration": 0.025896,
          "end_time": "2023-08-20T02:21:49.621392",
          "exception": false,
          "start_time": "2023-08-20T02:21:49.595496",
          "status": "completed"
        },
        "tags": [],
        "id": "ec38fb5a"
      },
      "source": [
        "Quero observar agora a distribuição percentual de minutos ativos ao longo da semana, vou criar uma nova coluna com observações sobre a porcentagem de minutos ativos nos dias da semana."
      ]
    },
    {
      "cell_type": "code",
      "execution_count": 44,
      "id": "f4d92fa9",
      "metadata": {
        "execution": {
          "iopub.execute_input": "2023-08-20T02:21:49.676512Z",
          "iopub.status.busy": "2023-08-20T02:21:49.675120Z",
          "iopub.status.idle": "2023-08-20T02:21:49.710137Z",
          "shell.execute_reply": "2023-08-20T02:21:49.708252Z"
        },
        "papermill": {
          "duration": 0.065032,
          "end_time": "2023-08-20T02:21:49.712394",
          "exception": false,
          "start_time": "2023-08-20T02:21:49.647362",
          "status": "completed"
        },
        "tags": [],
        "id": "f4d92fa9",
        "colab": {
          "base_uri": "https://localhost:8080/",
          "height": 317
        },
        "outputId": "fffca9a1-a386-4c50-9585-fe47e1ad2d82"
      },
      "outputs": [
        {
          "output_type": "display_data",
          "data": {
            "text/html": [
              "<table class=\"dataframe\">\n",
              "<caption>A tibble: 7 × 5</caption>\n",
              "<thead>\n",
              "\t<tr><th scope=col>Days_of_Week</th><th scope=col>Mean_Very_Active_Minutes</th><th scope=col>Mean_Fairly_Active_Minutes</th><th scope=col>Active_Minutes_Total</th><th scope=col>Active_Minutes_Percent</th></tr>\n",
              "\t<tr><th scope=col>&lt;chr&gt;</th><th scope=col>&lt;dbl&gt;</th><th scope=col>&lt;dbl&gt;</th><th scope=col>&lt;dbl&gt;</th><th scope=col>&lt;dbl&gt;</th></tr>\n",
              "</thead>\n",
              "<tbody>\n",
              "\t<tr><td>Friday   </td><td>20</td><td>12</td><td>32</td><td>13.17</td></tr>\n",
              "\t<tr><td>Monday   </td><td>23</td><td>14</td><td>37</td><td>15.23</td></tr>\n",
              "\t<tr><td>Saturday </td><td>22</td><td>15</td><td>37</td><td>15.23</td></tr>\n",
              "\t<tr><td>Sunday   </td><td>20</td><td>15</td><td>35</td><td>14.40</td></tr>\n",
              "\t<tr><td>Thursday </td><td>19</td><td>12</td><td>31</td><td>12.76</td></tr>\n",
              "\t<tr><td>Tuesday  </td><td>23</td><td>14</td><td>37</td><td>15.23</td></tr>\n",
              "\t<tr><td>Wednesday</td><td>21</td><td>13</td><td>34</td><td>13.99</td></tr>\n",
              "</tbody>\n",
              "</table>\n"
            ],
            "text/markdown": "\nA tibble: 7 × 5\n\n| Days_of_Week &lt;chr&gt; | Mean_Very_Active_Minutes &lt;dbl&gt; | Mean_Fairly_Active_Minutes &lt;dbl&gt; | Active_Minutes_Total &lt;dbl&gt; | Active_Minutes_Percent &lt;dbl&gt; |\n|---|---|---|---|---|\n| Friday    | 20 | 12 | 32 | 13.17 |\n| Monday    | 23 | 14 | 37 | 15.23 |\n| Saturday  | 22 | 15 | 37 | 15.23 |\n| Sunday    | 20 | 15 | 35 | 14.40 |\n| Thursday  | 19 | 12 | 31 | 12.76 |\n| Tuesday   | 23 | 14 | 37 | 15.23 |\n| Wednesday | 21 | 13 | 34 | 13.99 |\n\n",
            "text/latex": "A tibble: 7 × 5\n\\begin{tabular}{lllll}\n Days\\_of\\_Week & Mean\\_Very\\_Active\\_Minutes & Mean\\_Fairly\\_Active\\_Minutes & Active\\_Minutes\\_Total & Active\\_Minutes\\_Percent\\\\\n <chr> & <dbl> & <dbl> & <dbl> & <dbl>\\\\\n\\hline\n\t Friday    & 20 & 12 & 32 & 13.17\\\\\n\t Monday    & 23 & 14 & 37 & 15.23\\\\\n\t Saturday  & 22 & 15 & 37 & 15.23\\\\\n\t Sunday    & 20 & 15 & 35 & 14.40\\\\\n\t Thursday  & 19 & 12 & 31 & 12.76\\\\\n\t Tuesday   & 23 & 14 & 37 & 15.23\\\\\n\t Wednesday & 21 & 13 & 34 & 13.99\\\\\n\\end{tabular}\n",
            "text/plain": [
              "  Days_of_Week Mean_Very_Active_Minutes Mean_Fairly_Active_Minutes\n",
              "1 Friday       20                       12                        \n",
              "2 Monday       23                       14                        \n",
              "3 Saturday     22                       15                        \n",
              "4 Sunday       20                       15                        \n",
              "5 Thursday     19                       12                        \n",
              "6 Tuesday      23                       14                        \n",
              "7 Wednesday    21                       13                        \n",
              "  Active_Minutes_Total Active_Minutes_Percent\n",
              "1 32                   13.17                 \n",
              "2 37                   15.23                 \n",
              "3 37                   15.23                 \n",
              "4 35                   14.40                 \n",
              "5 31                   12.76                 \n",
              "6 37                   15.23                 \n",
              "7 34                   13.99                 "
            ]
          },
          "metadata": {}
        }
      ],
      "source": [
        "#Nova coluna Active_Minutes_Percent\n",
        "weekday_intensity_active_minutes_new <- weekday_intensity_active_minutes %>%\n",
        "mutate(Active_Minutes_Percent= round(Active_Minutes_Total/243*100, 2))\n",
        "\n",
        "\n",
        "weekday_intensity_active_minutes_new"
      ]
    },
    {
      "cell_type": "markdown",
      "id": "75359f80",
      "metadata": {
        "papermill": {
          "duration": 0.026784,
          "end_time": "2023-08-20T02:21:49.766142",
          "exception": false,
          "start_time": "2023-08-20T02:21:49.739358",
          "status": "completed"
        },
        "tags": [],
        "id": "75359f80"
      },
      "source": [
        "A distribuição percentual de minutos ativos ao longo dos dias da semana se mostrou muito próximo. Com destaque para Monday, Saturday e Tuesday com iguais 15.23% de minutos ativos no dia."
      ]
    },
    {
      "cell_type": "markdown",
      "id": "10a50bbf",
      "metadata": {
        "papermill": {
          "duration": 0.026765,
          "end_time": "2023-08-20T02:21:49.819985",
          "exception": false,
          "start_time": "2023-08-20T02:21:49.793220",
          "status": "completed"
        },
        "tags": [],
        "id": "10a50bbf"
      },
      "source": [
        "#### 5.2.3 Intensidade ao longo do dia da semana."
      ]
    },
    {
      "cell_type": "markdown",
      "id": "0e44256d",
      "metadata": {
        "papermill": {
          "duration": 0.02777,
          "end_time": "2023-08-20T02:21:49.874731",
          "exception": false,
          "start_time": "2023-08-20T02:21:49.846961",
          "status": "completed"
        },
        "tags": [],
        "id": "0e44256d"
      },
      "source": [
        "Meu próximo passo será explorar os níveis de intensidade por hora ao longo do dia da semana, meu objetivo com essa análise será descobrir um pouco mais da rotina dos usários.\n",
        "\n",
        "A que horas do dia os níveis de intensidade aumentam ou diminui? A que horas do dia há pico de intensidade?"
      ]
    },
    {
      "cell_type": "code",
      "execution_count": 45,
      "id": "899db8b2",
      "metadata": {
        "execution": {
          "iopub.execute_input": "2023-08-20T02:21:49.931515Z",
          "iopub.status.busy": "2023-08-20T02:21:49.930260Z",
          "iopub.status.idle": "2023-08-20T02:21:49.968526Z",
          "shell.execute_reply": "2023-08-20T02:21:49.966720Z"
        },
        "papermill": {
          "duration": 0.069001,
          "end_time": "2023-08-20T02:21:49.970684",
          "exception": false,
          "start_time": "2023-08-20T02:21:49.901683",
          "status": "completed"
        },
        "tags": [],
        "id": "899db8b2",
        "colab": {
          "base_uri": "https://localhost:8080/",
          "height": 286
        },
        "outputId": "df2cb350-2661-470c-daac-f930317eb51f"
      },
      "outputs": [
        {
          "output_type": "display_data",
          "data": {
            "text/html": [
              "<table class=\"dataframe\">\n",
              "<caption>A tibble: 6 × 6</caption>\n",
              "<thead>\n",
              "\t<tr><th scope=col>Id</th><th scope=col>ActivityHour</th><th scope=col>TotalIntensity</th><th scope=col>AverageIntensity</th><th scope=col>Days_of_Week</th><th scope=col>Hour_of_day</th></tr>\n",
              "\t<tr><th scope=col>&lt;dbl&gt;</th><th scope=col>&lt;dttm&gt;</th><th scope=col>&lt;dbl&gt;</th><th scope=col>&lt;dbl&gt;</th><th scope=col>&lt;chr&gt;</th><th scope=col>&lt;int&gt;</th></tr>\n",
              "</thead>\n",
              "<tbody>\n",
              "\t<tr><td>1503960366</td><td>2016-04-12 00:00:00</td><td>20</td><td>0.333333</td><td>Tuesday</td><td>0</td></tr>\n",
              "\t<tr><td>1503960366</td><td>2016-04-12 01:00:00</td><td> 8</td><td>0.133333</td><td>Tuesday</td><td>1</td></tr>\n",
              "\t<tr><td>1503960366</td><td>2016-04-12 02:00:00</td><td> 7</td><td>0.116667</td><td>Tuesday</td><td>2</td></tr>\n",
              "\t<tr><td>1503960366</td><td>2016-04-12 03:00:00</td><td> 0</td><td>0.000000</td><td>Tuesday</td><td>3</td></tr>\n",
              "\t<tr><td>1503960366</td><td>2016-04-12 04:00:00</td><td> 0</td><td>0.000000</td><td>Tuesday</td><td>4</td></tr>\n",
              "\t<tr><td>1503960366</td><td>2016-04-12 05:00:00</td><td> 0</td><td>0.000000</td><td>Tuesday</td><td>5</td></tr>\n",
              "</tbody>\n",
              "</table>\n"
            ],
            "text/markdown": "\nA tibble: 6 × 6\n\n| Id &lt;dbl&gt; | ActivityHour &lt;dttm&gt; | TotalIntensity &lt;dbl&gt; | AverageIntensity &lt;dbl&gt; | Days_of_Week &lt;chr&gt; | Hour_of_day &lt;int&gt; |\n|---|---|---|---|---|---|\n| 1503960366 | 2016-04-12 00:00:00 | 20 | 0.333333 | Tuesday | 0 |\n| 1503960366 | 2016-04-12 01:00:00 |  8 | 0.133333 | Tuesday | 1 |\n| 1503960366 | 2016-04-12 02:00:00 |  7 | 0.116667 | Tuesday | 2 |\n| 1503960366 | 2016-04-12 03:00:00 |  0 | 0.000000 | Tuesday | 3 |\n| 1503960366 | 2016-04-12 04:00:00 |  0 | 0.000000 | Tuesday | 4 |\n| 1503960366 | 2016-04-12 05:00:00 |  0 | 0.000000 | Tuesday | 5 |\n\n",
            "text/latex": "A tibble: 6 × 6\n\\begin{tabular}{llllll}\n Id & ActivityHour & TotalIntensity & AverageIntensity & Days\\_of\\_Week & Hour\\_of\\_day\\\\\n <dbl> & <dttm> & <dbl> & <dbl> & <chr> & <int>\\\\\n\\hline\n\t 1503960366 & 2016-04-12 00:00:00 & 20 & 0.333333 & Tuesday & 0\\\\\n\t 1503960366 & 2016-04-12 01:00:00 &  8 & 0.133333 & Tuesday & 1\\\\\n\t 1503960366 & 2016-04-12 02:00:00 &  7 & 0.116667 & Tuesday & 2\\\\\n\t 1503960366 & 2016-04-12 03:00:00 &  0 & 0.000000 & Tuesday & 3\\\\\n\t 1503960366 & 2016-04-12 04:00:00 &  0 & 0.000000 & Tuesday & 4\\\\\n\t 1503960366 & 2016-04-12 05:00:00 &  0 & 0.000000 & Tuesday & 5\\\\\n\\end{tabular}\n",
            "text/plain": [
              "  Id         ActivityHour        TotalIntensity AverageIntensity Days_of_Week\n",
              "1 1503960366 2016-04-12 00:00:00 20             0.333333         Tuesday     \n",
              "2 1503960366 2016-04-12 01:00:00  8             0.133333         Tuesday     \n",
              "3 1503960366 2016-04-12 02:00:00  7             0.116667         Tuesday     \n",
              "4 1503960366 2016-04-12 03:00:00  0             0.000000         Tuesday     \n",
              "5 1503960366 2016-04-12 04:00:00  0             0.000000         Tuesday     \n",
              "6 1503960366 2016-04-12 05:00:00  0             0.000000         Tuesday     \n",
              "  Hour_of_day\n",
              "1 0          \n",
              "2 1          \n",
              "3 2          \n",
              "4 3          \n",
              "5 4          \n",
              "6 5          "
            ]
          },
          "metadata": {}
        }
      ],
      "source": [
        "#Adicionar coluna dias da semana ao dataset hourly_intensities\n",
        "#coluna hora do dia\n",
        "hourly_intensities_new <- hourly_intensities %>%\n",
        "mutate(Days_of_Week = weekdays(ActivityHour)) %>%\n",
        "mutate(Hour_of_day = hour(ActivityHour))\n",
        "\n",
        "head(hourly_intensities_new)"
      ]
    },
    {
      "cell_type": "code",
      "execution_count": 46,
      "id": "ece23861",
      "metadata": {
        "execution": {
          "iopub.execute_input": "2023-08-20T02:21:50.034323Z",
          "iopub.status.busy": "2023-08-20T02:21:50.032843Z",
          "iopub.status.idle": "2023-08-20T02:21:50.060836Z",
          "shell.execute_reply": "2023-08-20T02:21:50.059191Z"
        },
        "papermill": {
          "duration": 0.065511,
          "end_time": "2023-08-20T02:21:50.063112",
          "exception": false,
          "start_time": "2023-08-20T02:21:49.997601",
          "status": "completed"
        },
        "tags": [],
        "id": "ece23861",
        "colab": {
          "base_uri": "https://localhost:8080/",
          "height": 286
        },
        "outputId": "ab405d59-7a98-4f3c-fc39-4619bd87e751"
      },
      "outputs": [
        {
          "output_type": "display_data",
          "data": {
            "text/html": [
              "<table class=\"dataframe\">\n",
              "<caption>A tibble: 6 × 2</caption>\n",
              "<thead>\n",
              "\t<tr><th scope=col>Hour_of_day</th><th scope=col>Intensity_Hour</th></tr>\n",
              "\t<tr><th scope=col>&lt;int&gt;</th><th scope=col>&lt;dbl&gt;</th></tr>\n",
              "</thead>\n",
              "<tbody>\n",
              "\t<tr><td>0</td><td>1989</td></tr>\n",
              "\t<tr><td>1</td><td>1324</td></tr>\n",
              "\t<tr><td>2</td><td> 974</td></tr>\n",
              "\t<tr><td>3</td><td> 414</td></tr>\n",
              "\t<tr><td>4</td><td> 590</td></tr>\n",
              "\t<tr><td>5</td><td>4614</td></tr>\n",
              "</tbody>\n",
              "</table>\n"
            ],
            "text/markdown": "\nA tibble: 6 × 2\n\n| Hour_of_day &lt;int&gt; | Intensity_Hour &lt;dbl&gt; |\n|---|---|\n| 0 | 1989 |\n| 1 | 1324 |\n| 2 |  974 |\n| 3 |  414 |\n| 4 |  590 |\n| 5 | 4614 |\n\n",
            "text/latex": "A tibble: 6 × 2\n\\begin{tabular}{ll}\n Hour\\_of\\_day & Intensity\\_Hour\\\\\n <int> & <dbl>\\\\\n\\hline\n\t 0 & 1989\\\\\n\t 1 & 1324\\\\\n\t 2 &  974\\\\\n\t 3 &  414\\\\\n\t 4 &  590\\\\\n\t 5 & 4614\\\\\n\\end{tabular}\n",
            "text/plain": [
              "  Hour_of_day Intensity_Hour\n",
              "1 0           1989          \n",
              "2 1           1324          \n",
              "3 2            974          \n",
              "4 3            414          \n",
              "5 4            590          \n",
              "6 5           4614          "
            ]
          },
          "metadata": {}
        }
      ],
      "source": [
        "hourly_intensities_new_df2 <- hourly_intensities_new %>%\n",
        "group_by(Hour_of_day) %>%\n",
        "summarise(Intensity_Hour = sum(TotalIntensity))\n",
        "\n",
        "head(hourly_intensities_new_df2)\n"
      ]
    },
    {
      "cell_type": "code",
      "execution_count": 47,
      "id": "c22e469d",
      "metadata": {
        "execution": {
          "iopub.execute_input": "2023-08-20T02:21:50.119545Z",
          "iopub.status.busy": "2023-08-20T02:21:50.118376Z",
          "iopub.status.idle": "2023-08-20T02:21:50.393300Z",
          "shell.execute_reply": "2023-08-20T02:21:50.391540Z"
        },
        "papermill": {
          "duration": 0.305909,
          "end_time": "2023-08-20T02:21:50.395787",
          "exception": false,
          "start_time": "2023-08-20T02:21:50.089878",
          "status": "completed"
        },
        "tags": [],
        "id": "c22e469d",
        "colab": {
          "base_uri": "https://localhost:8080/",
          "height": 437
        },
        "outputId": "1867af82-f9ae-4dda-ff6e-948a36c18c47"
      },
      "outputs": [
        {
          "output_type": "display_data",
          "data": {
            "text/plain": [
              "plot without title"
            ],
            "image/png": "[encoded data removed]"
          },
          "metadata": {
            "image/png": {
              "width": 420,
              "height": 420
            }
          }
        }
      ],
      "source": [
        "p5 <- ggplot(hourly_intensities_new_df2, aes(x = Hour_of_day, y = Intensity_Hour)) +\n",
        "annotate(\"rect\", xmin = 17, xmax = 19,\n",
        "         ymin = -Inf, ymax = Inf, fill=\"darkseagreen3\",  alpha = 0.4) + #, alpha = 0.2) +\n",
        "geom_line() +\n",
        "geom_point() +\n",
        "labs(\n",
        "    title= \"Níveis de Intensidade no dia\",\n",
        "    subtitle= \"Período do dia de maior nível de intensidade\",\n",
        "    caption = \"Dados de usuários de domínio público do FitBit Fitness Tracker Data.\",\n",
        "    tag = \"Figura 5\",\n",
        "    x = \"Período do dia(Horas)\",\n",
        "    y = \"Nível de Intensidade\") +\n",
        "\n",
        "geom_text(aes(label=Hour_of_day), vjust =0, nudge_x = 0, nudge_y = 400,\n",
        "          fontface=\"bold\", size=4, color= \"black\") +\n",
        "\n",
        "theme(axis.text.y = element_text(size=12))+\n",
        "theme(axis.text.x = element_text(size=12))\n",
        "\n",
        "p5 + theme_classic() +\n",
        "theme(plot.title = element_text(size=30, color= \"black\"),\n",
        "     plot.subtitle = element_text(size=13))"
      ]
    },
    {
      "cell_type": "markdown",
      "id": "208687fe",
      "metadata": {
        "papermill": {
          "duration": 0.026906,
          "end_time": "2023-08-20T02:21:50.450288",
          "exception": false,
          "start_time": "2023-08-20T02:21:50.423382",
          "status": "completed"
        },
        "tags": [],
        "id": "208687fe"
      },
      "source": [
        "No gráfico da figura 5: Níveis de Intensidade no dia, Conseguimos encontrar tendências de horários de maior intensidade no dia. Das 17hrs às 19hrs são os horários dos dias com maiores níveis de intensidade. Logo após às 19hrs temos um declínio no gráfico. Isso remete a uma atividade fisica após o horário comercial de trabalho.\n",
        "\n",
        "Percebe-se também no gráfico, que os usuários começam as suas atividades diárias às 4hrs.\n",
        "\n",
        "Qual será o dia da semana de maior intensidade?"
      ]
    },
    {
      "cell_type": "code",
      "execution_count": 48,
      "id": "569321a0",
      "metadata": {
        "execution": {
          "iopub.execute_input": "2023-08-20T02:21:50.507349Z",
          "iopub.status.busy": "2023-08-20T02:21:50.506171Z",
          "iopub.status.idle": "2023-08-20T02:21:50.563862Z",
          "shell.execute_reply": "2023-08-20T02:21:50.562224Z"
        },
        "papermill": {
          "duration": 0.088869,
          "end_time": "2023-08-20T02:21:50.566131",
          "exception": false,
          "start_time": "2023-08-20T02:21:50.477262",
          "status": "completed"
        },
        "tags": [],
        "id": "569321a0",
        "colab": {
          "base_uri": "https://localhost:8080/",
          "height": 321
        },
        "outputId": "793ad6e0-9ac7-4cdd-9143-710eb42e2695"
      },
      "outputs": [
        {
          "output_type": "stream",
          "name": "stderr",
          "text": [
            "\u001b[1m\u001b[22m`summarise()` has grouped output by 'Days_of_Week'. You can override using the\n",
            "`.groups` argument.\n"
          ]
        },
        {
          "output_type": "display_data",
          "data": {
            "text/html": [
              "<table class=\"dataframe\">\n",
              "<caption>A grouped_df: 6 × 3</caption>\n",
              "<thead>\n",
              "\t<tr><th scope=col>Days_of_Week</th><th scope=col>Hour_of_day</th><th scope=col>Active_Day_Hour</th></tr>\n",
              "\t<tr><th scope=col>&lt;chr&gt;</th><th scope=col>&lt;int&gt;</th><th scope=col>&lt;dbl&gt;</th></tr>\n",
              "</thead>\n",
              "<tbody>\n",
              "\t<tr><td>Friday</td><td>0</td><td>296</td></tr>\n",
              "\t<tr><td>Friday</td><td>1</td><td>152</td></tr>\n",
              "\t<tr><td>Friday</td><td>2</td><td>122</td></tr>\n",
              "\t<tr><td>Friday</td><td>3</td><td>103</td></tr>\n",
              "\t<tr><td>Friday</td><td>4</td><td> 93</td></tr>\n",
              "\t<tr><td>Friday</td><td>5</td><td>682</td></tr>\n",
              "</tbody>\n",
              "</table>\n"
            ],
            "text/markdown": "\nA grouped_df: 6 × 3\n\n| Days_of_Week &lt;chr&gt; | Hour_of_day &lt;int&gt; | Active_Day_Hour &lt;dbl&gt; |\n|---|---|---|\n| Friday | 0 | 296 |\n| Friday | 1 | 152 |\n| Friday | 2 | 122 |\n| Friday | 3 | 103 |\n| Friday | 4 |  93 |\n| Friday | 5 | 682 |\n\n",
            "text/latex": "A grouped\\_df: 6 × 3\n\\begin{tabular}{lll}\n Days\\_of\\_Week & Hour\\_of\\_day & Active\\_Day\\_Hour\\\\\n <chr> & <int> & <dbl>\\\\\n\\hline\n\t Friday & 0 & 296\\\\\n\t Friday & 1 & 152\\\\\n\t Friday & 2 & 122\\\\\n\t Friday & 3 & 103\\\\\n\t Friday & 4 &  93\\\\\n\t Friday & 5 & 682\\\\\n\\end{tabular}\n",
            "text/plain": [
              "  Days_of_Week Hour_of_day Active_Day_Hour\n",
              "1 Friday       0           296            \n",
              "2 Friday       1           152            \n",
              "3 Friday       2           122            \n",
              "4 Friday       3           103            \n",
              "5 Friday       4            93            \n",
              "6 Friday       5           682            "
            ]
          },
          "metadata": {}
        }
      ],
      "source": [
        "hourly_intensities_new_df3 <- hourly_intensities_new %>%\n",
        "group_by(Days_of_Week, Hour_of_day) %>%\n",
        "summarize(Active_Day_Hour = sum(TotalIntensity))\n",
        "\n",
        "\n",
        "head(hourly_intensities_new_df3)"
      ]
    },
    {
      "cell_type": "code",
      "execution_count": 49,
      "id": "c865ac60",
      "metadata": {
        "execution": {
          "iopub.execute_input": "2023-08-20T02:21:50.624568Z",
          "iopub.status.busy": "2023-08-20T02:21:50.623402Z",
          "iopub.status.idle": "2023-08-20T02:21:51.207487Z",
          "shell.execute_reply": "2023-08-20T02:21:51.205284Z"
        },
        "papermill": {
          "duration": 0.61654,
          "end_time": "2023-08-20T02:21:51.210642",
          "exception": false,
          "start_time": "2023-08-20T02:21:50.594102",
          "status": "completed"
        },
        "tags": [],
        "id": "c865ac60",
        "colab": {
          "base_uri": "https://localhost:8080/",
          "height": 437
        },
        "outputId": "20c47259-65c8-4faf-a705-322d06e88308"
      },
      "outputs": [
        {
          "output_type": "display_data",
          "data": {
            "text/plain": [
              "plot without title"
            ],
            "image/png": "[encoded data removed]"
          },
          "metadata": {
            "image/png": {
              "width": 420,
              "height": 420
            }
          }
        }
      ],
      "source": [
        "p6 <- ggplot(hourly_intensities_new_df3, aes(x = Hour_of_day, y = Active_Day_Hour), color = Days_of_Week) +\n",
        "facet_wrap(~Days_of_Week, nrow = 7) +\n",
        "  annotate(\"rect\",\n",
        "           xmin = 17, xmax = 19,\n",
        "           ymin = -Inf, ymax = Inf,\n",
        "           fill=\"darkseagreen3\") + #, alpha = 0.2) +\n",
        "geom_line() +\n",
        "geom_point() +\n",
        "labs(\n",
        "    title= \"Níveis de Intensidade no dia\",\n",
        "    subtitle= \"Período do dia de maior nível de intensidade\",\n",
        "    caption = \"Dados de usuários de domínio público do FitBit Fitness Tracker Data.\",\n",
        "    tag = \"Figura 6\",\n",
        "    x = \"Período do dia(Horas)\",\n",
        "    y = \"Nível de Intensidade\") +\n",
        "\n",
        "geom_text(aes(label=Hour_of_day), vjust =0, nudge_x = 0, nudge_y = 400,\n",
        "          fontface=\"bold\", size=4, color= \"black\") +\n",
        "\n",
        "theme(axis.text.y = element_text(size=12))+\n",
        "theme(axis.text.x = element_text(size=12))\n",
        "\n",
        "p6 + theme_classic() +\n",
        "theme(plot.title = element_text(size=30, color= \"black\"),\n",
        "     plot.subtitle = element_text(size=13))"
      ]
    },
    {
      "cell_type": "markdown",
      "id": "91176580",
      "metadata": {
        "papermill": {
          "duration": 0.029559,
          "end_time": "2023-08-20T02:21:51.270757",
          "exception": false,
          "start_time": "2023-08-20T02:21:51.241198",
          "status": "completed"
        },
        "tags": [],
        "id": "91176580"
      },
      "source": [
        "No gráfico da Figura 6 percebe-se que Sábado apresenta uma curva um pouco diferente do restante dos dias da semana, onde às 13hrs é o momento do dia de maior intensidade na rotina dos usuários.\n",
        "\n",
        "Quarta-feira é o dia da semana com maior nível de intensidade nos horários destacados na figura 5.\n"
      ]
    },
    {
      "cell_type": "markdown",
      "id": "70a7ed97",
      "metadata": {
        "papermill": {
          "duration": 0.029967,
          "end_time": "2023-08-20T02:21:51.330731",
          "exception": false,
          "start_time": "2023-08-20T02:21:51.300764",
          "status": "completed"
        },
        "tags": [],
        "id": "70a7ed97"
      },
      "source": [
        "### 6. Agir\n",
        "\n",
        "Os dados apontam para uma tendência de uso dos dispositivos móveis como forma de monitorar as atividades rotineiras do dia a dia, são usuários com moderado estímulo ativo a prática esportiva, onde o resultado da ánalise de minutos ativos se mostrou dentro do recomendado pela [Diretrizes da OMS para atividade física e comportamento sedentário](http://apps.who.int/iris/bitstream/handle/10665/337001/9789240014886-por.pdf) de pelo menos 150 a 300 minutos de atividade física de moderada intensidade por semana (ou atividade física vigorosa equivalente) para todos os adultos.\n",
        "\n",
        "Esses usuários possuem uma rotina agitada com os níveis de intensidade se iniciando às 4hrs. Os níveis de intensidade se intensificam das 17hrs às 19hrs, muito provável por decorrência de atividade física após expediente de trabalho.\n",
        "\n",
        "A porcentagem de minutos de atividade sedentária de quase 81% provavelmente seja resultado da rotina de trabalho em frente a computadores.\n",
        "\n",
        "A relação de passos e diários e calorias gastas apontam para uma correlação positiva, isso indica hábitos de caminhada de baixa à moderada intensidade.\n",
        "\n",
        "Campanhas de marketing para mulheres que possuem uma rotina diária agitada, mas com horário bem definido para prática de atividade física, pode ser uma boa oportunidade para gerar conexão e alavancar vendas dos produtos Leaf e Time que possuem como caracteristica, monitorar atividades do dia a dia para promover o bem estar do usuário.   \n",
        "\n",
        "\n",
        "\n",
        "\n",
        "\n",
        "\n"
      ]
    }
  ],
  "metadata": {
    "kernelspec": {
      "display_name": "R",
      "name": "ir"
    },
    "language_info": {
      "codemirror_mode": "r",
      "file_extension": ".r",
      "mimetype": "text/x-r-source",
      "name": "R",
      "pygments_lexer": "r",
      "version": "4.0.5"
    },
    "papermill": {
      "default_parameters": {},
      "duration": 133.85246,
      "end_time": "2023-08-20T02:21:51.480683",
      "environment_variables": {},
      "exception": null,
      "input_path": "__notebook__.ipynb",
      "output_path": "__notebook__.ipynb",
      "parameters": {},
      "start_time": "2023-08-20T02:19:37.628223",
      "version": "2.4.0"
    },
    "colab": {
      "provenance": [],
      "include_colab_link": true
    }
  },
  "nbformat": 4,
  "nbformat_minor": 5
}